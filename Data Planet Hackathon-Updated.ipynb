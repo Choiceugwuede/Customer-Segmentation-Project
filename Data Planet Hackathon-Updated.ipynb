{
 "cells": [
  {
   "cell_type": "markdown",
   "id": "28aa7a0e",
   "metadata": {},
   "source": [
    "# Importing libraries"
   ]
  },
  {
   "cell_type": "code",
   "execution_count": 192,
   "id": "6d603da0",
   "metadata": {},
   "outputs": [],
   "source": [
    "import pandas as pd\n",
    "from category_encoders import *\n",
    "import seaborn as sns\n",
    "from sklearn.preprocessing import LabelEncoder\n",
    "import matplotlib.pyplot as plt\n",
    "import numpy as np\n",
    "from datetime import datetime\n",
    "from math import floor\n",
    "\n",
    "import seaborn as sns\n",
    "from sklearn.preprocessing import StandardScaler\n",
    "\n",
    "scaler = StandardScaler ()\n",
    "from sklearn.decomposition import PCA\n",
    "from sklearn.cluster import KMeans, AgglomerativeClustering, DBSCAN, SpectralClustering\n",
    "from sklearn.mixture import GaussianMixture\n",
    "from sklearn.metrics import silhouette_samples, silhouette_score\n",
    "from sklearn.tree import DecisionTreeClassifier\n",
    "from sklearn.model_selection import train_test_split\n",
    "from sklearn.metrics import classification_report\n",
    "from sklearn import tree\n",
    "from sklearn import metrics\n",
    "\n",
    "# Data features\n",
    "from numpy import set_printoptions\n",
    "from sklearn.feature_selection import RFE\n",
    "from sklearn.feature_selection import SelectKBest, chi2\n",
    "\n",
    "import warnings\n",
    "warnings.filterwarnings('ignore')\n",
    "\n",
    "\n",
    "\n"
   ]
  },
  {
   "cell_type": "markdown",
   "id": "67854262",
   "metadata": {},
   "source": [
    "## Importing Data from excel"
   ]
  },
  {
   "cell_type": "code",
   "execution_count": 193,
   "id": "bc2f1173",
   "metadata": {},
   "outputs": [],
   "source": [
    "Data=pd.read_excel(\"Raw_data.xlsx\", sheet_name=None)"
   ]
  },
  {
   "cell_type": "markdown",
   "id": "08ae2158",
   "metadata": {},
   "source": [
    "### Importing transactions sheet"
   ]
  },
  {
   "cell_type": "code",
   "execution_count": 194,
   "id": "66f4039c",
   "metadata": {},
   "outputs": [],
   "source": [
    "Transactions=Data[\"Transactions\"]"
   ]
  },
  {
   "cell_type": "code",
   "execution_count": 195,
   "id": "3cf25e31",
   "metadata": {},
   "outputs": [],
   "source": [
    "T_copy=Transactions.copy()"
   ]
  },
  {
   "cell_type": "markdown",
   "id": "3ed933b0",
   "metadata": {},
   "source": [
    "# EDA(Exploratory Data Analysis)"
   ]
  },
  {
   "cell_type": "code",
   "execution_count": 196,
   "id": "cb2122da",
   "metadata": {},
   "outputs": [
    {
     "data": {
      "text/html": [
       "<div>\n",
       "<style scoped>\n",
       "    .dataframe tbody tr th:only-of-type {\n",
       "        vertical-align: middle;\n",
       "    }\n",
       "\n",
       "    .dataframe tbody tr th {\n",
       "        vertical-align: top;\n",
       "    }\n",
       "\n",
       "    .dataframe thead th {\n",
       "        text-align: right;\n",
       "    }\n",
       "</style>\n",
       "<table border=\"1\" class=\"dataframe\">\n",
       "  <thead>\n",
       "    <tr style=\"text-align: right;\">\n",
       "      <th></th>\n",
       "      <th>transaction_id</th>\n",
       "      <th>product_id</th>\n",
       "      <th>customer_id</th>\n",
       "      <th>transaction_date</th>\n",
       "      <th>online_order</th>\n",
       "      <th>order_status</th>\n",
       "      <th>brand</th>\n",
       "      <th>product_line</th>\n",
       "      <th>product_class</th>\n",
       "      <th>product_size</th>\n",
       "      <th>list_price</th>\n",
       "      <th>standard_cost</th>\n",
       "      <th>product_first_sold_date</th>\n",
       "    </tr>\n",
       "  </thead>\n",
       "  <tbody>\n",
       "    <tr>\n",
       "      <th>0</th>\n",
       "      <td>1</td>\n",
       "      <td>2</td>\n",
       "      <td>2950</td>\n",
       "      <td>2017-02-25</td>\n",
       "      <td>0.0</td>\n",
       "      <td>Approved</td>\n",
       "      <td>Solex</td>\n",
       "      <td>Standard</td>\n",
       "      <td>medium</td>\n",
       "      <td>medium</td>\n",
       "      <td>71.49</td>\n",
       "      <td>53.62</td>\n",
       "      <td>41245.0</td>\n",
       "    </tr>\n",
       "    <tr>\n",
       "      <th>1</th>\n",
       "      <td>2</td>\n",
       "      <td>3</td>\n",
       "      <td>3120</td>\n",
       "      <td>2017-05-21</td>\n",
       "      <td>1.0</td>\n",
       "      <td>Approved</td>\n",
       "      <td>Trek Bicycles</td>\n",
       "      <td>Standard</td>\n",
       "      <td>medium</td>\n",
       "      <td>large</td>\n",
       "      <td>2091.47</td>\n",
       "      <td>388.92</td>\n",
       "      <td>41701.0</td>\n",
       "    </tr>\n",
       "    <tr>\n",
       "      <th>2</th>\n",
       "      <td>3</td>\n",
       "      <td>37</td>\n",
       "      <td>402</td>\n",
       "      <td>2017-10-16</td>\n",
       "      <td>0.0</td>\n",
       "      <td>Approved</td>\n",
       "      <td>OHM Cycles</td>\n",
       "      <td>Standard</td>\n",
       "      <td>low</td>\n",
       "      <td>medium</td>\n",
       "      <td>1793.43</td>\n",
       "      <td>248.82</td>\n",
       "      <td>36361.0</td>\n",
       "    </tr>\n",
       "    <tr>\n",
       "      <th>3</th>\n",
       "      <td>4</td>\n",
       "      <td>88</td>\n",
       "      <td>3135</td>\n",
       "      <td>2017-08-31</td>\n",
       "      <td>0.0</td>\n",
       "      <td>Approved</td>\n",
       "      <td>Norco Bicycles</td>\n",
       "      <td>Standard</td>\n",
       "      <td>medium</td>\n",
       "      <td>medium</td>\n",
       "      <td>1198.46</td>\n",
       "      <td>381.10</td>\n",
       "      <td>36145.0</td>\n",
       "    </tr>\n",
       "    <tr>\n",
       "      <th>4</th>\n",
       "      <td>5</td>\n",
       "      <td>78</td>\n",
       "      <td>787</td>\n",
       "      <td>2017-10-01</td>\n",
       "      <td>1.0</td>\n",
       "      <td>Approved</td>\n",
       "      <td>Giant Bicycles</td>\n",
       "      <td>Standard</td>\n",
       "      <td>medium</td>\n",
       "      <td>large</td>\n",
       "      <td>1765.30</td>\n",
       "      <td>709.48</td>\n",
       "      <td>42226.0</td>\n",
       "    </tr>\n",
       "  </tbody>\n",
       "</table>\n",
       "</div>"
      ],
      "text/plain": [
       "   transaction_id  product_id  customer_id transaction_date  online_order  \\\n",
       "0               1           2         2950       2017-02-25           0.0   \n",
       "1               2           3         3120       2017-05-21           1.0   \n",
       "2               3          37          402       2017-10-16           0.0   \n",
       "3               4          88         3135       2017-08-31           0.0   \n",
       "4               5          78          787       2017-10-01           1.0   \n",
       "\n",
       "  order_status           brand product_line product_class product_size  \\\n",
       "0     Approved           Solex     Standard        medium       medium   \n",
       "1     Approved   Trek Bicycles     Standard        medium        large   \n",
       "2     Approved      OHM Cycles     Standard           low       medium   \n",
       "3     Approved  Norco Bicycles     Standard        medium       medium   \n",
       "4     Approved  Giant Bicycles     Standard        medium        large   \n",
       "\n",
       "   list_price  standard_cost  product_first_sold_date  \n",
       "0       71.49          53.62                  41245.0  \n",
       "1     2091.47         388.92                  41701.0  \n",
       "2     1793.43         248.82                  36361.0  \n",
       "3     1198.46         381.10                  36145.0  \n",
       "4     1765.30         709.48                  42226.0  "
      ]
     },
     "execution_count": 196,
     "metadata": {},
     "output_type": "execute_result"
    }
   ],
   "source": [
    "T_copy.head(5)"
   ]
  },
  {
   "cell_type": "code",
   "execution_count": 197,
   "id": "ba4ae2e8",
   "metadata": {},
   "outputs": [
    {
     "data": {
      "text/plain": [
       "(20000, 13)"
      ]
     },
     "execution_count": 197,
     "metadata": {},
     "output_type": "execute_result"
    }
   ],
   "source": [
    "#checking characteristics of data\n",
    "T_copy.shape"
   ]
  },
  {
   "cell_type": "code",
   "execution_count": 198,
   "id": "34ced1f9",
   "metadata": {},
   "outputs": [
    {
     "name": "stdout",
     "output_type": "stream",
     "text": [
      "<class 'pandas.core.frame.DataFrame'>\n",
      "RangeIndex: 20000 entries, 0 to 19999\n",
      "Data columns (total 13 columns):\n",
      " #   Column                   Non-Null Count  Dtype         \n",
      "---  ------                   --------------  -----         \n",
      " 0   transaction_id           20000 non-null  int64         \n",
      " 1   product_id               20000 non-null  int64         \n",
      " 2   customer_id              20000 non-null  int64         \n",
      " 3   transaction_date         20000 non-null  datetime64[ns]\n",
      " 4   online_order             19640 non-null  float64       \n",
      " 5   order_status             20000 non-null  object        \n",
      " 6   brand                    19803 non-null  object        \n",
      " 7   product_line             19803 non-null  object        \n",
      " 8   product_class            19803 non-null  object        \n",
      " 9   product_size             19803 non-null  object        \n",
      " 10  list_price               20000 non-null  float64       \n",
      " 11  standard_cost            19803 non-null  float64       \n",
      " 12  product_first_sold_date  19803 non-null  float64       \n",
      "dtypes: datetime64[ns](1), float64(4), int64(3), object(5)\n",
      "memory usage: 2.0+ MB\n"
     ]
    }
   ],
   "source": [
    "#Checking datatypes of columns\n",
    "T_copy.info()"
   ]
  },
  {
   "cell_type": "markdown",
   "id": "184f90e1",
   "metadata": {},
   "source": [
    "### Checking characteristics of data"
   ]
  },
  {
   "cell_type": "code",
   "execution_count": 209,
   "id": "fc7b4298",
   "metadata": {},
   "outputs": [
    {
     "data": {
      "text/html": [
       "<div>\n",
       "<style scoped>\n",
       "    .dataframe tbody tr th:only-of-type {\n",
       "        vertical-align: middle;\n",
       "    }\n",
       "\n",
       "    .dataframe tbody tr th {\n",
       "        vertical-align: top;\n",
       "    }\n",
       "\n",
       "    .dataframe thead th {\n",
       "        text-align: right;\n",
       "    }\n",
       "</style>\n",
       "<table border=\"1\" class=\"dataframe\">\n",
       "  <thead>\n",
       "    <tr style=\"text-align: right;\">\n",
       "      <th></th>\n",
       "      <th>transaction_id</th>\n",
       "      <th>product_id</th>\n",
       "      <th>customer_id</th>\n",
       "      <th>transaction_date</th>\n",
       "      <th>online_order</th>\n",
       "      <th>list_price</th>\n",
       "      <th>standard_cost</th>\n",
       "      <th>product_first_sold_date</th>\n",
       "    </tr>\n",
       "  </thead>\n",
       "  <tbody>\n",
       "    <tr>\n",
       "      <th>count</th>\n",
       "      <td>20000.000000</td>\n",
       "      <td>20000.00000</td>\n",
       "      <td>20000.000000</td>\n",
       "      <td>20000</td>\n",
       "      <td>19640.000000</td>\n",
       "      <td>20000.000000</td>\n",
       "      <td>19803.000000</td>\n",
       "      <td>19803</td>\n",
       "    </tr>\n",
       "    <tr>\n",
       "      <th>mean</th>\n",
       "      <td>10000.500000</td>\n",
       "      <td>45.36465</td>\n",
       "      <td>1738.246050</td>\n",
       "      <td>2017-07-01 14:08:05.280000</td>\n",
       "      <td>0.500458</td>\n",
       "      <td>1107.829449</td>\n",
       "      <td>556.046951</td>\n",
       "      <td>1970-01-01 10:36:39.776549007</td>\n",
       "    </tr>\n",
       "    <tr>\n",
       "      <th>min</th>\n",
       "      <td>1.000000</td>\n",
       "      <td>0.00000</td>\n",
       "      <td>1.000000</td>\n",
       "      <td>2017-01-01 00:00:00</td>\n",
       "      <td>0.000000</td>\n",
       "      <td>12.010000</td>\n",
       "      <td>7.210000</td>\n",
       "      <td>1970-01-01 09:14:19</td>\n",
       "    </tr>\n",
       "    <tr>\n",
       "      <th>25%</th>\n",
       "      <td>5000.750000</td>\n",
       "      <td>18.00000</td>\n",
       "      <td>857.750000</td>\n",
       "      <td>2017-04-01 00:00:00</td>\n",
       "      <td>0.000000</td>\n",
       "      <td>575.270000</td>\n",
       "      <td>215.140000</td>\n",
       "      <td>1970-01-01 09:54:27</td>\n",
       "    </tr>\n",
       "    <tr>\n",
       "      <th>50%</th>\n",
       "      <td>10000.500000</td>\n",
       "      <td>44.00000</td>\n",
       "      <td>1736.000000</td>\n",
       "      <td>2017-07-03 00:00:00</td>\n",
       "      <td>1.000000</td>\n",
       "      <td>1163.890000</td>\n",
       "      <td>507.580000</td>\n",
       "      <td>1970-01-01 10:36:56</td>\n",
       "    </tr>\n",
       "    <tr>\n",
       "      <th>75%</th>\n",
       "      <td>15000.250000</td>\n",
       "      <td>72.00000</td>\n",
       "      <td>2613.000000</td>\n",
       "      <td>2017-10-02 00:00:00</td>\n",
       "      <td>1.000000</td>\n",
       "      <td>1635.300000</td>\n",
       "      <td>795.100000</td>\n",
       "      <td>1970-01-01 11:17:52</td>\n",
       "    </tr>\n",
       "    <tr>\n",
       "      <th>max</th>\n",
       "      <td>20000.000000</td>\n",
       "      <td>100.00000</td>\n",
       "      <td>5034.000000</td>\n",
       "      <td>2017-12-30 00:00:00</td>\n",
       "      <td>1.000000</td>\n",
       "      <td>2091.470000</td>\n",
       "      <td>1759.850000</td>\n",
       "      <td>1970-01-01 11:51:50</td>\n",
       "    </tr>\n",
       "    <tr>\n",
       "      <th>std</th>\n",
       "      <td>5773.647028</td>\n",
       "      <td>30.75359</td>\n",
       "      <td>1011.951046</td>\n",
       "      <td>NaN</td>\n",
       "      <td>0.500013</td>\n",
       "      <td>582.825242</td>\n",
       "      <td>405.955660</td>\n",
       "      <td>NaN</td>\n",
       "    </tr>\n",
       "  </tbody>\n",
       "</table>\n",
       "</div>"
      ],
      "text/plain": [
       "       transaction_id   product_id   customer_id            transaction_date  \\\n",
       "count    20000.000000  20000.00000  20000.000000                       20000   \n",
       "mean     10000.500000     45.36465   1738.246050  2017-07-01 14:08:05.280000   \n",
       "min          1.000000      0.00000      1.000000         2017-01-01 00:00:00   \n",
       "25%       5000.750000     18.00000    857.750000         2017-04-01 00:00:00   \n",
       "50%      10000.500000     44.00000   1736.000000         2017-07-03 00:00:00   \n",
       "75%      15000.250000     72.00000   2613.000000         2017-10-02 00:00:00   \n",
       "max      20000.000000    100.00000   5034.000000         2017-12-30 00:00:00   \n",
       "std       5773.647028     30.75359   1011.951046                         NaN   \n",
       "\n",
       "       online_order    list_price  standard_cost  \\\n",
       "count  19640.000000  20000.000000   19803.000000   \n",
       "mean       0.500458   1107.829449     556.046951   \n",
       "min        0.000000     12.010000       7.210000   \n",
       "25%        0.000000    575.270000     215.140000   \n",
       "50%        1.000000   1163.890000     507.580000   \n",
       "75%        1.000000   1635.300000     795.100000   \n",
       "max        1.000000   2091.470000    1759.850000   \n",
       "std        0.500013    582.825242     405.955660   \n",
       "\n",
       "             product_first_sold_date  \n",
       "count                          19803  \n",
       "mean   1970-01-01 10:36:39.776549007  \n",
       "min              1970-01-01 09:14:19  \n",
       "25%              1970-01-01 09:54:27  \n",
       "50%              1970-01-01 10:36:56  \n",
       "75%              1970-01-01 11:17:52  \n",
       "max              1970-01-01 11:51:50  \n",
       "std                              NaN  "
      ]
     },
     "execution_count": 209,
     "metadata": {},
     "output_type": "execute_result"
    }
   ],
   "source": [
    "T_copy.describe()"
   ]
  },
  {
   "cell_type": "code",
   "execution_count": 210,
   "id": "19292490",
   "metadata": {},
   "outputs": [
    {
     "data": {
      "text/html": [
       "<div>\n",
       "<style scoped>\n",
       "    .dataframe tbody tr th:only-of-type {\n",
       "        vertical-align: middle;\n",
       "    }\n",
       "\n",
       "    .dataframe tbody tr th {\n",
       "        vertical-align: top;\n",
       "    }\n",
       "\n",
       "    .dataframe thead th {\n",
       "        text-align: right;\n",
       "    }\n",
       "</style>\n",
       "<table border=\"1\" class=\"dataframe\">\n",
       "  <thead>\n",
       "    <tr style=\"text-align: right;\">\n",
       "      <th></th>\n",
       "      <th>order_status</th>\n",
       "      <th>brand</th>\n",
       "      <th>product_line</th>\n",
       "      <th>product_class</th>\n",
       "      <th>product_size</th>\n",
       "    </tr>\n",
       "  </thead>\n",
       "  <tbody>\n",
       "    <tr>\n",
       "      <th>count</th>\n",
       "      <td>20000</td>\n",
       "      <td>19803</td>\n",
       "      <td>19803</td>\n",
       "      <td>19803</td>\n",
       "      <td>19803</td>\n",
       "    </tr>\n",
       "    <tr>\n",
       "      <th>unique</th>\n",
       "      <td>2</td>\n",
       "      <td>6</td>\n",
       "      <td>4</td>\n",
       "      <td>3</td>\n",
       "      <td>3</td>\n",
       "    </tr>\n",
       "    <tr>\n",
       "      <th>top</th>\n",
       "      <td>Approved</td>\n",
       "      <td>Solex</td>\n",
       "      <td>Standard</td>\n",
       "      <td>medium</td>\n",
       "      <td>medium</td>\n",
       "    </tr>\n",
       "    <tr>\n",
       "      <th>freq</th>\n",
       "      <td>19821</td>\n",
       "      <td>4253</td>\n",
       "      <td>14176</td>\n",
       "      <td>13826</td>\n",
       "      <td>12990</td>\n",
       "    </tr>\n",
       "  </tbody>\n",
       "</table>\n",
       "</div>"
      ],
      "text/plain": [
       "       order_status  brand product_line product_class product_size\n",
       "count         20000  19803        19803         19803        19803\n",
       "unique            2      6            4             3            3\n",
       "top        Approved  Solex     Standard        medium       medium\n",
       "freq          19821   4253        14176         13826        12990"
      ]
     },
     "execution_count": 210,
     "metadata": {},
     "output_type": "execute_result"
    }
   ],
   "source": [
    "T_copy.describe(include='object')"
   ]
  },
  {
   "cell_type": "markdown",
   "id": "df82d21d",
   "metadata": {},
   "source": [
    "### Checking  for missing (null) values"
   ]
  },
  {
   "cell_type": "code",
   "execution_count": 211,
   "id": "303bda40",
   "metadata": {},
   "outputs": [
    {
     "data": {
      "text/plain": [
       "transaction_id               0\n",
       "product_id                   0\n",
       "customer_id                  0\n",
       "transaction_date             0\n",
       "online_order               360\n",
       "order_status                 0\n",
       "brand                      197\n",
       "product_line               197\n",
       "product_class              197\n",
       "product_size               197\n",
       "list_price                   0\n",
       "standard_cost              197\n",
       "product_first_sold_date    197\n",
       "dtype: int64"
      ]
     },
     "execution_count": 211,
     "metadata": {},
     "output_type": "execute_result"
    }
   ],
   "source": [
    "T_copy.isnull().sum()"
   ]
  },
  {
   "cell_type": "markdown",
   "id": "ae6b1eba",
   "metadata": {},
   "source": [
    "### Checking for duplicates"
   ]
  },
  {
   "cell_type": "code",
   "execution_count": 212,
   "id": "59ef7a51",
   "metadata": {},
   "outputs": [
    {
     "data": {
      "text/plain": [
       "0"
      ]
     },
     "execution_count": 212,
     "metadata": {},
     "output_type": "execute_result"
    }
   ],
   "source": [
    "T_copy.duplicated().sum()"
   ]
  },
  {
   "cell_type": "markdown",
   "id": "5fb1d5a1",
   "metadata": {},
   "source": [
    "## Data preprocessing"
   ]
  },
  {
   "cell_type": "code",
   "execution_count": 213,
   "id": "4070138c",
   "metadata": {},
   "outputs": [],
   "source": [
    "#Converting product_first_sold_date to datetime column\n",
    "T_copy['product_first_sold_date'] = pd.to_datetime(T_copy['product_first_sold_date'], unit='s')"
   ]
  },
  {
   "cell_type": "code",
   "execution_count": 214,
   "id": "cd4e171e",
   "metadata": {},
   "outputs": [
    {
     "name": "stdout",
     "output_type": "stream",
     "text": [
      "<class 'pandas.core.frame.DataFrame'>\n",
      "RangeIndex: 20000 entries, 0 to 19999\n",
      "Data columns (total 13 columns):\n",
      " #   Column                   Non-Null Count  Dtype         \n",
      "---  ------                   --------------  -----         \n",
      " 0   transaction_id           20000 non-null  int64         \n",
      " 1   product_id               20000 non-null  int64         \n",
      " 2   customer_id              20000 non-null  int64         \n",
      " 3   transaction_date         20000 non-null  datetime64[ns]\n",
      " 4   online_order             19640 non-null  float64       \n",
      " 5   order_status             20000 non-null  object        \n",
      " 6   brand                    19803 non-null  object        \n",
      " 7   product_line             19803 non-null  object        \n",
      " 8   product_class            19803 non-null  object        \n",
      " 9   product_size             19803 non-null  object        \n",
      " 10  list_price               20000 non-null  float64       \n",
      " 11  standard_cost            19803 non-null  float64       \n",
      " 12  product_first_sold_date  19803 non-null  datetime64[ns]\n",
      "dtypes: datetime64[ns](2), float64(3), int64(3), object(5)\n",
      "memory usage: 2.0+ MB\n"
     ]
    }
   ],
   "source": [
    "T_copy.info()"
   ]
  },
  {
   "cell_type": "markdown",
   "id": "066ecc26",
   "metadata": {},
   "source": [
    "### Replacing missing values"
   ]
  },
  {
   "cell_type": "markdown",
   "id": "391b3ffe",
   "metadata": {},
   "source": [
    "#### online_order"
   ]
  },
  {
   "cell_type": "code",
   "execution_count": 215,
   "id": "c2dfcb1c",
   "metadata": {},
   "outputs": [
    {
     "data": {
      "text/plain": [
       "online_order\n",
       "1.0    9829\n",
       "0.0    9811\n",
       "Name: count, dtype: int64"
      ]
     },
     "execution_count": 215,
     "metadata": {},
     "output_type": "execute_result"
    }
   ],
   "source": [
    "T_copy['online_order'].value_counts()"
   ]
  },
  {
   "cell_type": "code",
   "execution_count": 216,
   "id": "d0cfece0",
   "metadata": {},
   "outputs": [],
   "source": [
    "T_copy['online_order'].fillna(T_copy['online_order'].mode()[0],inplace=True)"
   ]
  },
  {
   "cell_type": "code",
   "execution_count": 217,
   "id": "cda5d9e0",
   "metadata": {},
   "outputs": [
    {
     "data": {
      "text/plain": [
       "transaction_id               0\n",
       "product_id                   0\n",
       "customer_id                  0\n",
       "transaction_date             0\n",
       "online_order                 0\n",
       "order_status                 0\n",
       "brand                      197\n",
       "product_line               197\n",
       "product_class              197\n",
       "product_size               197\n",
       "list_price                   0\n",
       "standard_cost              197\n",
       "product_first_sold_date    197\n",
       "dtype: int64"
      ]
     },
     "execution_count": 217,
     "metadata": {},
     "output_type": "execute_result"
    }
   ],
   "source": [
    "T_copy.isnull().sum()"
   ]
  },
  {
   "cell_type": "markdown",
   "id": "317de2f8",
   "metadata": {},
   "source": [
    "#### brand"
   ]
  },
  {
   "cell_type": "code",
   "execution_count": 218,
   "id": "2ca6b169",
   "metadata": {},
   "outputs": [
    {
     "data": {
      "text/plain": [
       "brand\n",
       "Solex             4253\n",
       "Giant Bicycles    3312\n",
       "WeareA2B          3295\n",
       "OHM Cycles        3043\n",
       "Trek Bicycles     2990\n",
       "Norco Bicycles    2910\n",
       "Name: count, dtype: int64"
      ]
     },
     "execution_count": 218,
     "metadata": {},
     "output_type": "execute_result"
    }
   ],
   "source": [
    "T_copy['brand'].value_counts()"
   ]
  },
  {
   "cell_type": "code",
   "execution_count": 219,
   "id": "73065cf4",
   "metadata": {},
   "outputs": [],
   "source": [
    "T_copy['brand'].fillna(method = \"ffill\",inplace=True)"
   ]
  },
  {
   "cell_type": "code",
   "execution_count": 220,
   "id": "cab7d8ab",
   "metadata": {},
   "outputs": [
    {
     "data": {
      "text/plain": [
       "transaction_id               0\n",
       "product_id                   0\n",
       "customer_id                  0\n",
       "transaction_date             0\n",
       "online_order                 0\n",
       "order_status                 0\n",
       "brand                        0\n",
       "product_line               197\n",
       "product_class              197\n",
       "product_size               197\n",
       "list_price                   0\n",
       "standard_cost              197\n",
       "product_first_sold_date    197\n",
       "dtype: int64"
      ]
     },
     "execution_count": 220,
     "metadata": {},
     "output_type": "execute_result"
    }
   ],
   "source": [
    "T_copy.isnull().sum()"
   ]
  },
  {
   "cell_type": "markdown",
   "id": "0a082851",
   "metadata": {},
   "source": [
    "#### product_line"
   ]
  },
  {
   "cell_type": "code",
   "execution_count": 221,
   "id": "e2c605b3",
   "metadata": {},
   "outputs": [
    {
     "data": {
      "text/plain": [
       "product_line\n",
       "Standard    14176\n",
       "Road         3970\n",
       "Touring      1234\n",
       "Mountain      423\n",
       "Name: count, dtype: int64"
      ]
     },
     "execution_count": 221,
     "metadata": {},
     "output_type": "execute_result"
    }
   ],
   "source": [
    "T_copy['product_line'].value_counts()"
   ]
  },
  {
   "cell_type": "code",
   "execution_count": 222,
   "id": "04d15bc0",
   "metadata": {},
   "outputs": [],
   "source": [
    "T_copy['product_line'].fillna(method=\"ffill\",inplace=True)"
   ]
  },
  {
   "cell_type": "code",
   "execution_count": 223,
   "id": "9f323bdd",
   "metadata": {},
   "outputs": [
    {
     "data": {
      "text/plain": [
       "transaction_id               0\n",
       "product_id                   0\n",
       "customer_id                  0\n",
       "transaction_date             0\n",
       "online_order                 0\n",
       "order_status                 0\n",
       "brand                        0\n",
       "product_line                 0\n",
       "product_class              197\n",
       "product_size               197\n",
       "list_price                   0\n",
       "standard_cost              197\n",
       "product_first_sold_date    197\n",
       "dtype: int64"
      ]
     },
     "execution_count": 223,
     "metadata": {},
     "output_type": "execute_result"
    }
   ],
   "source": [
    "T_copy.isnull().sum()"
   ]
  },
  {
   "cell_type": "markdown",
   "id": "2374424e",
   "metadata": {},
   "source": [
    "#### product_class"
   ]
  },
  {
   "cell_type": "code",
   "execution_count": 224,
   "id": "0a95b233",
   "metadata": {},
   "outputs": [
    {
     "data": {
      "text/plain": [
       "product_class\n",
       "medium    13826\n",
       "high       3013\n",
       "low        2964\n",
       "Name: count, dtype: int64"
      ]
     },
     "execution_count": 224,
     "metadata": {},
     "output_type": "execute_result"
    }
   ],
   "source": [
    "T_copy['product_class'].value_counts()"
   ]
  },
  {
   "cell_type": "code",
   "execution_count": 225,
   "id": "03718b5d",
   "metadata": {},
   "outputs": [],
   "source": [
    "T_copy['product_class'].fillna(method=\"ffill\",inplace=True)"
   ]
  },
  {
   "cell_type": "code",
   "execution_count": 226,
   "id": "eb7224a4",
   "metadata": {},
   "outputs": [
    {
     "data": {
      "text/plain": [
       "transaction_id               0\n",
       "product_id                   0\n",
       "customer_id                  0\n",
       "transaction_date             0\n",
       "online_order                 0\n",
       "order_status                 0\n",
       "brand                        0\n",
       "product_line                 0\n",
       "product_class                0\n",
       "product_size               197\n",
       "list_price                   0\n",
       "standard_cost              197\n",
       "product_first_sold_date    197\n",
       "dtype: int64"
      ]
     },
     "execution_count": 226,
     "metadata": {},
     "output_type": "execute_result"
    }
   ],
   "source": [
    "T_copy.isnull().sum()"
   ]
  },
  {
   "cell_type": "markdown",
   "id": "b4da6c36",
   "metadata": {},
   "source": [
    "#### product_size"
   ]
  },
  {
   "cell_type": "code",
   "execution_count": 227,
   "id": "749aab08",
   "metadata": {},
   "outputs": [
    {
     "data": {
      "text/plain": [
       "product_size\n",
       "medium    12990\n",
       "large      3976\n",
       "small      2837\n",
       "Name: count, dtype: int64"
      ]
     },
     "execution_count": 227,
     "metadata": {},
     "output_type": "execute_result"
    }
   ],
   "source": [
    "T_copy['product_size'].value_counts()"
   ]
  },
  {
   "cell_type": "code",
   "execution_count": 228,
   "id": "df219a86",
   "metadata": {},
   "outputs": [],
   "source": [
    "T_copy['product_size'].fillna(method=\"ffill\",inplace=True)"
   ]
  },
  {
   "cell_type": "code",
   "execution_count": 229,
   "id": "7547b33b",
   "metadata": {},
   "outputs": [
    {
     "data": {
      "text/plain": [
       "product_size\n",
       "medium    13115\n",
       "large      4022\n",
       "small      2863\n",
       "Name: count, dtype: int64"
      ]
     },
     "execution_count": 229,
     "metadata": {},
     "output_type": "execute_result"
    }
   ],
   "source": [
    "T_copy['product_size'].value_counts()"
   ]
  },
  {
   "cell_type": "code",
   "execution_count": 230,
   "id": "bd6e49ad",
   "metadata": {},
   "outputs": [
    {
     "data": {
      "text/plain": [
       "transaction_id               0\n",
       "product_id                   0\n",
       "customer_id                  0\n",
       "transaction_date             0\n",
       "online_order                 0\n",
       "order_status                 0\n",
       "brand                        0\n",
       "product_line                 0\n",
       "product_class                0\n",
       "product_size                 0\n",
       "list_price                   0\n",
       "standard_cost              197\n",
       "product_first_sold_date    197\n",
       "dtype: int64"
      ]
     },
     "execution_count": 230,
     "metadata": {},
     "output_type": "execute_result"
    }
   ],
   "source": [
    "T_copy.isnull().sum()"
   ]
  },
  {
   "cell_type": "markdown",
   "id": "17500490",
   "metadata": {},
   "source": [
    "#### standard_cost"
   ]
  },
  {
   "cell_type": "code",
   "execution_count": 231,
   "id": "a0965f15",
   "metadata": {},
   "outputs": [],
   "source": [
    "T_copy['standard_cost'].fillna(T_copy['standard_cost'].mean(),inplace=True)"
   ]
  },
  {
   "cell_type": "code",
   "execution_count": 232,
   "id": "22801eb7",
   "metadata": {},
   "outputs": [
    {
     "data": {
      "text/plain": [
       "transaction_id               0\n",
       "product_id                   0\n",
       "customer_id                  0\n",
       "transaction_date             0\n",
       "online_order                 0\n",
       "order_status                 0\n",
       "brand                        0\n",
       "product_line                 0\n",
       "product_class                0\n",
       "product_size                 0\n",
       "list_price                   0\n",
       "standard_cost                0\n",
       "product_first_sold_date    197\n",
       "dtype: int64"
      ]
     },
     "execution_count": 232,
     "metadata": {},
     "output_type": "execute_result"
    }
   ],
   "source": [
    "T_copy.isnull().sum()"
   ]
  },
  {
   "cell_type": "code",
   "execution_count": 418,
   "id": "b84dd47a",
   "metadata": {},
   "outputs": [],
   "source": [
    "cost=pd.DataFrame(T_copy.groupby('customer_id')['list_price'].mean())"
   ]
  },
  {
   "cell_type": "code",
   "execution_count": 419,
   "id": "21211040",
   "metadata": {},
   "outputs": [
    {
     "data": {
      "text/html": [
       "<div>\n",
       "<style scoped>\n",
       "    .dataframe tbody tr th:only-of-type {\n",
       "        vertical-align: middle;\n",
       "    }\n",
       "\n",
       "    .dataframe tbody tr th {\n",
       "        vertical-align: top;\n",
       "    }\n",
       "\n",
       "    .dataframe thead th {\n",
       "        text-align: right;\n",
       "    }\n",
       "</style>\n",
       "<table border=\"1\" class=\"dataframe\">\n",
       "  <thead>\n",
       "    <tr style=\"text-align: right;\">\n",
       "      <th></th>\n",
       "      <th>list_price</th>\n",
       "    </tr>\n",
       "    <tr>\n",
       "      <th>customer_id</th>\n",
       "      <th></th>\n",
       "    </tr>\n",
       "  </thead>\n",
       "  <tbody>\n",
       "    <tr>\n",
       "      <th>1</th>\n",
       "      <td>825.859091</td>\n",
       "    </tr>\n",
       "    <tr>\n",
       "      <th>2</th>\n",
       "      <td>1383.023333</td>\n",
       "    </tr>\n",
       "    <tr>\n",
       "      <th>3</th>\n",
       "      <td>1236.028750</td>\n",
       "    </tr>\n",
       "    <tr>\n",
       "      <th>4</th>\n",
       "      <td>523.860000</td>\n",
       "    </tr>\n",
       "    <tr>\n",
       "      <th>5</th>\n",
       "      <td>983.866667</td>\n",
       "    </tr>\n",
       "  </tbody>\n",
       "</table>\n",
       "</div>"
      ],
      "text/plain": [
       "              list_price\n",
       "customer_id             \n",
       "1             825.859091\n",
       "2            1383.023333\n",
       "3            1236.028750\n",
       "4             523.860000\n",
       "5             983.866667"
      ]
     },
     "execution_count": 419,
     "metadata": {},
     "output_type": "execute_result"
    }
   ],
   "source": [
    "cost.head()"
   ]
  },
  {
   "cell_type": "code",
   "execution_count": 236,
   "id": "db7f78ef",
   "metadata": {},
   "outputs": [],
   "source": [
    "#Drop column product_first_sold_date\n",
    "T_copy.drop(columns='product_first_sold_date',inplace=True)"
   ]
  },
  {
   "cell_type": "markdown",
   "id": "e5420c78",
   "metadata": {},
   "source": [
    "### Data Visualization"
   ]
  },
  {
   "cell_type": "code",
   "execution_count": 237,
   "id": "490453d6",
   "metadata": {},
   "outputs": [
    {
     "data": {
      "image/png": "[encoded data removed]",
      "text/plain": [
       "<Figure size 2000x1600 with 9 Axes>"
      ]
     },
     "metadata": {},
     "output_type": "display_data"
    }
   ],
   "source": [
    "# showing the histogram of Clean dataframe\n",
    "T_copy.hist(figsize=(20,16))\n",
    "plt.show()"
   ]
  },
  {
   "cell_type": "markdown",
   "id": "87bc9fe3",
   "metadata": {},
   "source": [
    "### Feature Engineering"
   ]
  },
  {
   "cell_type": "code",
   "execution_count": 238,
   "id": "13fc9832",
   "metadata": {},
   "outputs": [
    {
     "data": {
      "text/html": [
       "<div>\n",
       "<style scoped>\n",
       "    .dataframe tbody tr th:only-of-type {\n",
       "        vertical-align: middle;\n",
       "    }\n",
       "\n",
       "    .dataframe tbody tr th {\n",
       "        vertical-align: top;\n",
       "    }\n",
       "\n",
       "    .dataframe thead th {\n",
       "        text-align: right;\n",
       "    }\n",
       "</style>\n",
       "<table border=\"1\" class=\"dataframe\">\n",
       "  <thead>\n",
       "    <tr style=\"text-align: right;\">\n",
       "      <th></th>\n",
       "      <th>transaction_id</th>\n",
       "      <th>product_id</th>\n",
       "      <th>customer_id</th>\n",
       "      <th>transaction_date</th>\n",
       "      <th>online_order</th>\n",
       "      <th>order_status</th>\n",
       "      <th>brand</th>\n",
       "      <th>product_line</th>\n",
       "      <th>product_class</th>\n",
       "      <th>product_size</th>\n",
       "      <th>list_price</th>\n",
       "      <th>standard_cost</th>\n",
       "      <th>Profit</th>\n",
       "    </tr>\n",
       "  </thead>\n",
       "  <tbody>\n",
       "    <tr>\n",
       "      <th>0</th>\n",
       "      <td>1</td>\n",
       "      <td>2</td>\n",
       "      <td>2950</td>\n",
       "      <td>2017-02-25</td>\n",
       "      <td>0.0</td>\n",
       "      <td>Approved</td>\n",
       "      <td>Solex</td>\n",
       "      <td>Standard</td>\n",
       "      <td>medium</td>\n",
       "      <td>medium</td>\n",
       "      <td>71.49</td>\n",
       "      <td>53.62</td>\n",
       "      <td>17.87</td>\n",
       "    </tr>\n",
       "    <tr>\n",
       "      <th>1</th>\n",
       "      <td>2</td>\n",
       "      <td>3</td>\n",
       "      <td>3120</td>\n",
       "      <td>2017-05-21</td>\n",
       "      <td>1.0</td>\n",
       "      <td>Approved</td>\n",
       "      <td>Trek Bicycles</td>\n",
       "      <td>Standard</td>\n",
       "      <td>medium</td>\n",
       "      <td>large</td>\n",
       "      <td>2091.47</td>\n",
       "      <td>388.92</td>\n",
       "      <td>1702.55</td>\n",
       "    </tr>\n",
       "    <tr>\n",
       "      <th>2</th>\n",
       "      <td>3</td>\n",
       "      <td>37</td>\n",
       "      <td>402</td>\n",
       "      <td>2017-10-16</td>\n",
       "      <td>0.0</td>\n",
       "      <td>Approved</td>\n",
       "      <td>OHM Cycles</td>\n",
       "      <td>Standard</td>\n",
       "      <td>low</td>\n",
       "      <td>medium</td>\n",
       "      <td>1793.43</td>\n",
       "      <td>248.82</td>\n",
       "      <td>1544.61</td>\n",
       "    </tr>\n",
       "    <tr>\n",
       "      <th>3</th>\n",
       "      <td>4</td>\n",
       "      <td>88</td>\n",
       "      <td>3135</td>\n",
       "      <td>2017-08-31</td>\n",
       "      <td>0.0</td>\n",
       "      <td>Approved</td>\n",
       "      <td>Norco Bicycles</td>\n",
       "      <td>Standard</td>\n",
       "      <td>medium</td>\n",
       "      <td>medium</td>\n",
       "      <td>1198.46</td>\n",
       "      <td>381.10</td>\n",
       "      <td>817.36</td>\n",
       "    </tr>\n",
       "    <tr>\n",
       "      <th>4</th>\n",
       "      <td>5</td>\n",
       "      <td>78</td>\n",
       "      <td>787</td>\n",
       "      <td>2017-10-01</td>\n",
       "      <td>1.0</td>\n",
       "      <td>Approved</td>\n",
       "      <td>Giant Bicycles</td>\n",
       "      <td>Standard</td>\n",
       "      <td>medium</td>\n",
       "      <td>large</td>\n",
       "      <td>1765.30</td>\n",
       "      <td>709.48</td>\n",
       "      <td>1055.82</td>\n",
       "    </tr>\n",
       "  </tbody>\n",
       "</table>\n",
       "</div>"
      ],
      "text/plain": [
       "   transaction_id  product_id  customer_id transaction_date  online_order  \\\n",
       "0               1           2         2950       2017-02-25           0.0   \n",
       "1               2           3         3120       2017-05-21           1.0   \n",
       "2               3          37          402       2017-10-16           0.0   \n",
       "3               4          88         3135       2017-08-31           0.0   \n",
       "4               5          78          787       2017-10-01           1.0   \n",
       "\n",
       "  order_status           brand product_line product_class product_size  \\\n",
       "0     Approved           Solex     Standard        medium       medium   \n",
       "1     Approved   Trek Bicycles     Standard        medium        large   \n",
       "2     Approved      OHM Cycles     Standard           low       medium   \n",
       "3     Approved  Norco Bicycles     Standard        medium       medium   \n",
       "4     Approved  Giant Bicycles     Standard        medium        large   \n",
       "\n",
       "   list_price  standard_cost   Profit  \n",
       "0       71.49          53.62    17.87  \n",
       "1     2091.47         388.92  1702.55  \n",
       "2     1793.43         248.82  1544.61  \n",
       "3     1198.46         381.10   817.36  \n",
       "4     1765.30         709.48  1055.82  "
      ]
     },
     "execution_count": 238,
     "metadata": {},
     "output_type": "execute_result"
    }
   ],
   "source": [
    "#Making a new column Profit\n",
    "T_copy[\"Profit\"]=T_copy[\"list_price\"]-T_copy[\"standard_cost\"]\n",
    "T_copy.head()"
   ]
  },
  {
   "cell_type": "markdown",
   "id": "228addb1",
   "metadata": {},
   "source": [
    "### Creating dataframes for customer behaviour (aggregates of each column group by customer_id)"
   ]
  },
  {
   "cell_type": "code",
   "execution_count": 239,
   "id": "fbe63837",
   "metadata": {},
   "outputs": [
    {
     "data": {
      "text/html": [
       "<div>\n",
       "<style scoped>\n",
       "    .dataframe tbody tr th:only-of-type {\n",
       "        vertical-align: middle;\n",
       "    }\n",
       "\n",
       "    .dataframe tbody tr th {\n",
       "        vertical-align: top;\n",
       "    }\n",
       "\n",
       "    .dataframe thead th {\n",
       "        text-align: right;\n",
       "    }\n",
       "</style>\n",
       "<table border=\"1\" class=\"dataframe\">\n",
       "  <thead>\n",
       "    <tr style=\"text-align: right;\">\n",
       "      <th></th>\n",
       "      <th>customer_id</th>\n",
       "      <th>Profit</th>\n",
       "    </tr>\n",
       "  </thead>\n",
       "  <tbody>\n",
       "    <tr>\n",
       "      <th>0</th>\n",
       "      <td>1</td>\n",
       "      <td>274.371818</td>\n",
       "    </tr>\n",
       "    <tr>\n",
       "      <th>1</th>\n",
       "      <td>2</td>\n",
       "      <td>742.086667</td>\n",
       "    </tr>\n",
       "    <tr>\n",
       "      <th>2</th>\n",
       "      <td>3</td>\n",
       "      <td>420.351250</td>\n",
       "    </tr>\n",
       "    <tr>\n",
       "      <th>3</th>\n",
       "      <td>4</td>\n",
       "      <td>110.285000</td>\n",
       "    </tr>\n",
       "    <tr>\n",
       "      <th>4</th>\n",
       "      <td>5</td>\n",
       "      <td>399.156667</td>\n",
       "    </tr>\n",
       "    <tr>\n",
       "      <th>...</th>\n",
       "      <td>...</td>\n",
       "      <td>...</td>\n",
       "    </tr>\n",
       "    <tr>\n",
       "      <th>3489</th>\n",
       "      <td>3497</td>\n",
       "      <td>549.440000</td>\n",
       "    </tr>\n",
       "    <tr>\n",
       "      <th>3490</th>\n",
       "      <td>3498</td>\n",
       "      <td>524.555000</td>\n",
       "    </tr>\n",
       "    <tr>\n",
       "      <th>3491</th>\n",
       "      <td>3499</td>\n",
       "      <td>707.892857</td>\n",
       "    </tr>\n",
       "    <tr>\n",
       "      <th>3492</th>\n",
       "      <td>3500</td>\n",
       "      <td>297.643333</td>\n",
       "    </tr>\n",
       "    <tr>\n",
       "      <th>3493</th>\n",
       "      <td>5034</td>\n",
       "      <td>89.828324</td>\n",
       "    </tr>\n",
       "  </tbody>\n",
       "</table>\n",
       "<p>3494 rows × 2 columns</p>\n",
       "</div>"
      ],
      "text/plain": [
       "      customer_id      Profit\n",
       "0               1  274.371818\n",
       "1               2  742.086667\n",
       "2               3  420.351250\n",
       "3               4  110.285000\n",
       "4               5  399.156667\n",
       "...           ...         ...\n",
       "3489         3497  549.440000\n",
       "3490         3498  524.555000\n",
       "3491         3499  707.892857\n",
       "3492         3500  297.643333\n",
       "3493         5034   89.828324\n",
       "\n",
       "[3494 rows x 2 columns]"
      ]
     },
     "execution_count": 239,
     "metadata": {},
     "output_type": "execute_result"
    }
   ],
   "source": [
    "#Customer profit\n",
    "customer_profit=T_copy.groupby(\"customer_id\")[\"Profit\"].mean()\n",
    "customer_profit.head()\n",
    "customer_profit.reset_index()"
   ]
  },
  {
   "cell_type": "code",
   "execution_count": 240,
   "id": "47825863",
   "metadata": {},
   "outputs": [],
   "source": [
    "customer_total=pd.DataFrame(T_copy.groupby('customer_id')['Profit'].sum())"
   ]
  },
  {
   "cell_type": "code",
   "execution_count": 241,
   "id": "fcf89404",
   "metadata": {},
   "outputs": [],
   "source": [
    "customer_Total=pd.DataFrame(T_copy.groupby('customer_id')['list_price'].sum())"
   ]
  },
  {
   "cell_type": "code",
   "execution_count": 242,
   "id": "9404fcfb",
   "metadata": {},
   "outputs": [
    {
     "data": {
      "text/html": [
       "<div>\n",
       "<style scoped>\n",
       "    .dataframe tbody tr th:only-of-type {\n",
       "        vertical-align: middle;\n",
       "    }\n",
       "\n",
       "    .dataframe tbody tr th {\n",
       "        vertical-align: top;\n",
       "    }\n",
       "\n",
       "    .dataframe thead th {\n",
       "        text-align: right;\n",
       "    }\n",
       "</style>\n",
       "<table border=\"1\" class=\"dataframe\">\n",
       "  <thead>\n",
       "    <tr style=\"text-align: right;\">\n",
       "      <th></th>\n",
       "      <th>list_price</th>\n",
       "    </tr>\n",
       "    <tr>\n",
       "      <th>customer_id</th>\n",
       "      <th></th>\n",
       "    </tr>\n",
       "  </thead>\n",
       "  <tbody>\n",
       "    <tr>\n",
       "      <th>1</th>\n",
       "      <td>9084.45</td>\n",
       "    </tr>\n",
       "    <tr>\n",
       "      <th>2</th>\n",
       "      <td>4149.07</td>\n",
       "    </tr>\n",
       "    <tr>\n",
       "      <th>3</th>\n",
       "      <td>9888.23</td>\n",
       "    </tr>\n",
       "    <tr>\n",
       "      <th>4</th>\n",
       "      <td>1047.72</td>\n",
       "    </tr>\n",
       "    <tr>\n",
       "      <th>5</th>\n",
       "      <td>5903.20</td>\n",
       "    </tr>\n",
       "  </tbody>\n",
       "</table>\n",
       "</div>"
      ],
      "text/plain": [
       "             list_price\n",
       "customer_id            \n",
       "1               9084.45\n",
       "2               4149.07\n",
       "3               9888.23\n",
       "4               1047.72\n",
       "5               5903.20"
      ]
     },
     "execution_count": 242,
     "metadata": {},
     "output_type": "execute_result"
    }
   ],
   "source": [
    "customer_Total.head()"
   ]
  },
  {
   "cell_type": "code",
   "execution_count": 243,
   "id": "eff5850e",
   "metadata": {},
   "outputs": [],
   "source": [
    "#Dataframe for profits\n",
    "customer_profit=pd.DataFrame(customer_profit)"
   ]
  },
  {
   "cell_type": "code",
   "execution_count": 244,
   "id": "920f9271",
   "metadata": {},
   "outputs": [
    {
     "data": {
      "text/plain": [
       "(3494, 1)"
      ]
     },
     "execution_count": 244,
     "metadata": {},
     "output_type": "execute_result"
    }
   ],
   "source": [
    "customer_profit.shape"
   ]
  },
  {
   "cell_type": "code",
   "execution_count": 245,
   "id": "fe2825a9",
   "metadata": {},
   "outputs": [
    {
     "data": {
      "text/html": [
       "<div>\n",
       "<style scoped>\n",
       "    .dataframe tbody tr th:only-of-type {\n",
       "        vertical-align: middle;\n",
       "    }\n",
       "\n",
       "    .dataframe tbody tr th {\n",
       "        vertical-align: top;\n",
       "    }\n",
       "\n",
       "    .dataframe thead th {\n",
       "        text-align: right;\n",
       "    }\n",
       "</style>\n",
       "<table border=\"1\" class=\"dataframe\">\n",
       "  <thead>\n",
       "    <tr style=\"text-align: right;\">\n",
       "      <th></th>\n",
       "      <th>customer_id</th>\n",
       "      <th>list_price</th>\n",
       "    </tr>\n",
       "  </thead>\n",
       "  <tbody>\n",
       "    <tr>\n",
       "      <th>0</th>\n",
       "      <td>1</td>\n",
       "      <td>825.859091</td>\n",
       "    </tr>\n",
       "    <tr>\n",
       "      <th>1</th>\n",
       "      <td>2</td>\n",
       "      <td>1383.023333</td>\n",
       "    </tr>\n",
       "    <tr>\n",
       "      <th>2</th>\n",
       "      <td>3</td>\n",
       "      <td>1236.028750</td>\n",
       "    </tr>\n",
       "    <tr>\n",
       "      <th>3</th>\n",
       "      <td>4</td>\n",
       "      <td>523.860000</td>\n",
       "    </tr>\n",
       "    <tr>\n",
       "      <th>4</th>\n",
       "      <td>5</td>\n",
       "      <td>983.866667</td>\n",
       "    </tr>\n",
       "  </tbody>\n",
       "</table>\n",
       "</div>"
      ],
      "text/plain": [
       "   customer_id   list_price\n",
       "0            1   825.859091\n",
       "1            2  1383.023333\n",
       "2            3  1236.028750\n",
       "3            4   523.860000\n",
       "4            5   983.866667"
      ]
     },
     "execution_count": 245,
     "metadata": {},
     "output_type": "execute_result"
    }
   ],
   "source": [
    "#Customer average (average money spent by each customer)\n",
    "customer_average = T_copy.groupby(\"customer_id\")[\"list_price\"].mean()\n",
    "customer_avg=customer_average.reset_index()\n",
    "customer_avg.head()"
   ]
  },
  {
   "cell_type": "code",
   "execution_count": 246,
   "id": "8c385a2e",
   "metadata": {},
   "outputs": [],
   "source": [
    "#Dataframe for average money spent by each customer\n",
    "customer_avg=pd.DataFrame(customer_avg)"
   ]
  },
  {
   "cell_type": "code",
   "execution_count": 247,
   "id": "9d9aff91",
   "metadata": {},
   "outputs": [
    {
     "data": {
      "text/plain": [
       "(3494, 2)"
      ]
     },
     "execution_count": 247,
     "metadata": {},
     "output_type": "execute_result"
    }
   ],
   "source": [
    "customer_avg.shape"
   ]
  },
  {
   "cell_type": "code",
   "execution_count": 248,
   "id": "26b53418",
   "metadata": {},
   "outputs": [
    {
     "data": {
      "text/plain": [
       "customer_id\n",
       "1    Giant Bicycles\n",
       "2          WeareA2B\n",
       "3    Norco Bicycles\n",
       "4    Giant Bicycles\n",
       "5    Norco Bicycles\n",
       "Name: brand, dtype: object"
      ]
     },
     "execution_count": 248,
     "metadata": {},
     "output_type": "execute_result"
    }
   ],
   "source": [
    "#customer_brand\n",
    "customer_brand=T_copy.groupby(\"customer_id\")[\"brand\"].agg(lambda x:x.mode()[0])\n",
    "customer_brand.head()"
   ]
  },
  {
   "cell_type": "code",
   "execution_count": 249,
   "id": "361f12cb",
   "metadata": {},
   "outputs": [],
   "source": [
    "#dataframe for most frequent brand\n",
    "customer_brand=pd.DataFrame(customer_brand)"
   ]
  },
  {
   "cell_type": "code",
   "execution_count": 250,
   "id": "d993b068",
   "metadata": {},
   "outputs": [
    {
     "data": {
      "text/plain": [
       "customer_id\n",
       "1    Standard\n",
       "2    Standard\n",
       "3    Standard\n",
       "4    Standard\n",
       "5        Road\n",
       "Name: product_line, dtype: object"
      ]
     },
     "execution_count": 250,
     "metadata": {},
     "output_type": "execute_result"
    }
   ],
   "source": [
    "#Customer product line\n",
    "customer_product_line=T_copy.groupby(\"customer_id\")[\"product_line\"].agg(lambda x:x.mode()[0])\n",
    "customer_product_line.head()"
   ]
  },
  {
   "cell_type": "code",
   "execution_count": 251,
   "id": "108c71f7",
   "metadata": {},
   "outputs": [],
   "source": [
    "#dataframe for most frequent product line\n",
    "customer_product_line=pd.DataFrame(customer_product_line)"
   ]
  },
  {
   "cell_type": "code",
   "execution_count": 252,
   "id": "ba831db3",
   "metadata": {},
   "outputs": [
    {
     "data": {
      "text/plain": [
       "customer_id\n",
       "1    medium\n",
       "2    medium\n",
       "3     large\n",
       "4     large\n",
       "5     large\n",
       "Name: product_size, dtype: object"
      ]
     },
     "execution_count": 252,
     "metadata": {},
     "output_type": "execute_result"
    }
   ],
   "source": [
    "#Customer product_size\n",
    "customer_product_size=T_copy.groupby(\"customer_id\")[\"product_size\"].apply(lambda x:x.value_counts().index[0])\n",
    "customer_product_size.head()"
   ]
  },
  {
   "cell_type": "code",
   "execution_count": 253,
   "id": "e6fb970e",
   "metadata": {},
   "outputs": [],
   "source": [
    "#dataframe for product_size\n",
    "customer_product_size=pd.DataFrame(customer_product_size)\n"
   ]
  },
  {
   "cell_type": "code",
   "execution_count": 254,
   "id": "de29d5ff",
   "metadata": {},
   "outputs": [
    {
     "data": {
      "text/plain": [
       "customer_id\n",
       "1    medium\n",
       "2    medium\n",
       "3    medium\n",
       "4    medium\n",
       "5    medium\n",
       "Name: product_class, dtype: object"
      ]
     },
     "execution_count": 254,
     "metadata": {},
     "output_type": "execute_result"
    }
   ],
   "source": [
    "#Customer product_class\n",
    "customer_product_class=T_copy.groupby(\"customer_id\")[\"product_class\"].apply(lambda x:x.value_counts().index[0])\n",
    "customer_product_class.head()"
   ]
  },
  {
   "cell_type": "code",
   "execution_count": 255,
   "id": "9f871466",
   "metadata": {},
   "outputs": [],
   "source": [
    "#dataframe for most frequent product_class\n",
    "customer_product_class=pd.DataFrame(customer_product_class)"
   ]
  },
  {
   "cell_type": "code",
   "execution_count": 256,
   "id": "ff27144b",
   "metadata": {},
   "outputs": [
    {
     "data": {
      "text/plain": [
       "customer_id\n",
       "1    11\n",
       "2     3\n",
       "3     8\n",
       "4     2\n",
       "5     6\n",
       "Name: transaction_id, dtype: int64"
      ]
     },
     "execution_count": 256,
     "metadata": {},
     "output_type": "execute_result"
    }
   ],
   "source": [
    "#Total number of times customer purchased\n",
    "customer_purchasecount=T_copy.groupby(\"customer_id\")[\"transaction_id\"].count()\n",
    "customer_purchasecount.head()"
   ]
  },
  {
   "cell_type": "code",
   "execution_count": 257,
   "id": "e37f1846",
   "metadata": {},
   "outputs": [],
   "source": [
    "#dataframe for total times customer purchased\n",
    "customer_purchasecount=pd.DataFrame(customer_purchasecount)"
   ]
  },
  {
   "cell_type": "markdown",
   "id": "95e291f2",
   "metadata": {},
   "source": [
    "### Feature engineering -Creating a column RFM (recency frequency monetary): Greatest purchase date - greatest purchase date of each customer\n",
    "\n"
   ]
  },
  {
   "cell_type": "code",
   "execution_count": 258,
   "id": "60a99866",
   "metadata": {},
   "outputs": [],
   "source": [
    "max_date=T_copy['transaction_date'].max()"
   ]
  },
  {
   "cell_type": "code",
   "execution_count": 259,
   "id": "d6687aef",
   "metadata": {},
   "outputs": [],
   "source": [
    "recent_date=T_copy.groupby('customer_id')['transaction_date'].max()"
   ]
  },
  {
   "cell_type": "code",
   "execution_count": 260,
   "id": "176fa7d3",
   "metadata": {},
   "outputs": [],
   "source": [
    "recent_date=pd.DataFrame(recent_date)"
   ]
  },
  {
   "cell_type": "code",
   "execution_count": 261,
   "id": "05e79bf8",
   "metadata": {},
   "outputs": [
    {
     "data": {
      "text/html": [
       "<div>\n",
       "<style scoped>\n",
       "    .dataframe tbody tr th:only-of-type {\n",
       "        vertical-align: middle;\n",
       "    }\n",
       "\n",
       "    .dataframe tbody tr th {\n",
       "        vertical-align: top;\n",
       "    }\n",
       "\n",
       "    .dataframe thead th {\n",
       "        text-align: right;\n",
       "    }\n",
       "</style>\n",
       "<table border=\"1\" class=\"dataframe\">\n",
       "  <thead>\n",
       "    <tr style=\"text-align: right;\">\n",
       "      <th></th>\n",
       "      <th>transaction_date</th>\n",
       "    </tr>\n",
       "    <tr>\n",
       "      <th>customer_id</th>\n",
       "      <th></th>\n",
       "    </tr>\n",
       "  </thead>\n",
       "  <tbody>\n",
       "    <tr>\n",
       "      <th>1</th>\n",
       "      <td>2017-12-23</td>\n",
       "    </tr>\n",
       "    <tr>\n",
       "      <th>2</th>\n",
       "      <td>2017-08-24</td>\n",
       "    </tr>\n",
       "    <tr>\n",
       "      <th>3</th>\n",
       "      <td>2017-09-19</td>\n",
       "    </tr>\n",
       "    <tr>\n",
       "      <th>4</th>\n",
       "      <td>2017-06-18</td>\n",
       "    </tr>\n",
       "    <tr>\n",
       "      <th>5</th>\n",
       "      <td>2017-12-14</td>\n",
       "    </tr>\n",
       "  </tbody>\n",
       "</table>\n",
       "</div>"
      ],
      "text/plain": [
       "            transaction_date\n",
       "customer_id                 \n",
       "1                 2017-12-23\n",
       "2                 2017-08-24\n",
       "3                 2017-09-19\n",
       "4                 2017-06-18\n",
       "5                 2017-12-14"
      ]
     },
     "execution_count": 261,
     "metadata": {},
     "output_type": "execute_result"
    }
   ],
   "source": [
    "recent_date.head()"
   ]
  },
  {
   "cell_type": "code",
   "execution_count": 263,
   "id": "f4daa6f7",
   "metadata": {},
   "outputs": [
    {
     "data": {
      "text/html": [
       "<div>\n",
       "<style scoped>\n",
       "    .dataframe tbody tr th:only-of-type {\n",
       "        vertical-align: middle;\n",
       "    }\n",
       "\n",
       "    .dataframe tbody tr th {\n",
       "        vertical-align: top;\n",
       "    }\n",
       "\n",
       "    .dataframe thead th {\n",
       "        text-align: right;\n",
       "    }\n",
       "</style>\n",
       "<table border=\"1\" class=\"dataframe\">\n",
       "  <thead>\n",
       "    <tr style=\"text-align: right;\">\n",
       "      <th></th>\n",
       "      <th>transaction_date</th>\n",
       "    </tr>\n",
       "    <tr>\n",
       "      <th>customer_id</th>\n",
       "      <th></th>\n",
       "    </tr>\n",
       "  </thead>\n",
       "  <tbody>\n",
       "    <tr>\n",
       "      <th>1</th>\n",
       "      <td>7</td>\n",
       "    </tr>\n",
       "    <tr>\n",
       "      <th>2</th>\n",
       "      <td>128</td>\n",
       "    </tr>\n",
       "    <tr>\n",
       "      <th>3</th>\n",
       "      <td>102</td>\n",
       "    </tr>\n",
       "    <tr>\n",
       "      <th>4</th>\n",
       "      <td>195</td>\n",
       "    </tr>\n",
       "    <tr>\n",
       "      <th>5</th>\n",
       "      <td>16</td>\n",
       "    </tr>\n",
       "  </tbody>\n",
       "</table>\n",
       "</div>"
      ],
      "text/plain": [
       "             transaction_date\n",
       "customer_id                  \n",
       "1                           7\n",
       "2                         128\n",
       "3                         102\n",
       "4                         195\n",
       "5                          16"
      ]
     },
     "execution_count": 263,
     "metadata": {},
     "output_type": "execute_result"
    }
   ],
   "source": [
    "recency.head()"
   ]
  },
  {
   "cell_type": "code",
   "execution_count": 264,
   "id": "e62249df",
   "metadata": {},
   "outputs": [],
   "source": [
    "recency=pd.DataFrame(recency)"
   ]
  },
  {
   "cell_type": "code",
   "execution_count": 265,
   "id": "34141cdc",
   "metadata": {},
   "outputs": [
    {
     "name": "stdout",
     "output_type": "stream",
     "text": [
      "<class 'pandas.core.frame.DataFrame'>\n",
      "Index: 3494 entries, 1 to 5034\n",
      "Data columns (total 1 columns):\n",
      " #   Column            Non-Null Count  Dtype\n",
      "---  ------            --------------  -----\n",
      " 0   transaction_date  3494 non-null   int64\n",
      "dtypes: int64(1)\n",
      "memory usage: 54.6 KB\n"
     ]
    }
   ],
   "source": [
    "recency.info()"
   ]
  },
  {
   "cell_type": "markdown",
   "id": "8578d2a4",
   "metadata": {},
   "source": [
    "### Creating a dataset with all customer behaviour merged"
   ]
  },
  {
   "cell_type": "code",
   "execution_count": 266,
   "id": "4f6f8480",
   "metadata": {},
   "outputs": [],
   "source": [
    "#merging all dataframes into one dataframe customer_behaviour\n",
    "Customer_behaviour=pd.merge(customer_avg,customer_purchasecount, on ='customer_id')"
   ]
  },
  {
   "cell_type": "code",
   "execution_count": 267,
   "id": "e5408682",
   "metadata": {},
   "outputs": [],
   "source": [
    "Customer_behaviour=pd.merge(Customer_behaviour,customer_profit,on='customer_id')"
   ]
  },
  {
   "cell_type": "code",
   "execution_count": 268,
   "id": "e8d2a52d",
   "metadata": {},
   "outputs": [],
   "source": [
    "Customer_behaviour=pd.merge(Customer_behaviour,customer_product_line,on='customer_id')"
   ]
  },
  {
   "cell_type": "code",
   "execution_count": 269,
   "id": "9d169f0b",
   "metadata": {},
   "outputs": [],
   "source": [
    "Customer_behaviour=pd.merge(Customer_behaviour,customer_product_size,on='customer_id')"
   ]
  },
  {
   "cell_type": "code",
   "execution_count": 270,
   "id": "d56162c5",
   "metadata": {},
   "outputs": [],
   "source": [
    "Customer_behaviour=pd.merge(Customer_behaviour,customer_product_class,on='customer_id')"
   ]
  },
  {
   "cell_type": "code",
   "execution_count": 271,
   "id": "6c2809ea",
   "metadata": {},
   "outputs": [],
   "source": [
    "Customer_behaviour=pd.merge(Customer_behaviour,customer_brand,on='customer_id')"
   ]
  },
  {
   "cell_type": "code",
   "execution_count": 272,
   "id": "9d660c40",
   "metadata": {},
   "outputs": [],
   "source": [
    "Customer_behaviour=pd.merge(Customer_behaviour,recency,on='customer_id')\n"
   ]
  },
  {
   "cell_type": "code",
   "execution_count": 273,
   "id": "39ae7fc6",
   "metadata": {},
   "outputs": [
    {
     "data": {
      "text/html": [
       "<div>\n",
       "<style scoped>\n",
       "    .dataframe tbody tr th:only-of-type {\n",
       "        vertical-align: middle;\n",
       "    }\n",
       "\n",
       "    .dataframe tbody tr th {\n",
       "        vertical-align: top;\n",
       "    }\n",
       "\n",
       "    .dataframe thead th {\n",
       "        text-align: right;\n",
       "    }\n",
       "</style>\n",
       "<table border=\"1\" class=\"dataframe\">\n",
       "  <thead>\n",
       "    <tr style=\"text-align: right;\">\n",
       "      <th></th>\n",
       "      <th>customer_id</th>\n",
       "      <th>list_price</th>\n",
       "      <th>transaction_id</th>\n",
       "      <th>Profit</th>\n",
       "      <th>product_line</th>\n",
       "      <th>product_size</th>\n",
       "      <th>product_class</th>\n",
       "      <th>brand</th>\n",
       "      <th>transaction_date</th>\n",
       "    </tr>\n",
       "  </thead>\n",
       "  <tbody>\n",
       "    <tr>\n",
       "      <th>0</th>\n",
       "      <td>1</td>\n",
       "      <td>825.859091</td>\n",
       "      <td>11</td>\n",
       "      <td>274.371818</td>\n",
       "      <td>Standard</td>\n",
       "      <td>medium</td>\n",
       "      <td>medium</td>\n",
       "      <td>Giant Bicycles</td>\n",
       "      <td>7</td>\n",
       "    </tr>\n",
       "    <tr>\n",
       "      <th>1</th>\n",
       "      <td>2</td>\n",
       "      <td>1383.023333</td>\n",
       "      <td>3</td>\n",
       "      <td>742.086667</td>\n",
       "      <td>Standard</td>\n",
       "      <td>medium</td>\n",
       "      <td>medium</td>\n",
       "      <td>WeareA2B</td>\n",
       "      <td>128</td>\n",
       "    </tr>\n",
       "    <tr>\n",
       "      <th>2</th>\n",
       "      <td>3</td>\n",
       "      <td>1236.028750</td>\n",
       "      <td>8</td>\n",
       "      <td>420.351250</td>\n",
       "      <td>Standard</td>\n",
       "      <td>large</td>\n",
       "      <td>medium</td>\n",
       "      <td>Norco Bicycles</td>\n",
       "      <td>102</td>\n",
       "    </tr>\n",
       "    <tr>\n",
       "      <th>3</th>\n",
       "      <td>4</td>\n",
       "      <td>523.860000</td>\n",
       "      <td>2</td>\n",
       "      <td>110.285000</td>\n",
       "      <td>Standard</td>\n",
       "      <td>large</td>\n",
       "      <td>medium</td>\n",
       "      <td>Giant Bicycles</td>\n",
       "      <td>195</td>\n",
       "    </tr>\n",
       "    <tr>\n",
       "      <th>4</th>\n",
       "      <td>5</td>\n",
       "      <td>983.866667</td>\n",
       "      <td>6</td>\n",
       "      <td>399.156667</td>\n",
       "      <td>Road</td>\n",
       "      <td>large</td>\n",
       "      <td>medium</td>\n",
       "      <td>Norco Bicycles</td>\n",
       "      <td>16</td>\n",
       "    </tr>\n",
       "  </tbody>\n",
       "</table>\n",
       "</div>"
      ],
      "text/plain": [
       "   customer_id   list_price  transaction_id      Profit product_line  \\\n",
       "0            1   825.859091              11  274.371818     Standard   \n",
       "1            2  1383.023333               3  742.086667     Standard   \n",
       "2            3  1236.028750               8  420.351250     Standard   \n",
       "3            4   523.860000               2  110.285000     Standard   \n",
       "4            5   983.866667               6  399.156667         Road   \n",
       "\n",
       "  product_size product_class           brand  transaction_date  \n",
       "0       medium        medium  Giant Bicycles                 7  \n",
       "1       medium        medium        WeareA2B               128  \n",
       "2        large        medium  Norco Bicycles               102  \n",
       "3        large        medium  Giant Bicycles               195  \n",
       "4        large        medium  Norco Bicycles                16  "
      ]
     },
     "execution_count": 273,
     "metadata": {},
     "output_type": "execute_result"
    }
   ],
   "source": [
    "Customer_behaviour.head()"
   ]
  },
  {
   "cell_type": "code",
   "execution_count": 274,
   "id": "eb3453cd",
   "metadata": {},
   "outputs": [],
   "source": [
    "#Rename the columns\n",
    "Customer_behaviour=Customer_behaviour.rename(columns={'list_price':'avg_revenue','transaction_id':'num_of_purchase','Profit':'avg_profit','transaction_date':'recency'})"
   ]
  },
  {
   "cell_type": "code",
   "execution_count": 275,
   "id": "e70b3681",
   "metadata": {},
   "outputs": [
    {
     "data": {
      "text/html": [
       "<div>\n",
       "<style scoped>\n",
       "    .dataframe tbody tr th:only-of-type {\n",
       "        vertical-align: middle;\n",
       "    }\n",
       "\n",
       "    .dataframe tbody tr th {\n",
       "        vertical-align: top;\n",
       "    }\n",
       "\n",
       "    .dataframe thead th {\n",
       "        text-align: right;\n",
       "    }\n",
       "</style>\n",
       "<table border=\"1\" class=\"dataframe\">\n",
       "  <thead>\n",
       "    <tr style=\"text-align: right;\">\n",
       "      <th></th>\n",
       "      <th>customer_id</th>\n",
       "      <th>avg_revenue</th>\n",
       "      <th>num_of_purchase</th>\n",
       "      <th>avg_profit</th>\n",
       "      <th>product_line</th>\n",
       "      <th>product_size</th>\n",
       "      <th>product_class</th>\n",
       "      <th>brand</th>\n",
       "      <th>recency</th>\n",
       "    </tr>\n",
       "  </thead>\n",
       "  <tbody>\n",
       "    <tr>\n",
       "      <th>0</th>\n",
       "      <td>1</td>\n",
       "      <td>825.859091</td>\n",
       "      <td>11</td>\n",
       "      <td>274.371818</td>\n",
       "      <td>Standard</td>\n",
       "      <td>medium</td>\n",
       "      <td>medium</td>\n",
       "      <td>Giant Bicycles</td>\n",
       "      <td>7</td>\n",
       "    </tr>\n",
       "    <tr>\n",
       "      <th>1</th>\n",
       "      <td>2</td>\n",
       "      <td>1383.023333</td>\n",
       "      <td>3</td>\n",
       "      <td>742.086667</td>\n",
       "      <td>Standard</td>\n",
       "      <td>medium</td>\n",
       "      <td>medium</td>\n",
       "      <td>WeareA2B</td>\n",
       "      <td>128</td>\n",
       "    </tr>\n",
       "    <tr>\n",
       "      <th>2</th>\n",
       "      <td>3</td>\n",
       "      <td>1236.028750</td>\n",
       "      <td>8</td>\n",
       "      <td>420.351250</td>\n",
       "      <td>Standard</td>\n",
       "      <td>large</td>\n",
       "      <td>medium</td>\n",
       "      <td>Norco Bicycles</td>\n",
       "      <td>102</td>\n",
       "    </tr>\n",
       "    <tr>\n",
       "      <th>3</th>\n",
       "      <td>4</td>\n",
       "      <td>523.860000</td>\n",
       "      <td>2</td>\n",
       "      <td>110.285000</td>\n",
       "      <td>Standard</td>\n",
       "      <td>large</td>\n",
       "      <td>medium</td>\n",
       "      <td>Giant Bicycles</td>\n",
       "      <td>195</td>\n",
       "    </tr>\n",
       "    <tr>\n",
       "      <th>4</th>\n",
       "      <td>5</td>\n",
       "      <td>983.866667</td>\n",
       "      <td>6</td>\n",
       "      <td>399.156667</td>\n",
       "      <td>Road</td>\n",
       "      <td>large</td>\n",
       "      <td>medium</td>\n",
       "      <td>Norco Bicycles</td>\n",
       "      <td>16</td>\n",
       "    </tr>\n",
       "  </tbody>\n",
       "</table>\n",
       "</div>"
      ],
      "text/plain": [
       "   customer_id  avg_revenue  num_of_purchase  avg_profit product_line  \\\n",
       "0            1   825.859091               11  274.371818     Standard   \n",
       "1            2  1383.023333                3  742.086667     Standard   \n",
       "2            3  1236.028750                8  420.351250     Standard   \n",
       "3            4   523.860000                2  110.285000     Standard   \n",
       "4            5   983.866667                6  399.156667         Road   \n",
       "\n",
       "  product_size product_class           brand  recency  \n",
       "0       medium        medium  Giant Bicycles        7  \n",
       "1       medium        medium        WeareA2B      128  \n",
       "2        large        medium  Norco Bicycles      102  \n",
       "3        large        medium  Giant Bicycles      195  \n",
       "4        large        medium  Norco Bicycles       16  "
      ]
     },
     "execution_count": 275,
     "metadata": {},
     "output_type": "execute_result"
    }
   ],
   "source": [
    "Customer_behaviour.head()"
   ]
  },
  {
   "cell_type": "code",
   "execution_count": 276,
   "id": "65045b96",
   "metadata": {},
   "outputs": [
    {
     "name": "stdout",
     "output_type": "stream",
     "text": [
      "<class 'pandas.core.frame.DataFrame'>\n",
      "RangeIndex: 3494 entries, 0 to 3493\n",
      "Data columns (total 9 columns):\n",
      " #   Column           Non-Null Count  Dtype  \n",
      "---  ------           --------------  -----  \n",
      " 0   customer_id      3494 non-null   int64  \n",
      " 1   avg_revenue      3494 non-null   float64\n",
      " 2   num_of_purchase  3494 non-null   int64  \n",
      " 3   avg_profit       3494 non-null   float64\n",
      " 4   product_line     3494 non-null   object \n",
      " 5   product_size     3494 non-null   object \n",
      " 6   product_class    3494 non-null   object \n",
      " 7   brand            3494 non-null   object \n",
      " 8   recency          3494 non-null   int64  \n",
      "dtypes: float64(2), int64(3), object(4)\n",
      "memory usage: 245.8+ KB\n"
     ]
    }
   ],
   "source": [
    "Customer_behaviour.info()"
   ]
  },
  {
   "cell_type": "markdown",
   "id": "3455e924",
   "metadata": {},
   "source": [
    "# Importing Newcustomerlist sheet"
   ]
  },
  {
   "cell_type": "code",
   "execution_count": 277,
   "id": "253acc80",
   "metadata": {},
   "outputs": [],
   "source": [
    "NewCustomerList=Data[\"NewCustomerList\"]"
   ]
  },
  {
   "cell_type": "code",
   "execution_count": 278,
   "id": "41688aaf",
   "metadata": {},
   "outputs": [],
   "source": [
    "New=NewCustomerList.copy()"
   ]
  },
  {
   "cell_type": "code",
   "execution_count": 279,
   "id": "8b9d28bb",
   "metadata": {},
   "outputs": [
    {
     "data": {
      "text/html": [
       "<div>\n",
       "<style scoped>\n",
       "    .dataframe tbody tr th:only-of-type {\n",
       "        vertical-align: middle;\n",
       "    }\n",
       "\n",
       "    .dataframe tbody tr th {\n",
       "        vertical-align: top;\n",
       "    }\n",
       "\n",
       "    .dataframe thead th {\n",
       "        text-align: right;\n",
       "    }\n",
       "</style>\n",
       "<table border=\"1\" class=\"dataframe\">\n",
       "  <thead>\n",
       "    <tr style=\"text-align: right;\">\n",
       "      <th></th>\n",
       "      <th>first_name</th>\n",
       "      <th>last_name</th>\n",
       "      <th>gender</th>\n",
       "      <th>past_3_years_bike_related_purchases</th>\n",
       "      <th>DOB</th>\n",
       "      <th>job_title</th>\n",
       "      <th>job_industry_category</th>\n",
       "      <th>wealth_segment</th>\n",
       "      <th>deceased_indicator</th>\n",
       "      <th>owns_car</th>\n",
       "      <th>...</th>\n",
       "      <th>state</th>\n",
       "      <th>country</th>\n",
       "      <th>property_valuation</th>\n",
       "      <th>Unnamed: 16</th>\n",
       "      <th>Unnamed: 17</th>\n",
       "      <th>Unnamed: 18</th>\n",
       "      <th>Unnamed: 19</th>\n",
       "      <th>Unnamed: 20</th>\n",
       "      <th>Rank</th>\n",
       "      <th>Value</th>\n",
       "    </tr>\n",
       "  </thead>\n",
       "  <tbody>\n",
       "    <tr>\n",
       "      <th>0</th>\n",
       "      <td>Chickie</td>\n",
       "      <td>Brister</td>\n",
       "      <td>Male</td>\n",
       "      <td>86</td>\n",
       "      <td>1957-07-12</td>\n",
       "      <td>General Manager</td>\n",
       "      <td>Manufacturing</td>\n",
       "      <td>Mass Customer</td>\n",
       "      <td>N</td>\n",
       "      <td>Yes</td>\n",
       "      <td>...</td>\n",
       "      <td>QLD</td>\n",
       "      <td>Australia</td>\n",
       "      <td>6</td>\n",
       "      <td>0.81</td>\n",
       "      <td>1.0125</td>\n",
       "      <td>1.265625</td>\n",
       "      <td>1.075781</td>\n",
       "      <td>1</td>\n",
       "      <td>1</td>\n",
       "      <td>1.718750</td>\n",
       "    </tr>\n",
       "    <tr>\n",
       "      <th>1</th>\n",
       "      <td>Morly</td>\n",
       "      <td>Genery</td>\n",
       "      <td>Male</td>\n",
       "      <td>69</td>\n",
       "      <td>1970-03-22</td>\n",
       "      <td>Structural Engineer</td>\n",
       "      <td>Property</td>\n",
       "      <td>Mass Customer</td>\n",
       "      <td>N</td>\n",
       "      <td>No</td>\n",
       "      <td>...</td>\n",
       "      <td>NSW</td>\n",
       "      <td>Australia</td>\n",
       "      <td>11</td>\n",
       "      <td>0.75</td>\n",
       "      <td>0.7500</td>\n",
       "      <td>0.937500</td>\n",
       "      <td>0.796875</td>\n",
       "      <td>1</td>\n",
       "      <td>1</td>\n",
       "      <td>1.718750</td>\n",
       "    </tr>\n",
       "    <tr>\n",
       "      <th>2</th>\n",
       "      <td>Ardelis</td>\n",
       "      <td>Forrester</td>\n",
       "      <td>Female</td>\n",
       "      <td>10</td>\n",
       "      <td>1974-08-28 00:00:00</td>\n",
       "      <td>Senior Cost Accountant</td>\n",
       "      <td>Financial Services</td>\n",
       "      <td>Affluent Customer</td>\n",
       "      <td>N</td>\n",
       "      <td>No</td>\n",
       "      <td>...</td>\n",
       "      <td>VIC</td>\n",
       "      <td>Australia</td>\n",
       "      <td>5</td>\n",
       "      <td>0.71</td>\n",
       "      <td>0.7100</td>\n",
       "      <td>0.710000</td>\n",
       "      <td>0.710000</td>\n",
       "      <td>1</td>\n",
       "      <td>1</td>\n",
       "      <td>1.718750</td>\n",
       "    </tr>\n",
       "    <tr>\n",
       "      <th>3</th>\n",
       "      <td>Lucine</td>\n",
       "      <td>Stutt</td>\n",
       "      <td>Female</td>\n",
       "      <td>64</td>\n",
       "      <td>1979-01-28</td>\n",
       "      <td>Account Representative III</td>\n",
       "      <td>Manufacturing</td>\n",
       "      <td>Affluent Customer</td>\n",
       "      <td>N</td>\n",
       "      <td>Yes</td>\n",
       "      <td>...</td>\n",
       "      <td>QLD</td>\n",
       "      <td>Australia</td>\n",
       "      <td>1</td>\n",
       "      <td>0.50</td>\n",
       "      <td>0.6250</td>\n",
       "      <td>0.625000</td>\n",
       "      <td>0.625000</td>\n",
       "      <td>4</td>\n",
       "      <td>4</td>\n",
       "      <td>1.703125</td>\n",
       "    </tr>\n",
       "    <tr>\n",
       "      <th>4</th>\n",
       "      <td>Melinda</td>\n",
       "      <td>Hadlee</td>\n",
       "      <td>Female</td>\n",
       "      <td>34</td>\n",
       "      <td>1965-09-21</td>\n",
       "      <td>Financial Analyst</td>\n",
       "      <td>Financial Services</td>\n",
       "      <td>Affluent Customer</td>\n",
       "      <td>N</td>\n",
       "      <td>No</td>\n",
       "      <td>...</td>\n",
       "      <td>NSW</td>\n",
       "      <td>Australia</td>\n",
       "      <td>9</td>\n",
       "      <td>0.99</td>\n",
       "      <td>0.9900</td>\n",
       "      <td>1.237500</td>\n",
       "      <td>1.237500</td>\n",
       "      <td>4</td>\n",
       "      <td>4</td>\n",
       "      <td>1.703125</td>\n",
       "    </tr>\n",
       "  </tbody>\n",
       "</table>\n",
       "<p>5 rows × 23 columns</p>\n",
       "</div>"
      ],
      "text/plain": [
       "  first_name  last_name  gender  past_3_years_bike_related_purchases  \\\n",
       "0    Chickie    Brister    Male                                   86   \n",
       "1      Morly     Genery    Male                                   69   \n",
       "2    Ardelis  Forrester  Female                                   10   \n",
       "3     Lucine      Stutt  Female                                   64   \n",
       "4    Melinda     Hadlee  Female                                   34   \n",
       "\n",
       "                   DOB                   job_title job_industry_category  \\\n",
       "0           1957-07-12             General Manager         Manufacturing   \n",
       "1           1970-03-22         Structural Engineer              Property   \n",
       "2  1974-08-28 00:00:00      Senior Cost Accountant    Financial Services   \n",
       "3           1979-01-28  Account Representative III         Manufacturing   \n",
       "4           1965-09-21           Financial Analyst    Financial Services   \n",
       "\n",
       "      wealth_segment deceased_indicator owns_car  ...  state    country  \\\n",
       "0      Mass Customer                  N      Yes  ...    QLD  Australia   \n",
       "1      Mass Customer                  N       No  ...    NSW  Australia   \n",
       "2  Affluent Customer                  N       No  ...    VIC  Australia   \n",
       "3  Affluent Customer                  N      Yes  ...    QLD  Australia   \n",
       "4  Affluent Customer                  N       No  ...    NSW  Australia   \n",
       "\n",
       "   property_valuation Unnamed: 16 Unnamed: 17  Unnamed: 18  Unnamed: 19  \\\n",
       "0                   6        0.81      1.0125     1.265625     1.075781   \n",
       "1                  11        0.75      0.7500     0.937500     0.796875   \n",
       "2                   5        0.71      0.7100     0.710000     0.710000   \n",
       "3                   1        0.50      0.6250     0.625000     0.625000   \n",
       "4                   9        0.99      0.9900     1.237500     1.237500   \n",
       "\n",
       "   Unnamed: 20  Rank     Value  \n",
       "0            1     1  1.718750  \n",
       "1            1     1  1.718750  \n",
       "2            1     1  1.718750  \n",
       "3            4     4  1.703125  \n",
       "4            4     4  1.703125  \n",
       "\n",
       "[5 rows x 23 columns]"
      ]
     },
     "execution_count": 279,
     "metadata": {},
     "output_type": "execute_result"
    }
   ],
   "source": [
    "New.head()"
   ]
  },
  {
   "cell_type": "code",
   "execution_count": 280,
   "id": "91176725",
   "metadata": {},
   "outputs": [
    {
     "name": "stdout",
     "output_type": "stream",
     "text": [
      "<class 'pandas.core.frame.DataFrame'>\n",
      "RangeIndex: 1000 entries, 0 to 999\n",
      "Data columns (total 23 columns):\n",
      " #   Column                               Non-Null Count  Dtype  \n",
      "---  ------                               --------------  -----  \n",
      " 0   first_name                           1000 non-null   object \n",
      " 1   last_name                            971 non-null    object \n",
      " 2   gender                               1000 non-null   object \n",
      " 3   past_3_years_bike_related_purchases  1000 non-null   int64  \n",
      " 4   DOB                                  983 non-null    object \n",
      " 5   job_title                            894 non-null    object \n",
      " 6   job_industry_category                835 non-null    object \n",
      " 7   wealth_segment                       1000 non-null   object \n",
      " 8   deceased_indicator                   1000 non-null   object \n",
      " 9   owns_car                             1000 non-null   object \n",
      " 10  tenure                               1000 non-null   int64  \n",
      " 11  address                              1000 non-null   object \n",
      " 12  postcode                             1000 non-null   int64  \n",
      " 13  state                                1000 non-null   object \n",
      " 14  country                              1000 non-null   object \n",
      " 15  property_valuation                   1000 non-null   int64  \n",
      " 16  Unnamed: 16                          1000 non-null   float64\n",
      " 17  Unnamed: 17                          1000 non-null   float64\n",
      " 18  Unnamed: 18                          1000 non-null   float64\n",
      " 19  Unnamed: 19                          1000 non-null   float64\n",
      " 20  Unnamed: 20                          1000 non-null   int64  \n",
      " 21  Rank                                 1000 non-null   int64  \n",
      " 22  Value                                1000 non-null   float64\n",
      "dtypes: float64(5), int64(6), object(12)\n",
      "memory usage: 179.8+ KB\n"
     ]
    }
   ],
   "source": [
    "New.info()"
   ]
  },
  {
   "cell_type": "code",
   "execution_count": 281,
   "id": "5a128584",
   "metadata": {},
   "outputs": [],
   "source": [
    "#dropping unneccary columns\n",
    "New.drop(columns=['Unnamed: 16','Unnamed: 17','Unnamed: 18','Unnamed: 19','Unnamed: 20'],axis=1,inplace=True)"
   ]
  },
  {
   "cell_type": "markdown",
   "id": "ae3f424a",
   "metadata": {},
   "source": [
    "# Importing Customer demographic sheet"
   ]
  },
  {
   "cell_type": "code",
   "execution_count": 282,
   "id": "55fc0e63",
   "metadata": {},
   "outputs": [],
   "source": [
    "Customer_demographic=Data['CustomerDemographic']"
   ]
  },
  {
   "cell_type": "code",
   "execution_count": 283,
   "id": "f4d97486",
   "metadata": {},
   "outputs": [],
   "source": [
    "demographic=Customer_demographic.copy()"
   ]
  },
  {
   "cell_type": "code",
   "execution_count": 284,
   "id": "083cb6b6",
   "metadata": {},
   "outputs": [
    {
     "data": {
      "text/html": [
       "<div>\n",
       "<style scoped>\n",
       "    .dataframe tbody tr th:only-of-type {\n",
       "        vertical-align: middle;\n",
       "    }\n",
       "\n",
       "    .dataframe tbody tr th {\n",
       "        vertical-align: top;\n",
       "    }\n",
       "\n",
       "    .dataframe thead th {\n",
       "        text-align: right;\n",
       "    }\n",
       "</style>\n",
       "<table border=\"1\" class=\"dataframe\">\n",
       "  <thead>\n",
       "    <tr style=\"text-align: right;\">\n",
       "      <th></th>\n",
       "      <th>customer_id</th>\n",
       "      <th>first_name</th>\n",
       "      <th>last_name</th>\n",
       "      <th>gender</th>\n",
       "      <th>past_3_years_bike_related_purchases</th>\n",
       "      <th>DOB</th>\n",
       "      <th>job_title</th>\n",
       "      <th>job_industry_category</th>\n",
       "      <th>wealth_segment</th>\n",
       "      <th>deceased_indicator</th>\n",
       "      <th>default</th>\n",
       "      <th>owns_car</th>\n",
       "      <th>tenure</th>\n",
       "    </tr>\n",
       "  </thead>\n",
       "  <tbody>\n",
       "    <tr>\n",
       "      <th>0</th>\n",
       "      <td>1</td>\n",
       "      <td>Laraine</td>\n",
       "      <td>Medendorp</td>\n",
       "      <td>F</td>\n",
       "      <td>93</td>\n",
       "      <td>1953-10-12 00:00:00</td>\n",
       "      <td>Executive Secretary</td>\n",
       "      <td>Health</td>\n",
       "      <td>Mass Customer</td>\n",
       "      <td>N</td>\n",
       "      <td>\"'</td>\n",
       "      <td>Yes</td>\n",
       "      <td>11.0</td>\n",
       "    </tr>\n",
       "    <tr>\n",
       "      <th>1</th>\n",
       "      <td>2</td>\n",
       "      <td>Eli</td>\n",
       "      <td>Bockman</td>\n",
       "      <td>Male</td>\n",
       "      <td>81</td>\n",
       "      <td>1980-12-16 00:00:00</td>\n",
       "      <td>Administrative Officer</td>\n",
       "      <td>Financial Services</td>\n",
       "      <td>Mass Customer</td>\n",
       "      <td>N</td>\n",
       "      <td>&lt;script&gt;alert('hi')&lt;/script&gt;</td>\n",
       "      <td>Yes</td>\n",
       "      <td>16.0</td>\n",
       "    </tr>\n",
       "    <tr>\n",
       "      <th>2</th>\n",
       "      <td>3</td>\n",
       "      <td>Arlin</td>\n",
       "      <td>Dearle</td>\n",
       "      <td>Male</td>\n",
       "      <td>61</td>\n",
       "      <td>1954-01-20 00:00:00</td>\n",
       "      <td>Recruiting Manager</td>\n",
       "      <td>Property</td>\n",
       "      <td>Mass Customer</td>\n",
       "      <td>N</td>\n",
       "      <td>2018-02-01 00:00:00</td>\n",
       "      <td>Yes</td>\n",
       "      <td>15.0</td>\n",
       "    </tr>\n",
       "    <tr>\n",
       "      <th>3</th>\n",
       "      <td>4</td>\n",
       "      <td>Talbot</td>\n",
       "      <td>NaN</td>\n",
       "      <td>Male</td>\n",
       "      <td>33</td>\n",
       "      <td>1961-10-03 00:00:00</td>\n",
       "      <td>NaN</td>\n",
       "      <td>IT</td>\n",
       "      <td>Mass Customer</td>\n",
       "      <td>N</td>\n",
       "      <td>() { _; } &gt;_[$($())] { touch /tmp/blns.shellsh...</td>\n",
       "      <td>No</td>\n",
       "      <td>7.0</td>\n",
       "    </tr>\n",
       "    <tr>\n",
       "      <th>4</th>\n",
       "      <td>5</td>\n",
       "      <td>Sheila-kathryn</td>\n",
       "      <td>Calton</td>\n",
       "      <td>Female</td>\n",
       "      <td>56</td>\n",
       "      <td>1977-05-13 00:00:00</td>\n",
       "      <td>Senior Editor</td>\n",
       "      <td>NaN</td>\n",
       "      <td>Affluent Customer</td>\n",
       "      <td>N</td>\n",
       "      <td>NIL</td>\n",
       "      <td>Yes</td>\n",
       "      <td>8.0</td>\n",
       "    </tr>\n",
       "  </tbody>\n",
       "</table>\n",
       "</div>"
      ],
      "text/plain": [
       "   customer_id      first_name  last_name  gender  \\\n",
       "0            1         Laraine  Medendorp       F   \n",
       "1            2             Eli    Bockman    Male   \n",
       "2            3           Arlin     Dearle    Male   \n",
       "3            4          Talbot        NaN    Male   \n",
       "4            5  Sheila-kathryn     Calton  Female   \n",
       "\n",
       "   past_3_years_bike_related_purchases                  DOB  \\\n",
       "0                                   93  1953-10-12 00:00:00   \n",
       "1                                   81  1980-12-16 00:00:00   \n",
       "2                                   61  1954-01-20 00:00:00   \n",
       "3                                   33  1961-10-03 00:00:00   \n",
       "4                                   56  1977-05-13 00:00:00   \n",
       "\n",
       "                job_title job_industry_category     wealth_segment  \\\n",
       "0     Executive Secretary                Health      Mass Customer   \n",
       "1  Administrative Officer    Financial Services      Mass Customer   \n",
       "2      Recruiting Manager              Property      Mass Customer   \n",
       "3                     NaN                    IT      Mass Customer   \n",
       "4           Senior Editor                   NaN  Affluent Customer   \n",
       "\n",
       "  deceased_indicator                                            default  \\\n",
       "0                  N                                                 \"'   \n",
       "1                  N                       <script>alert('hi')</script>   \n",
       "2                  N                                2018-02-01 00:00:00   \n",
       "3                  N  () { _; } >_[$($())] { touch /tmp/blns.shellsh...   \n",
       "4                  N                                                NIL   \n",
       "\n",
       "  owns_car  tenure  \n",
       "0      Yes    11.0  \n",
       "1      Yes    16.0  \n",
       "2      Yes    15.0  \n",
       "3       No     7.0  \n",
       "4      Yes     8.0  "
      ]
     },
     "execution_count": 284,
     "metadata": {},
     "output_type": "execute_result"
    }
   ],
   "source": [
    "demographic.head()"
   ]
  },
  {
   "cell_type": "code",
   "execution_count": 285,
   "id": "e4ff86b6",
   "metadata": {},
   "outputs": [
    {
     "name": "stdout",
     "output_type": "stream",
     "text": [
      "<class 'pandas.core.frame.DataFrame'>\n",
      "RangeIndex: 4000 entries, 0 to 3999\n",
      "Data columns (total 13 columns):\n",
      " #   Column                               Non-Null Count  Dtype  \n",
      "---  ------                               --------------  -----  \n",
      " 0   customer_id                          4000 non-null   int64  \n",
      " 1   first_name                           4000 non-null   object \n",
      " 2   last_name                            3875 non-null   object \n",
      " 3   gender                               4000 non-null   object \n",
      " 4   past_3_years_bike_related_purchases  4000 non-null   int64  \n",
      " 5   DOB                                  3913 non-null   object \n",
      " 6   job_title                            3494 non-null   object \n",
      " 7   job_industry_category                3344 non-null   object \n",
      " 8   wealth_segment                       4000 non-null   object \n",
      " 9   deceased_indicator                   4000 non-null   object \n",
      " 10  default                              3698 non-null   object \n",
      " 11  owns_car                             4000 non-null   object \n",
      " 12  tenure                               3913 non-null   float64\n",
      "dtypes: float64(1), int64(2), object(10)\n",
      "memory usage: 406.4+ KB\n"
     ]
    }
   ],
   "source": [
    "demographic.info()"
   ]
  },
  {
   "cell_type": "markdown",
   "id": "8b2ec6d2",
   "metadata": {},
   "source": [
    "# Importing customer address sheet"
   ]
  },
  {
   "cell_type": "code",
   "execution_count": 286,
   "id": "a0cb5b02",
   "metadata": {},
   "outputs": [],
   "source": [
    "customer_address=Data['CustomerAddress']"
   ]
  },
  {
   "cell_type": "code",
   "execution_count": 287,
   "id": "b082df68",
   "metadata": {},
   "outputs": [],
   "source": [
    "address=customer_address.copy()"
   ]
  },
  {
   "cell_type": "code",
   "execution_count": 288,
   "id": "27566763",
   "metadata": {},
   "outputs": [
    {
     "data": {
      "text/html": [
       "<div>\n",
       "<style scoped>\n",
       "    .dataframe tbody tr th:only-of-type {\n",
       "        vertical-align: middle;\n",
       "    }\n",
       "\n",
       "    .dataframe tbody tr th {\n",
       "        vertical-align: top;\n",
       "    }\n",
       "\n",
       "    .dataframe thead th {\n",
       "        text-align: right;\n",
       "    }\n",
       "</style>\n",
       "<table border=\"1\" class=\"dataframe\">\n",
       "  <thead>\n",
       "    <tr style=\"text-align: right;\">\n",
       "      <th></th>\n",
       "      <th>customer_id</th>\n",
       "      <th>address</th>\n",
       "      <th>postcode</th>\n",
       "      <th>state</th>\n",
       "      <th>country</th>\n",
       "      <th>property_valuation</th>\n",
       "    </tr>\n",
       "  </thead>\n",
       "  <tbody>\n",
       "    <tr>\n",
       "      <th>0</th>\n",
       "      <td>1</td>\n",
       "      <td>060 Morning Avenue</td>\n",
       "      <td>2016</td>\n",
       "      <td>New South Wales</td>\n",
       "      <td>Australia</td>\n",
       "      <td>10</td>\n",
       "    </tr>\n",
       "    <tr>\n",
       "      <th>1</th>\n",
       "      <td>2</td>\n",
       "      <td>6 Meadow Vale Court</td>\n",
       "      <td>2153</td>\n",
       "      <td>New South Wales</td>\n",
       "      <td>Australia</td>\n",
       "      <td>10</td>\n",
       "    </tr>\n",
       "    <tr>\n",
       "      <th>2</th>\n",
       "      <td>4</td>\n",
       "      <td>0 Holy Cross Court</td>\n",
       "      <td>4211</td>\n",
       "      <td>QLD</td>\n",
       "      <td>Australia</td>\n",
       "      <td>9</td>\n",
       "    </tr>\n",
       "    <tr>\n",
       "      <th>3</th>\n",
       "      <td>5</td>\n",
       "      <td>17979 Del Mar Point</td>\n",
       "      <td>2448</td>\n",
       "      <td>New South Wales</td>\n",
       "      <td>Australia</td>\n",
       "      <td>4</td>\n",
       "    </tr>\n",
       "    <tr>\n",
       "      <th>4</th>\n",
       "      <td>6</td>\n",
       "      <td>9 Oakridge Court</td>\n",
       "      <td>3216</td>\n",
       "      <td>VIC</td>\n",
       "      <td>Australia</td>\n",
       "      <td>9</td>\n",
       "    </tr>\n",
       "  </tbody>\n",
       "</table>\n",
       "</div>"
      ],
      "text/plain": [
       "   customer_id              address  postcode            state    country  \\\n",
       "0            1   060 Morning Avenue      2016  New South Wales  Australia   \n",
       "1            2  6 Meadow Vale Court      2153  New South Wales  Australia   \n",
       "2            4   0 Holy Cross Court      4211              QLD  Australia   \n",
       "3            5  17979 Del Mar Point      2448  New South Wales  Australia   \n",
       "4            6     9 Oakridge Court      3216              VIC  Australia   \n",
       "\n",
       "   property_valuation  \n",
       "0                  10  \n",
       "1                  10  \n",
       "2                   9  \n",
       "3                   4  \n",
       "4                   9  "
      ]
     },
     "execution_count": 288,
     "metadata": {},
     "output_type": "execute_result"
    }
   ],
   "source": [
    "address.head()"
   ]
  },
  {
   "cell_type": "markdown",
   "id": "3779cbdc",
   "metadata": {},
   "source": [
    "## Merging customer demographic with customer address"
   ]
  },
  {
   "cell_type": "code",
   "execution_count": 289,
   "id": "3e9cf954",
   "metadata": {},
   "outputs": [],
   "source": [
    "#add columns from address to demographic using customer id as key\n",
    "customer_demo=demographic.merge(address, on='customer_id', how='left')\n"
   ]
  },
  {
   "cell_type": "code",
   "execution_count": 290,
   "id": "3eb24592",
   "metadata": {},
   "outputs": [
    {
     "data": {
      "text/html": [
       "<div>\n",
       "<style scoped>\n",
       "    .dataframe tbody tr th:only-of-type {\n",
       "        vertical-align: middle;\n",
       "    }\n",
       "\n",
       "    .dataframe tbody tr th {\n",
       "        vertical-align: top;\n",
       "    }\n",
       "\n",
       "    .dataframe thead th {\n",
       "        text-align: right;\n",
       "    }\n",
       "</style>\n",
       "<table border=\"1\" class=\"dataframe\">\n",
       "  <thead>\n",
       "    <tr style=\"text-align: right;\">\n",
       "      <th></th>\n",
       "      <th>customer_id</th>\n",
       "      <th>first_name</th>\n",
       "      <th>last_name</th>\n",
       "      <th>gender</th>\n",
       "      <th>past_3_years_bike_related_purchases</th>\n",
       "      <th>DOB</th>\n",
       "      <th>job_title</th>\n",
       "      <th>job_industry_category</th>\n",
       "      <th>wealth_segment</th>\n",
       "      <th>deceased_indicator</th>\n",
       "      <th>default</th>\n",
       "      <th>owns_car</th>\n",
       "      <th>tenure</th>\n",
       "      <th>address</th>\n",
       "      <th>postcode</th>\n",
       "      <th>state</th>\n",
       "      <th>country</th>\n",
       "      <th>property_valuation</th>\n",
       "    </tr>\n",
       "  </thead>\n",
       "  <tbody>\n",
       "    <tr>\n",
       "      <th>0</th>\n",
       "      <td>1</td>\n",
       "      <td>Laraine</td>\n",
       "      <td>Medendorp</td>\n",
       "      <td>F</td>\n",
       "      <td>93</td>\n",
       "      <td>1953-10-12 00:00:00</td>\n",
       "      <td>Executive Secretary</td>\n",
       "      <td>Health</td>\n",
       "      <td>Mass Customer</td>\n",
       "      <td>N</td>\n",
       "      <td>\"'</td>\n",
       "      <td>Yes</td>\n",
       "      <td>11.0</td>\n",
       "      <td>060 Morning Avenue</td>\n",
       "      <td>2016.0</td>\n",
       "      <td>New South Wales</td>\n",
       "      <td>Australia</td>\n",
       "      <td>10.0</td>\n",
       "    </tr>\n",
       "    <tr>\n",
       "      <th>1</th>\n",
       "      <td>2</td>\n",
       "      <td>Eli</td>\n",
       "      <td>Bockman</td>\n",
       "      <td>Male</td>\n",
       "      <td>81</td>\n",
       "      <td>1980-12-16 00:00:00</td>\n",
       "      <td>Administrative Officer</td>\n",
       "      <td>Financial Services</td>\n",
       "      <td>Mass Customer</td>\n",
       "      <td>N</td>\n",
       "      <td>&lt;script&gt;alert('hi')&lt;/script&gt;</td>\n",
       "      <td>Yes</td>\n",
       "      <td>16.0</td>\n",
       "      <td>6 Meadow Vale Court</td>\n",
       "      <td>2153.0</td>\n",
       "      <td>New South Wales</td>\n",
       "      <td>Australia</td>\n",
       "      <td>10.0</td>\n",
       "    </tr>\n",
       "    <tr>\n",
       "      <th>2</th>\n",
       "      <td>3</td>\n",
       "      <td>Arlin</td>\n",
       "      <td>Dearle</td>\n",
       "      <td>Male</td>\n",
       "      <td>61</td>\n",
       "      <td>1954-01-20 00:00:00</td>\n",
       "      <td>Recruiting Manager</td>\n",
       "      <td>Property</td>\n",
       "      <td>Mass Customer</td>\n",
       "      <td>N</td>\n",
       "      <td>2018-02-01 00:00:00</td>\n",
       "      <td>Yes</td>\n",
       "      <td>15.0</td>\n",
       "      <td>NaN</td>\n",
       "      <td>NaN</td>\n",
       "      <td>NaN</td>\n",
       "      <td>NaN</td>\n",
       "      <td>NaN</td>\n",
       "    </tr>\n",
       "    <tr>\n",
       "      <th>3</th>\n",
       "      <td>4</td>\n",
       "      <td>Talbot</td>\n",
       "      <td>NaN</td>\n",
       "      <td>Male</td>\n",
       "      <td>33</td>\n",
       "      <td>1961-10-03 00:00:00</td>\n",
       "      <td>NaN</td>\n",
       "      <td>IT</td>\n",
       "      <td>Mass Customer</td>\n",
       "      <td>N</td>\n",
       "      <td>() { _; } &gt;_[$($())] { touch /tmp/blns.shellsh...</td>\n",
       "      <td>No</td>\n",
       "      <td>7.0</td>\n",
       "      <td>0 Holy Cross Court</td>\n",
       "      <td>4211.0</td>\n",
       "      <td>QLD</td>\n",
       "      <td>Australia</td>\n",
       "      <td>9.0</td>\n",
       "    </tr>\n",
       "    <tr>\n",
       "      <th>4</th>\n",
       "      <td>5</td>\n",
       "      <td>Sheila-kathryn</td>\n",
       "      <td>Calton</td>\n",
       "      <td>Female</td>\n",
       "      <td>56</td>\n",
       "      <td>1977-05-13 00:00:00</td>\n",
       "      <td>Senior Editor</td>\n",
       "      <td>NaN</td>\n",
       "      <td>Affluent Customer</td>\n",
       "      <td>N</td>\n",
       "      <td>NIL</td>\n",
       "      <td>Yes</td>\n",
       "      <td>8.0</td>\n",
       "      <td>17979 Del Mar Point</td>\n",
       "      <td>2448.0</td>\n",
       "      <td>New South Wales</td>\n",
       "      <td>Australia</td>\n",
       "      <td>4.0</td>\n",
       "    </tr>\n",
       "  </tbody>\n",
       "</table>\n",
       "</div>"
      ],
      "text/plain": [
       "   customer_id      first_name  last_name  gender  \\\n",
       "0            1         Laraine  Medendorp       F   \n",
       "1            2             Eli    Bockman    Male   \n",
       "2            3           Arlin     Dearle    Male   \n",
       "3            4          Talbot        NaN    Male   \n",
       "4            5  Sheila-kathryn     Calton  Female   \n",
       "\n",
       "   past_3_years_bike_related_purchases                  DOB  \\\n",
       "0                                   93  1953-10-12 00:00:00   \n",
       "1                                   81  1980-12-16 00:00:00   \n",
       "2                                   61  1954-01-20 00:00:00   \n",
       "3                                   33  1961-10-03 00:00:00   \n",
       "4                                   56  1977-05-13 00:00:00   \n",
       "\n",
       "                job_title job_industry_category     wealth_segment  \\\n",
       "0     Executive Secretary                Health      Mass Customer   \n",
       "1  Administrative Officer    Financial Services      Mass Customer   \n",
       "2      Recruiting Manager              Property      Mass Customer   \n",
       "3                     NaN                    IT      Mass Customer   \n",
       "4           Senior Editor                   NaN  Affluent Customer   \n",
       "\n",
       "  deceased_indicator                                            default  \\\n",
       "0                  N                                                 \"'   \n",
       "1                  N                       <script>alert('hi')</script>   \n",
       "2                  N                                2018-02-01 00:00:00   \n",
       "3                  N  () { _; } >_[$($())] { touch /tmp/blns.shellsh...   \n",
       "4                  N                                                NIL   \n",
       "\n",
       "  owns_car  tenure              address  postcode            state    country  \\\n",
       "0      Yes    11.0   060 Morning Avenue    2016.0  New South Wales  Australia   \n",
       "1      Yes    16.0  6 Meadow Vale Court    2153.0  New South Wales  Australia   \n",
       "2      Yes    15.0                  NaN       NaN              NaN        NaN   \n",
       "3       No     7.0   0 Holy Cross Court    4211.0              QLD  Australia   \n",
       "4      Yes     8.0  17979 Del Mar Point    2448.0  New South Wales  Australia   \n",
       "\n",
       "   property_valuation  \n",
       "0                10.0  \n",
       "1                10.0  \n",
       "2                 NaN  \n",
       "3                 9.0  \n",
       "4                 4.0  "
      ]
     },
     "execution_count": 290,
     "metadata": {},
     "output_type": "execute_result"
    }
   ],
   "source": [
    " customer_demo.head()"
   ]
  },
  {
   "cell_type": "code",
   "execution_count": 291,
   "id": "8346ff2b",
   "metadata": {},
   "outputs": [],
   "source": [
    "#dropping unnecessary columns\n",
    "customer_demo=customer_demo.drop(columns=['default','address','country'])"
   ]
  },
  {
   "cell_type": "code",
   "execution_count": 292,
   "id": "246fbb54",
   "metadata": {},
   "outputs": [
    {
     "data": {
      "text/plain": [
       "4000"
      ]
     },
     "execution_count": 292,
     "metadata": {},
     "output_type": "execute_result"
    }
   ],
   "source": [
    "customer_demo['customer_id'].max()"
   ]
  },
  {
   "cell_type": "markdown",
   "id": "23adeab4",
   "metadata": {},
   "source": [
    "### Adding customer id column to newcustomer list starting from 4001"
   ]
  },
  {
   "cell_type": "code",
   "execution_count": 293,
   "id": "3c4a5a16",
   "metadata": {},
   "outputs": [],
   "source": [
    "New['customer_id']=range(4001,4001 + len (New))"
   ]
  },
  {
   "cell_type": "code",
   "execution_count": 294,
   "id": "ca002cbe",
   "metadata": {},
   "outputs": [
    {
     "data": {
      "text/html": [
       "<div>\n",
       "<style scoped>\n",
       "    .dataframe tbody tr th:only-of-type {\n",
       "        vertical-align: middle;\n",
       "    }\n",
       "\n",
       "    .dataframe tbody tr th {\n",
       "        vertical-align: top;\n",
       "    }\n",
       "\n",
       "    .dataframe thead th {\n",
       "        text-align: right;\n",
       "    }\n",
       "</style>\n",
       "<table border=\"1\" class=\"dataframe\">\n",
       "  <thead>\n",
       "    <tr style=\"text-align: right;\">\n",
       "      <th></th>\n",
       "      <th>first_name</th>\n",
       "      <th>last_name</th>\n",
       "      <th>gender</th>\n",
       "      <th>past_3_years_bike_related_purchases</th>\n",
       "      <th>DOB</th>\n",
       "      <th>job_title</th>\n",
       "      <th>job_industry_category</th>\n",
       "      <th>wealth_segment</th>\n",
       "      <th>deceased_indicator</th>\n",
       "      <th>owns_car</th>\n",
       "      <th>tenure</th>\n",
       "      <th>address</th>\n",
       "      <th>postcode</th>\n",
       "      <th>state</th>\n",
       "      <th>country</th>\n",
       "      <th>property_valuation</th>\n",
       "      <th>Rank</th>\n",
       "      <th>Value</th>\n",
       "      <th>customer_id</th>\n",
       "    </tr>\n",
       "  </thead>\n",
       "  <tbody>\n",
       "    <tr>\n",
       "      <th>0</th>\n",
       "      <td>Chickie</td>\n",
       "      <td>Brister</td>\n",
       "      <td>Male</td>\n",
       "      <td>86</td>\n",
       "      <td>1957-07-12</td>\n",
       "      <td>General Manager</td>\n",
       "      <td>Manufacturing</td>\n",
       "      <td>Mass Customer</td>\n",
       "      <td>N</td>\n",
       "      <td>Yes</td>\n",
       "      <td>14</td>\n",
       "      <td>45 Shopko Center</td>\n",
       "      <td>4500</td>\n",
       "      <td>QLD</td>\n",
       "      <td>Australia</td>\n",
       "      <td>6</td>\n",
       "      <td>1</td>\n",
       "      <td>1.718750</td>\n",
       "      <td>4001</td>\n",
       "    </tr>\n",
       "    <tr>\n",
       "      <th>1</th>\n",
       "      <td>Morly</td>\n",
       "      <td>Genery</td>\n",
       "      <td>Male</td>\n",
       "      <td>69</td>\n",
       "      <td>1970-03-22</td>\n",
       "      <td>Structural Engineer</td>\n",
       "      <td>Property</td>\n",
       "      <td>Mass Customer</td>\n",
       "      <td>N</td>\n",
       "      <td>No</td>\n",
       "      <td>16</td>\n",
       "      <td>14 Mccormick Park</td>\n",
       "      <td>2113</td>\n",
       "      <td>NSW</td>\n",
       "      <td>Australia</td>\n",
       "      <td>11</td>\n",
       "      <td>1</td>\n",
       "      <td>1.718750</td>\n",
       "      <td>4002</td>\n",
       "    </tr>\n",
       "    <tr>\n",
       "      <th>2</th>\n",
       "      <td>Ardelis</td>\n",
       "      <td>Forrester</td>\n",
       "      <td>Female</td>\n",
       "      <td>10</td>\n",
       "      <td>1974-08-28 00:00:00</td>\n",
       "      <td>Senior Cost Accountant</td>\n",
       "      <td>Financial Services</td>\n",
       "      <td>Affluent Customer</td>\n",
       "      <td>N</td>\n",
       "      <td>No</td>\n",
       "      <td>10</td>\n",
       "      <td>5 Colorado Crossing</td>\n",
       "      <td>3505</td>\n",
       "      <td>VIC</td>\n",
       "      <td>Australia</td>\n",
       "      <td>5</td>\n",
       "      <td>1</td>\n",
       "      <td>1.718750</td>\n",
       "      <td>4003</td>\n",
       "    </tr>\n",
       "    <tr>\n",
       "      <th>3</th>\n",
       "      <td>Lucine</td>\n",
       "      <td>Stutt</td>\n",
       "      <td>Female</td>\n",
       "      <td>64</td>\n",
       "      <td>1979-01-28</td>\n",
       "      <td>Account Representative III</td>\n",
       "      <td>Manufacturing</td>\n",
       "      <td>Affluent Customer</td>\n",
       "      <td>N</td>\n",
       "      <td>Yes</td>\n",
       "      <td>5</td>\n",
       "      <td>207 Annamark Plaza</td>\n",
       "      <td>4814</td>\n",
       "      <td>QLD</td>\n",
       "      <td>Australia</td>\n",
       "      <td>1</td>\n",
       "      <td>4</td>\n",
       "      <td>1.703125</td>\n",
       "      <td>4004</td>\n",
       "    </tr>\n",
       "    <tr>\n",
       "      <th>4</th>\n",
       "      <td>Melinda</td>\n",
       "      <td>Hadlee</td>\n",
       "      <td>Female</td>\n",
       "      <td>34</td>\n",
       "      <td>1965-09-21</td>\n",
       "      <td>Financial Analyst</td>\n",
       "      <td>Financial Services</td>\n",
       "      <td>Affluent Customer</td>\n",
       "      <td>N</td>\n",
       "      <td>No</td>\n",
       "      <td>19</td>\n",
       "      <td>115 Montana Place</td>\n",
       "      <td>2093</td>\n",
       "      <td>NSW</td>\n",
       "      <td>Australia</td>\n",
       "      <td>9</td>\n",
       "      <td>4</td>\n",
       "      <td>1.703125</td>\n",
       "      <td>4005</td>\n",
       "    </tr>\n",
       "  </tbody>\n",
       "</table>\n",
       "</div>"
      ],
      "text/plain": [
       "  first_name  last_name  gender  past_3_years_bike_related_purchases  \\\n",
       "0    Chickie    Brister    Male                                   86   \n",
       "1      Morly     Genery    Male                                   69   \n",
       "2    Ardelis  Forrester  Female                                   10   \n",
       "3     Lucine      Stutt  Female                                   64   \n",
       "4    Melinda     Hadlee  Female                                   34   \n",
       "\n",
       "                   DOB                   job_title job_industry_category  \\\n",
       "0           1957-07-12             General Manager         Manufacturing   \n",
       "1           1970-03-22         Structural Engineer              Property   \n",
       "2  1974-08-28 00:00:00      Senior Cost Accountant    Financial Services   \n",
       "3           1979-01-28  Account Representative III         Manufacturing   \n",
       "4           1965-09-21           Financial Analyst    Financial Services   \n",
       "\n",
       "      wealth_segment deceased_indicator owns_car  tenure              address  \\\n",
       "0      Mass Customer                  N      Yes      14     45 Shopko Center   \n",
       "1      Mass Customer                  N       No      16    14 Mccormick Park   \n",
       "2  Affluent Customer                  N       No      10  5 Colorado Crossing   \n",
       "3  Affluent Customer                  N      Yes       5   207 Annamark Plaza   \n",
       "4  Affluent Customer                  N       No      19    115 Montana Place   \n",
       "\n",
       "   postcode state    country  property_valuation  Rank     Value  customer_id  \n",
       "0      4500   QLD  Australia                   6     1  1.718750         4001  \n",
       "1      2113   NSW  Australia                  11     1  1.718750         4002  \n",
       "2      3505   VIC  Australia                   5     1  1.718750         4003  \n",
       "3      4814   QLD  Australia                   1     4  1.703125         4004  \n",
       "4      2093   NSW  Australia                   9     4  1.703125         4005  "
      ]
     },
     "execution_count": 294,
     "metadata": {},
     "output_type": "execute_result"
    }
   ],
   "source": [
    "New.head()"
   ]
  },
  {
   "cell_type": "code",
   "execution_count": 295,
   "id": "69089dec",
   "metadata": {},
   "outputs": [],
   "source": [
    "#making a copy of New customer list to drop columns, we neeed to access the rankings later on.\n",
    "New_copy=New.copy()"
   ]
  },
  {
   "cell_type": "code",
   "execution_count": 296,
   "id": "9b42787e",
   "metadata": {},
   "outputs": [],
   "source": [
    "New_copy=New_copy.drop(columns=['Rank','Value'])"
   ]
  },
  {
   "cell_type": "code",
   "execution_count": 297,
   "id": "ef2ba48e",
   "metadata": {},
   "outputs": [],
   "source": [
    "#dropping more unnecessary columns\n",
    "New_copy=New_copy.drop(columns=['address','country'])"
   ]
  },
  {
   "cell_type": "code",
   "execution_count": 298,
   "id": "3462b759",
   "metadata": {},
   "outputs": [
    {
     "data": {
      "text/html": [
       "<div>\n",
       "<style scoped>\n",
       "    .dataframe tbody tr th:only-of-type {\n",
       "        vertical-align: middle;\n",
       "    }\n",
       "\n",
       "    .dataframe tbody tr th {\n",
       "        vertical-align: top;\n",
       "    }\n",
       "\n",
       "    .dataframe thead th {\n",
       "        text-align: right;\n",
       "    }\n",
       "</style>\n",
       "<table border=\"1\" class=\"dataframe\">\n",
       "  <thead>\n",
       "    <tr style=\"text-align: right;\">\n",
       "      <th></th>\n",
       "      <th>first_name</th>\n",
       "      <th>last_name</th>\n",
       "      <th>gender</th>\n",
       "      <th>past_3_years_bike_related_purchases</th>\n",
       "      <th>DOB</th>\n",
       "      <th>job_title</th>\n",
       "      <th>job_industry_category</th>\n",
       "      <th>wealth_segment</th>\n",
       "      <th>deceased_indicator</th>\n",
       "      <th>owns_car</th>\n",
       "      <th>tenure</th>\n",
       "      <th>postcode</th>\n",
       "      <th>state</th>\n",
       "      <th>property_valuation</th>\n",
       "      <th>customer_id</th>\n",
       "    </tr>\n",
       "  </thead>\n",
       "  <tbody>\n",
       "    <tr>\n",
       "      <th>0</th>\n",
       "      <td>Chickie</td>\n",
       "      <td>Brister</td>\n",
       "      <td>Male</td>\n",
       "      <td>86</td>\n",
       "      <td>1957-07-12</td>\n",
       "      <td>General Manager</td>\n",
       "      <td>Manufacturing</td>\n",
       "      <td>Mass Customer</td>\n",
       "      <td>N</td>\n",
       "      <td>Yes</td>\n",
       "      <td>14</td>\n",
       "      <td>4500</td>\n",
       "      <td>QLD</td>\n",
       "      <td>6</td>\n",
       "      <td>4001</td>\n",
       "    </tr>\n",
       "    <tr>\n",
       "      <th>1</th>\n",
       "      <td>Morly</td>\n",
       "      <td>Genery</td>\n",
       "      <td>Male</td>\n",
       "      <td>69</td>\n",
       "      <td>1970-03-22</td>\n",
       "      <td>Structural Engineer</td>\n",
       "      <td>Property</td>\n",
       "      <td>Mass Customer</td>\n",
       "      <td>N</td>\n",
       "      <td>No</td>\n",
       "      <td>16</td>\n",
       "      <td>2113</td>\n",
       "      <td>NSW</td>\n",
       "      <td>11</td>\n",
       "      <td>4002</td>\n",
       "    </tr>\n",
       "    <tr>\n",
       "      <th>2</th>\n",
       "      <td>Ardelis</td>\n",
       "      <td>Forrester</td>\n",
       "      <td>Female</td>\n",
       "      <td>10</td>\n",
       "      <td>1974-08-28 00:00:00</td>\n",
       "      <td>Senior Cost Accountant</td>\n",
       "      <td>Financial Services</td>\n",
       "      <td>Affluent Customer</td>\n",
       "      <td>N</td>\n",
       "      <td>No</td>\n",
       "      <td>10</td>\n",
       "      <td>3505</td>\n",
       "      <td>VIC</td>\n",
       "      <td>5</td>\n",
       "      <td>4003</td>\n",
       "    </tr>\n",
       "    <tr>\n",
       "      <th>3</th>\n",
       "      <td>Lucine</td>\n",
       "      <td>Stutt</td>\n",
       "      <td>Female</td>\n",
       "      <td>64</td>\n",
       "      <td>1979-01-28</td>\n",
       "      <td>Account Representative III</td>\n",
       "      <td>Manufacturing</td>\n",
       "      <td>Affluent Customer</td>\n",
       "      <td>N</td>\n",
       "      <td>Yes</td>\n",
       "      <td>5</td>\n",
       "      <td>4814</td>\n",
       "      <td>QLD</td>\n",
       "      <td>1</td>\n",
       "      <td>4004</td>\n",
       "    </tr>\n",
       "    <tr>\n",
       "      <th>4</th>\n",
       "      <td>Melinda</td>\n",
       "      <td>Hadlee</td>\n",
       "      <td>Female</td>\n",
       "      <td>34</td>\n",
       "      <td>1965-09-21</td>\n",
       "      <td>Financial Analyst</td>\n",
       "      <td>Financial Services</td>\n",
       "      <td>Affluent Customer</td>\n",
       "      <td>N</td>\n",
       "      <td>No</td>\n",
       "      <td>19</td>\n",
       "      <td>2093</td>\n",
       "      <td>NSW</td>\n",
       "      <td>9</td>\n",
       "      <td>4005</td>\n",
       "    </tr>\n",
       "  </tbody>\n",
       "</table>\n",
       "</div>"
      ],
      "text/plain": [
       "  first_name  last_name  gender  past_3_years_bike_related_purchases  \\\n",
       "0    Chickie    Brister    Male                                   86   \n",
       "1      Morly     Genery    Male                                   69   \n",
       "2    Ardelis  Forrester  Female                                   10   \n",
       "3     Lucine      Stutt  Female                                   64   \n",
       "4    Melinda     Hadlee  Female                                   34   \n",
       "\n",
       "                   DOB                   job_title job_industry_category  \\\n",
       "0           1957-07-12             General Manager         Manufacturing   \n",
       "1           1970-03-22         Structural Engineer              Property   \n",
       "2  1974-08-28 00:00:00      Senior Cost Accountant    Financial Services   \n",
       "3           1979-01-28  Account Representative III         Manufacturing   \n",
       "4           1965-09-21           Financial Analyst    Financial Services   \n",
       "\n",
       "      wealth_segment deceased_indicator owns_car  tenure  postcode state  \\\n",
       "0      Mass Customer                  N      Yes      14      4500   QLD   \n",
       "1      Mass Customer                  N       No      16      2113   NSW   \n",
       "2  Affluent Customer                  N       No      10      3505   VIC   \n",
       "3  Affluent Customer                  N      Yes       5      4814   QLD   \n",
       "4  Affluent Customer                  N       No      19      2093   NSW   \n",
       "\n",
       "   property_valuation  customer_id  \n",
       "0                   6         4001  \n",
       "1                  11         4002  \n",
       "2                   5         4003  \n",
       "3                   1         4004  \n",
       "4                   9         4005  "
      ]
     },
     "execution_count": 298,
     "metadata": {},
     "output_type": "execute_result"
    }
   ],
   "source": [
    "New_copy.head()"
   ]
  },
  {
   "cell_type": "code",
   "execution_count": 299,
   "id": "005d7e06",
   "metadata": {},
   "outputs": [
    {
     "data": {
      "text/html": [
       "<div>\n",
       "<style scoped>\n",
       "    .dataframe tbody tr th:only-of-type {\n",
       "        vertical-align: middle;\n",
       "    }\n",
       "\n",
       "    .dataframe tbody tr th {\n",
       "        vertical-align: top;\n",
       "    }\n",
       "\n",
       "    .dataframe thead th {\n",
       "        text-align: right;\n",
       "    }\n",
       "</style>\n",
       "<table border=\"1\" class=\"dataframe\">\n",
       "  <thead>\n",
       "    <tr style=\"text-align: right;\">\n",
       "      <th></th>\n",
       "      <th>customer_id</th>\n",
       "      <th>first_name</th>\n",
       "      <th>last_name</th>\n",
       "      <th>gender</th>\n",
       "      <th>past_3_years_bike_related_purchases</th>\n",
       "      <th>DOB</th>\n",
       "      <th>job_title</th>\n",
       "      <th>job_industry_category</th>\n",
       "      <th>wealth_segment</th>\n",
       "      <th>deceased_indicator</th>\n",
       "      <th>owns_car</th>\n",
       "      <th>tenure</th>\n",
       "      <th>postcode</th>\n",
       "      <th>state</th>\n",
       "      <th>property_valuation</th>\n",
       "    </tr>\n",
       "  </thead>\n",
       "  <tbody>\n",
       "    <tr>\n",
       "      <th>0</th>\n",
       "      <td>1</td>\n",
       "      <td>Laraine</td>\n",
       "      <td>Medendorp</td>\n",
       "      <td>F</td>\n",
       "      <td>93</td>\n",
       "      <td>1953-10-12 00:00:00</td>\n",
       "      <td>Executive Secretary</td>\n",
       "      <td>Health</td>\n",
       "      <td>Mass Customer</td>\n",
       "      <td>N</td>\n",
       "      <td>Yes</td>\n",
       "      <td>11.0</td>\n",
       "      <td>2016.0</td>\n",
       "      <td>New South Wales</td>\n",
       "      <td>10.0</td>\n",
       "    </tr>\n",
       "    <tr>\n",
       "      <th>1</th>\n",
       "      <td>2</td>\n",
       "      <td>Eli</td>\n",
       "      <td>Bockman</td>\n",
       "      <td>Male</td>\n",
       "      <td>81</td>\n",
       "      <td>1980-12-16 00:00:00</td>\n",
       "      <td>Administrative Officer</td>\n",
       "      <td>Financial Services</td>\n",
       "      <td>Mass Customer</td>\n",
       "      <td>N</td>\n",
       "      <td>Yes</td>\n",
       "      <td>16.0</td>\n",
       "      <td>2153.0</td>\n",
       "      <td>New South Wales</td>\n",
       "      <td>10.0</td>\n",
       "    </tr>\n",
       "    <tr>\n",
       "      <th>2</th>\n",
       "      <td>3</td>\n",
       "      <td>Arlin</td>\n",
       "      <td>Dearle</td>\n",
       "      <td>Male</td>\n",
       "      <td>61</td>\n",
       "      <td>1954-01-20 00:00:00</td>\n",
       "      <td>Recruiting Manager</td>\n",
       "      <td>Property</td>\n",
       "      <td>Mass Customer</td>\n",
       "      <td>N</td>\n",
       "      <td>Yes</td>\n",
       "      <td>15.0</td>\n",
       "      <td>NaN</td>\n",
       "      <td>NaN</td>\n",
       "      <td>NaN</td>\n",
       "    </tr>\n",
       "    <tr>\n",
       "      <th>3</th>\n",
       "      <td>4</td>\n",
       "      <td>Talbot</td>\n",
       "      <td>NaN</td>\n",
       "      <td>Male</td>\n",
       "      <td>33</td>\n",
       "      <td>1961-10-03 00:00:00</td>\n",
       "      <td>NaN</td>\n",
       "      <td>IT</td>\n",
       "      <td>Mass Customer</td>\n",
       "      <td>N</td>\n",
       "      <td>No</td>\n",
       "      <td>7.0</td>\n",
       "      <td>4211.0</td>\n",
       "      <td>QLD</td>\n",
       "      <td>9.0</td>\n",
       "    </tr>\n",
       "    <tr>\n",
       "      <th>4</th>\n",
       "      <td>5</td>\n",
       "      <td>Sheila-kathryn</td>\n",
       "      <td>Calton</td>\n",
       "      <td>Female</td>\n",
       "      <td>56</td>\n",
       "      <td>1977-05-13 00:00:00</td>\n",
       "      <td>Senior Editor</td>\n",
       "      <td>NaN</td>\n",
       "      <td>Affluent Customer</td>\n",
       "      <td>N</td>\n",
       "      <td>Yes</td>\n",
       "      <td>8.0</td>\n",
       "      <td>2448.0</td>\n",
       "      <td>New South Wales</td>\n",
       "      <td>4.0</td>\n",
       "    </tr>\n",
       "  </tbody>\n",
       "</table>\n",
       "</div>"
      ],
      "text/plain": [
       "   customer_id      first_name  last_name  gender  \\\n",
       "0            1         Laraine  Medendorp       F   \n",
       "1            2             Eli    Bockman    Male   \n",
       "2            3           Arlin     Dearle    Male   \n",
       "3            4          Talbot        NaN    Male   \n",
       "4            5  Sheila-kathryn     Calton  Female   \n",
       "\n",
       "   past_3_years_bike_related_purchases                  DOB  \\\n",
       "0                                   93  1953-10-12 00:00:00   \n",
       "1                                   81  1980-12-16 00:00:00   \n",
       "2                                   61  1954-01-20 00:00:00   \n",
       "3                                   33  1961-10-03 00:00:00   \n",
       "4                                   56  1977-05-13 00:00:00   \n",
       "\n",
       "                job_title job_industry_category     wealth_segment  \\\n",
       "0     Executive Secretary                Health      Mass Customer   \n",
       "1  Administrative Officer    Financial Services      Mass Customer   \n",
       "2      Recruiting Manager              Property      Mass Customer   \n",
       "3                     NaN                    IT      Mass Customer   \n",
       "4           Senior Editor                   NaN  Affluent Customer   \n",
       "\n",
       "  deceased_indicator owns_car  tenure  postcode            state  \\\n",
       "0                  N      Yes    11.0    2016.0  New South Wales   \n",
       "1                  N      Yes    16.0    2153.0  New South Wales   \n",
       "2                  N      Yes    15.0       NaN              NaN   \n",
       "3                  N       No     7.0    4211.0              QLD   \n",
       "4                  N      Yes     8.0    2448.0  New South Wales   \n",
       "\n",
       "   property_valuation  \n",
       "0                10.0  \n",
       "1                10.0  \n",
       "2                 NaN  \n",
       "3                 9.0  \n",
       "4                 4.0  "
      ]
     },
     "execution_count": 299,
     "metadata": {},
     "output_type": "execute_result"
    }
   ],
   "source": [
    "customer_demo.head()"
   ]
  },
  {
   "cell_type": "markdown",
   "id": "ea5106b3",
   "metadata": {},
   "source": [
    "## Appending Newcustomerlist to Customer demograhic "
   ]
  },
  {
   "cell_type": "code",
   "execution_count": 300,
   "id": "18a0e757",
   "metadata": {},
   "outputs": [],
   "source": [
    "#Rearranging the columns of New customer list to match with customer demographic in preparation for appending\n",
    "New_copy=New_copy.reindex(columns=customer_demo.columns)"
   ]
  },
  {
   "cell_type": "code",
   "execution_count": 301,
   "id": "a02084ba",
   "metadata": {},
   "outputs": [
    {
     "name": "stdout",
     "output_type": "stream",
     "text": [
      "<class 'pandas.core.frame.DataFrame'>\n",
      "RangeIndex: 1000 entries, 0 to 999\n",
      "Data columns (total 15 columns):\n",
      " #   Column                               Non-Null Count  Dtype \n",
      "---  ------                               --------------  ----- \n",
      " 0   customer_id                          1000 non-null   int64 \n",
      " 1   first_name                           1000 non-null   object\n",
      " 2   last_name                            971 non-null    object\n",
      " 3   gender                               1000 non-null   object\n",
      " 4   past_3_years_bike_related_purchases  1000 non-null   int64 \n",
      " 5   DOB                                  983 non-null    object\n",
      " 6   job_title                            894 non-null    object\n",
      " 7   job_industry_category                835 non-null    object\n",
      " 8   wealth_segment                       1000 non-null   object\n",
      " 9   deceased_indicator                   1000 non-null   object\n",
      " 10  owns_car                             1000 non-null   object\n",
      " 11  tenure                               1000 non-null   int64 \n",
      " 12  postcode                             1000 non-null   int64 \n",
      " 13  state                                1000 non-null   object\n",
      " 14  property_valuation                   1000 non-null   int64 \n",
      "dtypes: int64(5), object(10)\n",
      "memory usage: 117.3+ KB\n"
     ]
    }
   ],
   "source": [
    "New_copy.info()"
   ]
  },
  {
   "cell_type": "code",
   "execution_count": 302,
   "id": "6b0e7495",
   "metadata": {},
   "outputs": [
    {
     "name": "stdout",
     "output_type": "stream",
     "text": [
      "<class 'pandas.core.frame.DataFrame'>\n",
      "RangeIndex: 4000 entries, 0 to 3999\n",
      "Data columns (total 15 columns):\n",
      " #   Column                               Non-Null Count  Dtype  \n",
      "---  ------                               --------------  -----  \n",
      " 0   customer_id                          4000 non-null   int64  \n",
      " 1   first_name                           4000 non-null   object \n",
      " 2   last_name                            3875 non-null   object \n",
      " 3   gender                               4000 non-null   object \n",
      " 4   past_3_years_bike_related_purchases  4000 non-null   int64  \n",
      " 5   DOB                                  3913 non-null   object \n",
      " 6   job_title                            3494 non-null   object \n",
      " 7   job_industry_category                3344 non-null   object \n",
      " 8   wealth_segment                       4000 non-null   object \n",
      " 9   deceased_indicator                   4000 non-null   object \n",
      " 10  owns_car                             4000 non-null   object \n",
      " 11  tenure                               3913 non-null   float64\n",
      " 12  postcode                             3996 non-null   float64\n",
      " 13  state                                3996 non-null   object \n",
      " 14  property_valuation                   3996 non-null   float64\n",
      "dtypes: float64(3), int64(2), object(10)\n",
      "memory usage: 468.9+ KB\n"
     ]
    }
   ],
   "source": [
    "customer_demo.info()"
   ]
  },
  {
   "cell_type": "code",
   "execution_count": 303,
   "id": "814b1397",
   "metadata": {},
   "outputs": [],
   "source": [
    "#Appending  both tables with customer id as primary key\n",
    "customer_demo=pd.concat([customer_demo,New_copy],ignore_index=True)"
   ]
  },
  {
   "cell_type": "code",
   "execution_count": 304,
   "id": "a806f2dc",
   "metadata": {},
   "outputs": [
    {
     "name": "stdout",
     "output_type": "stream",
     "text": [
      "<class 'pandas.core.frame.DataFrame'>\n",
      "RangeIndex: 5000 entries, 0 to 4999\n",
      "Data columns (total 15 columns):\n",
      " #   Column                               Non-Null Count  Dtype  \n",
      "---  ------                               --------------  -----  \n",
      " 0   customer_id                          5000 non-null   int64  \n",
      " 1   first_name                           5000 non-null   object \n",
      " 2   last_name                            4846 non-null   object \n",
      " 3   gender                               5000 non-null   object \n",
      " 4   past_3_years_bike_related_purchases  5000 non-null   int64  \n",
      " 5   DOB                                  4896 non-null   object \n",
      " 6   job_title                            4388 non-null   object \n",
      " 7   job_industry_category                4179 non-null   object \n",
      " 8   wealth_segment                       5000 non-null   object \n",
      " 9   deceased_indicator                   5000 non-null   object \n",
      " 10  owns_car                             5000 non-null   object \n",
      " 11  tenure                               4913 non-null   float64\n",
      " 12  postcode                             4996 non-null   float64\n",
      " 13  state                                4996 non-null   object \n",
      " 14  property_valuation                   4996 non-null   float64\n",
      "dtypes: float64(3), int64(2), object(10)\n",
      "memory usage: 586.1+ KB\n"
     ]
    }
   ],
   "source": [
    "customer_demo.info()"
   ]
  },
  {
   "cell_type": "code",
   "execution_count": 305,
   "id": "25637721",
   "metadata": {},
   "outputs": [],
   "source": [
    "#To check for any duplicated customer from new customer list\n",
    "duplicated_customer=customer_demo[customer_demo.duplicated(subset=['first_name','last_name','gender','past_3_years_bike_related_purchases','DOB','job_title','job_industry_category','wealth_segment','deceased_indicator','owns_car','tenure','postcode','state','property_valuation'])]"
   ]
  },
  {
   "cell_type": "code",
   "execution_count": 306,
   "id": "cebf25ee",
   "metadata": {},
   "outputs": [
    {
     "data": {
      "text/html": [
       "<div>\n",
       "<style scoped>\n",
       "    .dataframe tbody tr th:only-of-type {\n",
       "        vertical-align: middle;\n",
       "    }\n",
       "\n",
       "    .dataframe tbody tr th {\n",
       "        vertical-align: top;\n",
       "    }\n",
       "\n",
       "    .dataframe thead th {\n",
       "        text-align: right;\n",
       "    }\n",
       "</style>\n",
       "<table border=\"1\" class=\"dataframe\">\n",
       "  <thead>\n",
       "    <tr style=\"text-align: right;\">\n",
       "      <th></th>\n",
       "      <th>customer_id</th>\n",
       "      <th>first_name</th>\n",
       "      <th>last_name</th>\n",
       "      <th>gender</th>\n",
       "      <th>past_3_years_bike_related_purchases</th>\n",
       "      <th>DOB</th>\n",
       "      <th>job_title</th>\n",
       "      <th>job_industry_category</th>\n",
       "      <th>wealth_segment</th>\n",
       "      <th>deceased_indicator</th>\n",
       "      <th>owns_car</th>\n",
       "      <th>tenure</th>\n",
       "      <th>postcode</th>\n",
       "      <th>state</th>\n",
       "      <th>property_valuation</th>\n",
       "    </tr>\n",
       "  </thead>\n",
       "  <tbody>\n",
       "  </tbody>\n",
       "</table>\n",
       "</div>"
      ],
      "text/plain": [
       "Empty DataFrame\n",
       "Columns: [customer_id, first_name, last_name, gender, past_3_years_bike_related_purchases, DOB, job_title, job_industry_category, wealth_segment, deceased_indicator, owns_car, tenure, postcode, state, property_valuation]\n",
       "Index: []"
      ]
     },
     "execution_count": 306,
     "metadata": {},
     "output_type": "execute_result"
    }
   ],
   "source": [
    "duplicated_customer.head()"
   ]
  },
  {
   "cell_type": "code",
   "execution_count": 307,
   "id": "f00f6a7b",
   "metadata": {},
   "outputs": [
    {
     "data": {
      "text/plain": [
       "customer_id                            False\n",
       "first_name                             False\n",
       "last_name                               True\n",
       "gender                                 False\n",
       "past_3_years_bike_related_purchases    False\n",
       "DOB                                     True\n",
       "job_title                               True\n",
       "job_industry_category                   True\n",
       "wealth_segment                         False\n",
       "deceased_indicator                     False\n",
       "owns_car                               False\n",
       "tenure                                  True\n",
       "postcode                                True\n",
       "state                                   True\n",
       "property_valuation                      True\n",
       "dtype: bool"
      ]
     },
     "execution_count": 307,
     "metadata": {},
     "output_type": "execute_result"
    }
   ],
   "source": [
    "customer_demo.isnull().any()"
   ]
  },
  {
   "cell_type": "code",
   "execution_count": 308,
   "id": "28b8bed5",
   "metadata": {},
   "outputs": [
    {
     "data": {
      "text/plain": [
       "customer_id                              0\n",
       "first_name                               0\n",
       "last_name                              154\n",
       "gender                                   0\n",
       "past_3_years_bike_related_purchases      0\n",
       "DOB                                    104\n",
       "job_title                              612\n",
       "job_industry_category                  821\n",
       "wealth_segment                           0\n",
       "deceased_indicator                       0\n",
       "owns_car                                 0\n",
       "tenure                                  87\n",
       "postcode                                 4\n",
       "state                                    4\n",
       "property_valuation                       4\n",
       "dtype: int64"
      ]
     },
     "execution_count": 308,
     "metadata": {},
     "output_type": "execute_result"
    }
   ],
   "source": [
    "customer_demo.isnull().sum()"
   ]
  },
  {
   "cell_type": "markdown",
   "id": "22fc9872",
   "metadata": {},
   "source": [
    "## Merging Customer behaviour with customer demographic"
   ]
  },
  {
   "cell_type": "code",
   "execution_count": 309,
   "id": "030fa379",
   "metadata": {},
   "outputs": [],
   "source": [
    "customer_fulldetails=pd.merge(Customer_behaviour,customer_demo,on='customer_id',how='inner')"
   ]
  },
  {
   "cell_type": "code",
   "execution_count": 310,
   "id": "195602c3",
   "metadata": {},
   "outputs": [
    {
     "data": {
      "text/html": [
       "<div>\n",
       "<style scoped>\n",
       "    .dataframe tbody tr th:only-of-type {\n",
       "        vertical-align: middle;\n",
       "    }\n",
       "\n",
       "    .dataframe tbody tr th {\n",
       "        vertical-align: top;\n",
       "    }\n",
       "\n",
       "    .dataframe thead th {\n",
       "        text-align: right;\n",
       "    }\n",
       "</style>\n",
       "<table border=\"1\" class=\"dataframe\">\n",
       "  <thead>\n",
       "    <tr style=\"text-align: right;\">\n",
       "      <th></th>\n",
       "      <th>customer_id</th>\n",
       "      <th>avg_revenue</th>\n",
       "      <th>num_of_purchase</th>\n",
       "      <th>avg_profit</th>\n",
       "      <th>product_line</th>\n",
       "      <th>product_size</th>\n",
       "      <th>product_class</th>\n",
       "      <th>brand</th>\n",
       "      <th>recency</th>\n",
       "      <th>first_name</th>\n",
       "      <th>...</th>\n",
       "      <th>DOB</th>\n",
       "      <th>job_title</th>\n",
       "      <th>job_industry_category</th>\n",
       "      <th>wealth_segment</th>\n",
       "      <th>deceased_indicator</th>\n",
       "      <th>owns_car</th>\n",
       "      <th>tenure</th>\n",
       "      <th>postcode</th>\n",
       "      <th>state</th>\n",
       "      <th>property_valuation</th>\n",
       "    </tr>\n",
       "  </thead>\n",
       "  <tbody>\n",
       "    <tr>\n",
       "      <th>0</th>\n",
       "      <td>1</td>\n",
       "      <td>825.859091</td>\n",
       "      <td>11</td>\n",
       "      <td>274.371818</td>\n",
       "      <td>Standard</td>\n",
       "      <td>medium</td>\n",
       "      <td>medium</td>\n",
       "      <td>Giant Bicycles</td>\n",
       "      <td>7</td>\n",
       "      <td>Laraine</td>\n",
       "      <td>...</td>\n",
       "      <td>1953-10-12 00:00:00</td>\n",
       "      <td>Executive Secretary</td>\n",
       "      <td>Health</td>\n",
       "      <td>Mass Customer</td>\n",
       "      <td>N</td>\n",
       "      <td>Yes</td>\n",
       "      <td>11.0</td>\n",
       "      <td>2016.0</td>\n",
       "      <td>New South Wales</td>\n",
       "      <td>10.0</td>\n",
       "    </tr>\n",
       "    <tr>\n",
       "      <th>1</th>\n",
       "      <td>2</td>\n",
       "      <td>1383.023333</td>\n",
       "      <td>3</td>\n",
       "      <td>742.086667</td>\n",
       "      <td>Standard</td>\n",
       "      <td>medium</td>\n",
       "      <td>medium</td>\n",
       "      <td>WeareA2B</td>\n",
       "      <td>128</td>\n",
       "      <td>Eli</td>\n",
       "      <td>...</td>\n",
       "      <td>1980-12-16 00:00:00</td>\n",
       "      <td>Administrative Officer</td>\n",
       "      <td>Financial Services</td>\n",
       "      <td>Mass Customer</td>\n",
       "      <td>N</td>\n",
       "      <td>Yes</td>\n",
       "      <td>16.0</td>\n",
       "      <td>2153.0</td>\n",
       "      <td>New South Wales</td>\n",
       "      <td>10.0</td>\n",
       "    </tr>\n",
       "    <tr>\n",
       "      <th>2</th>\n",
       "      <td>3</td>\n",
       "      <td>1236.028750</td>\n",
       "      <td>8</td>\n",
       "      <td>420.351250</td>\n",
       "      <td>Standard</td>\n",
       "      <td>large</td>\n",
       "      <td>medium</td>\n",
       "      <td>Norco Bicycles</td>\n",
       "      <td>102</td>\n",
       "      <td>Arlin</td>\n",
       "      <td>...</td>\n",
       "      <td>1954-01-20 00:00:00</td>\n",
       "      <td>Recruiting Manager</td>\n",
       "      <td>Property</td>\n",
       "      <td>Mass Customer</td>\n",
       "      <td>N</td>\n",
       "      <td>Yes</td>\n",
       "      <td>15.0</td>\n",
       "      <td>NaN</td>\n",
       "      <td>NaN</td>\n",
       "      <td>NaN</td>\n",
       "    </tr>\n",
       "    <tr>\n",
       "      <th>3</th>\n",
       "      <td>4</td>\n",
       "      <td>523.860000</td>\n",
       "      <td>2</td>\n",
       "      <td>110.285000</td>\n",
       "      <td>Standard</td>\n",
       "      <td>large</td>\n",
       "      <td>medium</td>\n",
       "      <td>Giant Bicycles</td>\n",
       "      <td>195</td>\n",
       "      <td>Talbot</td>\n",
       "      <td>...</td>\n",
       "      <td>1961-10-03 00:00:00</td>\n",
       "      <td>NaN</td>\n",
       "      <td>IT</td>\n",
       "      <td>Mass Customer</td>\n",
       "      <td>N</td>\n",
       "      <td>No</td>\n",
       "      <td>7.0</td>\n",
       "      <td>4211.0</td>\n",
       "      <td>QLD</td>\n",
       "      <td>9.0</td>\n",
       "    </tr>\n",
       "    <tr>\n",
       "      <th>4</th>\n",
       "      <td>5</td>\n",
       "      <td>983.866667</td>\n",
       "      <td>6</td>\n",
       "      <td>399.156667</td>\n",
       "      <td>Road</td>\n",
       "      <td>large</td>\n",
       "      <td>medium</td>\n",
       "      <td>Norco Bicycles</td>\n",
       "      <td>16</td>\n",
       "      <td>Sheila-kathryn</td>\n",
       "      <td>...</td>\n",
       "      <td>1977-05-13 00:00:00</td>\n",
       "      <td>Senior Editor</td>\n",
       "      <td>NaN</td>\n",
       "      <td>Affluent Customer</td>\n",
       "      <td>N</td>\n",
       "      <td>Yes</td>\n",
       "      <td>8.0</td>\n",
       "      <td>2448.0</td>\n",
       "      <td>New South Wales</td>\n",
       "      <td>4.0</td>\n",
       "    </tr>\n",
       "  </tbody>\n",
       "</table>\n",
       "<p>5 rows × 23 columns</p>\n",
       "</div>"
      ],
      "text/plain": [
       "   customer_id  avg_revenue  num_of_purchase  avg_profit product_line  \\\n",
       "0            1   825.859091               11  274.371818     Standard   \n",
       "1            2  1383.023333                3  742.086667     Standard   \n",
       "2            3  1236.028750                8  420.351250     Standard   \n",
       "3            4   523.860000                2  110.285000     Standard   \n",
       "4            5   983.866667                6  399.156667         Road   \n",
       "\n",
       "  product_size product_class           brand  recency      first_name  ...  \\\n",
       "0       medium        medium  Giant Bicycles        7         Laraine  ...   \n",
       "1       medium        medium        WeareA2B      128             Eli  ...   \n",
       "2        large        medium  Norco Bicycles      102           Arlin  ...   \n",
       "3        large        medium  Giant Bicycles      195          Talbot  ...   \n",
       "4        large        medium  Norco Bicycles       16  Sheila-kathryn  ...   \n",
       "\n",
       "                   DOB               job_title  job_industry_category  \\\n",
       "0  1953-10-12 00:00:00     Executive Secretary                 Health   \n",
       "1  1980-12-16 00:00:00  Administrative Officer     Financial Services   \n",
       "2  1954-01-20 00:00:00      Recruiting Manager               Property   \n",
       "3  1961-10-03 00:00:00                     NaN                     IT   \n",
       "4  1977-05-13 00:00:00           Senior Editor                    NaN   \n",
       "\n",
       "      wealth_segment deceased_indicator owns_car tenure postcode  \\\n",
       "0      Mass Customer                  N      Yes   11.0   2016.0   \n",
       "1      Mass Customer                  N      Yes   16.0   2153.0   \n",
       "2      Mass Customer                  N      Yes   15.0      NaN   \n",
       "3      Mass Customer                  N       No    7.0   4211.0   \n",
       "4  Affluent Customer                  N      Yes    8.0   2448.0   \n",
       "\n",
       "             state  property_valuation  \n",
       "0  New South Wales                10.0  \n",
       "1  New South Wales                10.0  \n",
       "2              NaN                 NaN  \n",
       "3              QLD                 9.0  \n",
       "4  New South Wales                 4.0  \n",
       "\n",
       "[5 rows x 23 columns]"
      ]
     },
     "execution_count": 310,
     "metadata": {},
     "output_type": "execute_result"
    }
   ],
   "source": [
    "customer_fulldetails.head()"
   ]
  },
  {
   "cell_type": "code",
   "execution_count": 311,
   "id": "2427c014",
   "metadata": {},
   "outputs": [
    {
     "name": "stdout",
     "output_type": "stream",
     "text": [
      "<class 'pandas.core.frame.DataFrame'>\n",
      "RangeIndex: 3493 entries, 0 to 3492\n",
      "Data columns (total 23 columns):\n",
      " #   Column                               Non-Null Count  Dtype  \n",
      "---  ------                               --------------  -----  \n",
      " 0   customer_id                          3493 non-null   int64  \n",
      " 1   avg_revenue                          3493 non-null   float64\n",
      " 2   num_of_purchase                      3493 non-null   int64  \n",
      " 3   avg_profit                           3493 non-null   float64\n",
      " 4   product_line                         3493 non-null   object \n",
      " 5   product_size                         3493 non-null   object \n",
      " 6   product_class                        3493 non-null   object \n",
      " 7   brand                                3493 non-null   object \n",
      " 8   recency                              3493 non-null   int64  \n",
      " 9   first_name                           3493 non-null   object \n",
      " 10  last_name                            3381 non-null   object \n",
      " 11  gender                               3493 non-null   object \n",
      " 12  past_3_years_bike_related_purchases  3493 non-null   int64  \n",
      " 13  DOB                                  3417 non-null   object \n",
      " 14  job_title                            3070 non-null   object \n",
      " 15  job_industry_category                2932 non-null   object \n",
      " 16  wealth_segment                       3493 non-null   object \n",
      " 17  deceased_indicator                   3493 non-null   object \n",
      " 18  owns_car                             3493 non-null   object \n",
      " 19  tenure                               3417 non-null   float64\n",
      " 20  postcode                             3489 non-null   float64\n",
      " 21  state                                3489 non-null   object \n",
      " 22  property_valuation                   3489 non-null   float64\n",
      "dtypes: float64(5), int64(4), object(14)\n",
      "memory usage: 627.8+ KB\n"
     ]
    }
   ],
   "source": [
    "customer_fulldetails.info()"
   ]
  },
  {
   "cell_type": "code",
   "execution_count": 312,
   "id": "385acf41",
   "metadata": {},
   "outputs": [],
   "source": [
    "#Changing datatype of DOB to datetime\n",
    "customer_fulldetails['DOB']=pd.to_datetime(customer_fulldetails['DOB'])"
   ]
  },
  {
   "cell_type": "code",
   "execution_count": 313,
   "id": "57b328ff",
   "metadata": {},
   "outputs": [],
   "source": [
    "customer_fulldetails.drop(columns=['first_name','last_name','past_3_years_bike_related_purchases','job_title','owns_car',],inplace=True)"
   ]
  },
  {
   "cell_type": "code",
   "execution_count": 314,
   "id": "eae1697e",
   "metadata": {},
   "outputs": [],
   "source": [
    "#Making new column Age from DOB\n",
    "customer_fulldetails['Age']=round((datetime.now()-customer_fulldetails['DOB'])//pd.Timedelta(days=365.25))"
   ]
  },
  {
   "cell_type": "code",
   "execution_count": 315,
   "id": "13e67f67",
   "metadata": {},
   "outputs": [
    {
     "data": {
      "text/html": [
       "<div>\n",
       "<style scoped>\n",
       "    .dataframe tbody tr th:only-of-type {\n",
       "        vertical-align: middle;\n",
       "    }\n",
       "\n",
       "    .dataframe tbody tr th {\n",
       "        vertical-align: top;\n",
       "    }\n",
       "\n",
       "    .dataframe thead th {\n",
       "        text-align: right;\n",
       "    }\n",
       "</style>\n",
       "<table border=\"1\" class=\"dataframe\">\n",
       "  <thead>\n",
       "    <tr style=\"text-align: right;\">\n",
       "      <th></th>\n",
       "      <th>customer_id</th>\n",
       "      <th>avg_revenue</th>\n",
       "      <th>num_of_purchase</th>\n",
       "      <th>avg_profit</th>\n",
       "      <th>product_line</th>\n",
       "      <th>product_size</th>\n",
       "      <th>product_class</th>\n",
       "      <th>brand</th>\n",
       "      <th>recency</th>\n",
       "      <th>gender</th>\n",
       "      <th>DOB</th>\n",
       "      <th>job_industry_category</th>\n",
       "      <th>wealth_segment</th>\n",
       "      <th>deceased_indicator</th>\n",
       "      <th>tenure</th>\n",
       "      <th>postcode</th>\n",
       "      <th>state</th>\n",
       "      <th>property_valuation</th>\n",
       "      <th>Age</th>\n",
       "    </tr>\n",
       "  </thead>\n",
       "  <tbody>\n",
       "    <tr>\n",
       "      <th>0</th>\n",
       "      <td>1</td>\n",
       "      <td>825.859091</td>\n",
       "      <td>11</td>\n",
       "      <td>274.371818</td>\n",
       "      <td>Standard</td>\n",
       "      <td>medium</td>\n",
       "      <td>medium</td>\n",
       "      <td>Giant Bicycles</td>\n",
       "      <td>7</td>\n",
       "      <td>F</td>\n",
       "      <td>1953-10-12</td>\n",
       "      <td>Health</td>\n",
       "      <td>Mass Customer</td>\n",
       "      <td>N</td>\n",
       "      <td>11.0</td>\n",
       "      <td>2016.0</td>\n",
       "      <td>New South Wales</td>\n",
       "      <td>10.0</td>\n",
       "      <td>70.0</td>\n",
       "    </tr>\n",
       "    <tr>\n",
       "      <th>1</th>\n",
       "      <td>2</td>\n",
       "      <td>1383.023333</td>\n",
       "      <td>3</td>\n",
       "      <td>742.086667</td>\n",
       "      <td>Standard</td>\n",
       "      <td>medium</td>\n",
       "      <td>medium</td>\n",
       "      <td>WeareA2B</td>\n",
       "      <td>128</td>\n",
       "      <td>Male</td>\n",
       "      <td>1980-12-16</td>\n",
       "      <td>Financial Services</td>\n",
       "      <td>Mass Customer</td>\n",
       "      <td>N</td>\n",
       "      <td>16.0</td>\n",
       "      <td>2153.0</td>\n",
       "      <td>New South Wales</td>\n",
       "      <td>10.0</td>\n",
       "      <td>43.0</td>\n",
       "    </tr>\n",
       "    <tr>\n",
       "      <th>2</th>\n",
       "      <td>3</td>\n",
       "      <td>1236.028750</td>\n",
       "      <td>8</td>\n",
       "      <td>420.351250</td>\n",
       "      <td>Standard</td>\n",
       "      <td>large</td>\n",
       "      <td>medium</td>\n",
       "      <td>Norco Bicycles</td>\n",
       "      <td>102</td>\n",
       "      <td>Male</td>\n",
       "      <td>1954-01-20</td>\n",
       "      <td>Property</td>\n",
       "      <td>Mass Customer</td>\n",
       "      <td>N</td>\n",
       "      <td>15.0</td>\n",
       "      <td>NaN</td>\n",
       "      <td>NaN</td>\n",
       "      <td>NaN</td>\n",
       "      <td>70.0</td>\n",
       "    </tr>\n",
       "    <tr>\n",
       "      <th>3</th>\n",
       "      <td>4</td>\n",
       "      <td>523.860000</td>\n",
       "      <td>2</td>\n",
       "      <td>110.285000</td>\n",
       "      <td>Standard</td>\n",
       "      <td>large</td>\n",
       "      <td>medium</td>\n",
       "      <td>Giant Bicycles</td>\n",
       "      <td>195</td>\n",
       "      <td>Male</td>\n",
       "      <td>1961-10-03</td>\n",
       "      <td>IT</td>\n",
       "      <td>Mass Customer</td>\n",
       "      <td>N</td>\n",
       "      <td>7.0</td>\n",
       "      <td>4211.0</td>\n",
       "      <td>QLD</td>\n",
       "      <td>9.0</td>\n",
       "      <td>62.0</td>\n",
       "    </tr>\n",
       "    <tr>\n",
       "      <th>4</th>\n",
       "      <td>5</td>\n",
       "      <td>983.866667</td>\n",
       "      <td>6</td>\n",
       "      <td>399.156667</td>\n",
       "      <td>Road</td>\n",
       "      <td>large</td>\n",
       "      <td>medium</td>\n",
       "      <td>Norco Bicycles</td>\n",
       "      <td>16</td>\n",
       "      <td>Female</td>\n",
       "      <td>1977-05-13</td>\n",
       "      <td>NaN</td>\n",
       "      <td>Affluent Customer</td>\n",
       "      <td>N</td>\n",
       "      <td>8.0</td>\n",
       "      <td>2448.0</td>\n",
       "      <td>New South Wales</td>\n",
       "      <td>4.0</td>\n",
       "      <td>47.0</td>\n",
       "    </tr>\n",
       "  </tbody>\n",
       "</table>\n",
       "</div>"
      ],
      "text/plain": [
       "   customer_id  avg_revenue  num_of_purchase  avg_profit product_line  \\\n",
       "0            1   825.859091               11  274.371818     Standard   \n",
       "1            2  1383.023333                3  742.086667     Standard   \n",
       "2            3  1236.028750                8  420.351250     Standard   \n",
       "3            4   523.860000                2  110.285000     Standard   \n",
       "4            5   983.866667                6  399.156667         Road   \n",
       "\n",
       "  product_size product_class           brand  recency  gender        DOB  \\\n",
       "0       medium        medium  Giant Bicycles        7       F 1953-10-12   \n",
       "1       medium        medium        WeareA2B      128    Male 1980-12-16   \n",
       "2        large        medium  Norco Bicycles      102    Male 1954-01-20   \n",
       "3        large        medium  Giant Bicycles      195    Male 1961-10-03   \n",
       "4        large        medium  Norco Bicycles       16  Female 1977-05-13   \n",
       "\n",
       "  job_industry_category     wealth_segment deceased_indicator  tenure  \\\n",
       "0                Health      Mass Customer                  N    11.0   \n",
       "1    Financial Services      Mass Customer                  N    16.0   \n",
       "2              Property      Mass Customer                  N    15.0   \n",
       "3                    IT      Mass Customer                  N     7.0   \n",
       "4                   NaN  Affluent Customer                  N     8.0   \n",
       "\n",
       "   postcode            state  property_valuation   Age  \n",
       "0    2016.0  New South Wales                10.0  70.0  \n",
       "1    2153.0  New South Wales                10.0  43.0  \n",
       "2       NaN              NaN                 NaN  70.0  \n",
       "3    4211.0              QLD                 9.0  62.0  \n",
       "4    2448.0  New South Wales                 4.0  47.0  "
      ]
     },
     "execution_count": 315,
     "metadata": {},
     "output_type": "execute_result"
    }
   ],
   "source": [
    "customer_fulldetails.head()"
   ]
  },
  {
   "cell_type": "code",
   "execution_count": 316,
   "id": "d2ec63c6",
   "metadata": {},
   "outputs": [],
   "source": [
    "customer_fulldetails.drop(columns='DOB',inplace=True)"
   ]
  },
  {
   "cell_type": "markdown",
   "id": "4c08ece8",
   "metadata": {},
   "source": [
    "### Replacing missing values"
   ]
  },
  {
   "cell_type": "code",
   "execution_count": 317,
   "id": "645e7fcd",
   "metadata": {},
   "outputs": [
    {
     "data": {
      "text/plain": [
       "customer_id                0\n",
       "avg_revenue                0\n",
       "num_of_purchase            0\n",
       "avg_profit                 0\n",
       "product_line               0\n",
       "product_size               0\n",
       "product_class              0\n",
       "brand                      0\n",
       "recency                    0\n",
       "gender                     0\n",
       "job_industry_category    561\n",
       "wealth_segment             0\n",
       "deceased_indicator         0\n",
       "tenure                    76\n",
       "postcode                   4\n",
       "state                      4\n",
       "property_valuation         4\n",
       "Age                       76\n",
       "dtype: int64"
      ]
     },
     "execution_count": 317,
     "metadata": {},
     "output_type": "execute_result"
    }
   ],
   "source": [
    "customer_fulldetails.isnull().sum()"
   ]
  },
  {
   "cell_type": "code",
   "execution_count": 318,
   "id": "8796f25e",
   "metadata": {},
   "outputs": [
    {
     "data": {
      "text/plain": [
       "job_industry_category\n",
       "Manufacturing         703\n",
       "Financial Services    687\n",
       "Health                532\n",
       "Retail                304\n",
       "Property              231\n",
       "IT                    189\n",
       "Entertainment         123\n",
       "Argiculture           100\n",
       "Telecommunications     63\n",
       "Name: count, dtype: int64"
      ]
     },
     "execution_count": 318,
     "metadata": {},
     "output_type": "execute_result"
    }
   ],
   "source": [
    "#replacing mssing values in job_industry_category\n",
    "customer_fulldetails['job_industry_category'].value_counts()"
   ]
  },
  {
   "cell_type": "code",
   "execution_count": 319,
   "id": "dfb6809d",
   "metadata": {},
   "outputs": [],
   "source": [
    "#Given the distribution of categories, replace method would be forward fill\n",
    "customer_fulldetails['job_industry_category'].fillna(method=\"ffill\",inplace=True)"
   ]
  },
  {
   "cell_type": "code",
   "execution_count": 320,
   "id": "fb6f1757",
   "metadata": {},
   "outputs": [],
   "source": [
    "#replaing mising values in tenure\n",
    "customer_fulldetails['tenure'].fillna(customer_fulldetails['tenure'].mode()[0],inplace=True)"
   ]
  },
  {
   "cell_type": "code",
   "execution_count": 321,
   "id": "b982c04b",
   "metadata": {},
   "outputs": [],
   "source": [
    "#replacing missing values in postcode\n",
    "customer_fulldetails['postcode'].fillna(customer_fulldetails['postcode'].mode()[0],inplace=True)"
   ]
  },
  {
   "cell_type": "code",
   "execution_count": 322,
   "id": "28cd4337",
   "metadata": {},
   "outputs": [],
   "source": [
    "#replacing missing values in state\n",
    "customer_fulldetails['state'].fillna(customer_fulldetails['state'].mode()[0],inplace=True)"
   ]
  },
  {
   "cell_type": "code",
   "execution_count": 323,
   "id": "edb122a6",
   "metadata": {},
   "outputs": [
    {
     "data": {
      "text/plain": [
       "array([10., nan,  9.,  4., 12.,  8.,  6.,  7.,  3.,  5., 11.,  1.,  2.])"
      ]
     },
     "execution_count": 323,
     "metadata": {},
     "output_type": "execute_result"
    }
   ],
   "source": [
    "#replacing missing values in property valuation\n",
    "customer_fulldetails['property_valuation'].unique()"
   ]
  },
  {
   "cell_type": "code",
   "execution_count": 324,
   "id": "3277c6d0",
   "metadata": {},
   "outputs": [],
   "source": [
    "#given there are 12 unique values, missing values would be replaced with most frequent\n",
    "customer_fulldetails['property_valuation'].fillna(customer_fulldetails['property_valuation'].mode()[0],inplace=True)"
   ]
  },
  {
   "cell_type": "code",
   "execution_count": 325,
   "id": "0612dacc",
   "metadata": {},
   "outputs": [],
   "source": [
    "#Replacing missing value in Age with forward fill\n",
    "customer_fulldetails['Age'].fillna(method=\"ffill\",inplace=True)\n"
   ]
  },
  {
   "cell_type": "markdown",
   "id": "e11adc98",
   "metadata": {},
   "source": [
    "### Feauture engineering"
   ]
  },
  {
   "cell_type": "code",
   "execution_count": 326,
   "id": "1203e86f",
   "metadata": {},
   "outputs": [],
   "source": [
    "#making new column agerange\n",
    "# Define function to categorize age into groups\n",
    "def categorize_age(age):\n",
    "    if age <=26:\n",
    "        return 'Young Adult'\n",
    "    elif age <=45:\n",
    "        return 'Adult'\n",
    "    elif age <=60:\n",
    "        return 'Senior Adult'\n",
    "    else:\n",
    "        return 'Old'\n",
    "    \n",
    "# Apply the function to create a new 'Age Group' column\n",
    "customer_fulldetails['Age Group'] = customer_fulldetails['Age'].apply(categorize_age)"
   ]
  },
  {
   "cell_type": "code",
   "execution_count": 327,
   "id": "9a7c88f8",
   "metadata": {},
   "outputs": [
    {
     "data": {
      "text/plain": [
       "customer_id              0\n",
       "avg_revenue              0\n",
       "num_of_purchase          0\n",
       "avg_profit               0\n",
       "product_line             0\n",
       "product_size             0\n",
       "product_class            0\n",
       "brand                    0\n",
       "recency                  0\n",
       "gender                   0\n",
       "job_industry_category    0\n",
       "wealth_segment           0\n",
       "deceased_indicator       0\n",
       "tenure                   0\n",
       "postcode                 0\n",
       "state                    0\n",
       "property_valuation       0\n",
       "Age                      0\n",
       "Age Group                0\n",
       "dtype: int64"
      ]
     },
     "execution_count": 327,
     "metadata": {},
     "output_type": "execute_result"
    }
   ],
   "source": [
    "customer_fulldetails.isnull().sum()"
   ]
  },
  {
   "cell_type": "markdown",
   "id": "b8a3a39b",
   "metadata": {},
   "source": [
    "### Standardizing values in columns"
   ]
  },
  {
   "cell_type": "code",
   "execution_count": 328,
   "id": "9ff11606",
   "metadata": {},
   "outputs": [
    {
     "data": {
      "text/plain": [
       "array(['F', 'Male', 'Female', 'U', 'Femal', 'M'], dtype=object)"
      ]
     },
     "execution_count": 328,
     "metadata": {},
     "output_type": "execute_result"
    }
   ],
   "source": [
    "#Standardizing gender column\n",
    "customer_fulldetails['gender'].unique()"
   ]
  },
  {
   "cell_type": "code",
   "execution_count": 329,
   "id": "00ce4b59",
   "metadata": {},
   "outputs": [],
   "source": [
    "customer_fulldetails['gender'].replace(['F','Femal'],'Female',inplace=True)\n",
    "customer_fulldetails['gender'].replace('M','Male',inplace=True)\n",
    "customer_fulldetails['gender'].replace('U','Others',inplace=True)"
   ]
  },
  {
   "cell_type": "code",
   "execution_count": 330,
   "id": "e17b4ab1",
   "metadata": {},
   "outputs": [
    {
     "data": {
      "text/plain": [
       "array(['Female', 'Male', 'Others'], dtype=object)"
      ]
     },
     "execution_count": 330,
     "metadata": {},
     "output_type": "execute_result"
    }
   ],
   "source": [
    "customer_fulldetails['gender'].unique()"
   ]
  },
  {
   "cell_type": "code",
   "execution_count": 331,
   "id": "f23686e4",
   "metadata": {},
   "outputs": [
    {
     "data": {
      "text/plain": [
       "array(['New South Wales', 'NSW', 'QLD', 'VIC', 'Victoria'], dtype=object)"
      ]
     },
     "execution_count": 331,
     "metadata": {},
     "output_type": "execute_result"
    }
   ],
   "source": [
    "#Standardizing state column\n",
    "customer_fulldetails['state'].unique()"
   ]
  },
  {
   "cell_type": "code",
   "execution_count": 332,
   "id": "66866249",
   "metadata": {},
   "outputs": [],
   "source": [
    "customer_fulldetails['state'].replace('New South Wales','NSW',inplace=True)\n",
    "customer_fulldetails['state'].replace('Victoria','VIC',inplace=True)"
   ]
  },
  {
   "cell_type": "code",
   "execution_count": 333,
   "id": "59619b06",
   "metadata": {},
   "outputs": [
    {
     "data": {
      "text/plain": [
       "array(['NSW', 'QLD', 'VIC'], dtype=object)"
      ]
     },
     "execution_count": 333,
     "metadata": {},
     "output_type": "execute_result"
    }
   ],
   "source": [
    "customer_fulldetails['state'].unique()"
   ]
  },
  {
   "cell_type": "code",
   "execution_count": 334,
   "id": "632c7193",
   "metadata": {},
   "outputs": [
    {
     "data": {
      "text/plain": [
       "array(['Mass Customer', 'Affluent Customer', 'High Net Worth'],\n",
       "      dtype=object)"
      ]
     },
     "execution_count": 334,
     "metadata": {},
     "output_type": "execute_result"
    }
   ],
   "source": [
    "customer_fulldetails['wealth_segment'].unique()"
   ]
  },
  {
   "cell_type": "code",
   "execution_count": 335,
   "id": "c2dc146a",
   "metadata": {},
   "outputs": [
    {
     "data": {
      "text/plain": [
       "array(['N', 'Y'], dtype=object)"
      ]
     },
     "execution_count": 335,
     "metadata": {},
     "output_type": "execute_result"
    }
   ],
   "source": [
    "customer_fulldetails['deceased_indicator'].unique()"
   ]
  },
  {
   "cell_type": "code",
   "execution_count": 336,
   "id": "1eb7eccf",
   "metadata": {},
   "outputs": [
    {
     "data": {
      "text/html": [
       "<div>\n",
       "<style scoped>\n",
       "    .dataframe tbody tr th:only-of-type {\n",
       "        vertical-align: middle;\n",
       "    }\n",
       "\n",
       "    .dataframe tbody tr th {\n",
       "        vertical-align: top;\n",
       "    }\n",
       "\n",
       "    .dataframe thead th {\n",
       "        text-align: right;\n",
       "    }\n",
       "</style>\n",
       "<table border=\"1\" class=\"dataframe\">\n",
       "  <thead>\n",
       "    <tr style=\"text-align: right;\">\n",
       "      <th></th>\n",
       "      <th>customer_id</th>\n",
       "      <th>avg_revenue</th>\n",
       "      <th>num_of_purchase</th>\n",
       "      <th>avg_profit</th>\n",
       "      <th>product_line</th>\n",
       "      <th>product_size</th>\n",
       "      <th>product_class</th>\n",
       "      <th>brand</th>\n",
       "      <th>recency</th>\n",
       "      <th>gender</th>\n",
       "      <th>job_industry_category</th>\n",
       "      <th>wealth_segment</th>\n",
       "      <th>deceased_indicator</th>\n",
       "      <th>tenure</th>\n",
       "      <th>postcode</th>\n",
       "      <th>state</th>\n",
       "      <th>property_valuation</th>\n",
       "      <th>Age</th>\n",
       "      <th>Age Group</th>\n",
       "    </tr>\n",
       "  </thead>\n",
       "  <tbody>\n",
       "    <tr>\n",
       "      <th>0</th>\n",
       "      <td>1</td>\n",
       "      <td>825.859091</td>\n",
       "      <td>11</td>\n",
       "      <td>274.371818</td>\n",
       "      <td>Standard</td>\n",
       "      <td>medium</td>\n",
       "      <td>medium</td>\n",
       "      <td>Giant Bicycles</td>\n",
       "      <td>7</td>\n",
       "      <td>Female</td>\n",
       "      <td>Health</td>\n",
       "      <td>Mass Customer</td>\n",
       "      <td>N</td>\n",
       "      <td>11.0</td>\n",
       "      <td>2016.0</td>\n",
       "      <td>NSW</td>\n",
       "      <td>10.0</td>\n",
       "      <td>70.0</td>\n",
       "      <td>Old</td>\n",
       "    </tr>\n",
       "    <tr>\n",
       "      <th>1</th>\n",
       "      <td>2</td>\n",
       "      <td>1383.023333</td>\n",
       "      <td>3</td>\n",
       "      <td>742.086667</td>\n",
       "      <td>Standard</td>\n",
       "      <td>medium</td>\n",
       "      <td>medium</td>\n",
       "      <td>WeareA2B</td>\n",
       "      <td>128</td>\n",
       "      <td>Male</td>\n",
       "      <td>Financial Services</td>\n",
       "      <td>Mass Customer</td>\n",
       "      <td>N</td>\n",
       "      <td>16.0</td>\n",
       "      <td>2153.0</td>\n",
       "      <td>NSW</td>\n",
       "      <td>10.0</td>\n",
       "      <td>43.0</td>\n",
       "      <td>Adult</td>\n",
       "    </tr>\n",
       "    <tr>\n",
       "      <th>2</th>\n",
       "      <td>3</td>\n",
       "      <td>1236.028750</td>\n",
       "      <td>8</td>\n",
       "      <td>420.351250</td>\n",
       "      <td>Standard</td>\n",
       "      <td>large</td>\n",
       "      <td>medium</td>\n",
       "      <td>Norco Bicycles</td>\n",
       "      <td>102</td>\n",
       "      <td>Male</td>\n",
       "      <td>Property</td>\n",
       "      <td>Mass Customer</td>\n",
       "      <td>N</td>\n",
       "      <td>15.0</td>\n",
       "      <td>2153.0</td>\n",
       "      <td>NSW</td>\n",
       "      <td>8.0</td>\n",
       "      <td>70.0</td>\n",
       "      <td>Old</td>\n",
       "    </tr>\n",
       "    <tr>\n",
       "      <th>3</th>\n",
       "      <td>4</td>\n",
       "      <td>523.860000</td>\n",
       "      <td>2</td>\n",
       "      <td>110.285000</td>\n",
       "      <td>Standard</td>\n",
       "      <td>large</td>\n",
       "      <td>medium</td>\n",
       "      <td>Giant Bicycles</td>\n",
       "      <td>195</td>\n",
       "      <td>Male</td>\n",
       "      <td>IT</td>\n",
       "      <td>Mass Customer</td>\n",
       "      <td>N</td>\n",
       "      <td>7.0</td>\n",
       "      <td>4211.0</td>\n",
       "      <td>QLD</td>\n",
       "      <td>9.0</td>\n",
       "      <td>62.0</td>\n",
       "      <td>Old</td>\n",
       "    </tr>\n",
       "    <tr>\n",
       "      <th>4</th>\n",
       "      <td>5</td>\n",
       "      <td>983.866667</td>\n",
       "      <td>6</td>\n",
       "      <td>399.156667</td>\n",
       "      <td>Road</td>\n",
       "      <td>large</td>\n",
       "      <td>medium</td>\n",
       "      <td>Norco Bicycles</td>\n",
       "      <td>16</td>\n",
       "      <td>Female</td>\n",
       "      <td>IT</td>\n",
       "      <td>Affluent Customer</td>\n",
       "      <td>N</td>\n",
       "      <td>8.0</td>\n",
       "      <td>2448.0</td>\n",
       "      <td>NSW</td>\n",
       "      <td>4.0</td>\n",
       "      <td>47.0</td>\n",
       "      <td>Senior Adult</td>\n",
       "    </tr>\n",
       "  </tbody>\n",
       "</table>\n",
       "</div>"
      ],
      "text/plain": [
       "   customer_id  avg_revenue  num_of_purchase  avg_profit product_line  \\\n",
       "0            1   825.859091               11  274.371818     Standard   \n",
       "1            2  1383.023333                3  742.086667     Standard   \n",
       "2            3  1236.028750                8  420.351250     Standard   \n",
       "3            4   523.860000                2  110.285000     Standard   \n",
       "4            5   983.866667                6  399.156667         Road   \n",
       "\n",
       "  product_size product_class           brand  recency  gender  \\\n",
       "0       medium        medium  Giant Bicycles        7  Female   \n",
       "1       medium        medium        WeareA2B      128    Male   \n",
       "2        large        medium  Norco Bicycles      102    Male   \n",
       "3        large        medium  Giant Bicycles      195    Male   \n",
       "4        large        medium  Norco Bicycles       16  Female   \n",
       "\n",
       "  job_industry_category     wealth_segment deceased_indicator  tenure  \\\n",
       "0                Health      Mass Customer                  N    11.0   \n",
       "1    Financial Services      Mass Customer                  N    16.0   \n",
       "2              Property      Mass Customer                  N    15.0   \n",
       "3                    IT      Mass Customer                  N     7.0   \n",
       "4                    IT  Affluent Customer                  N     8.0   \n",
       "\n",
       "   postcode state  property_valuation   Age     Age Group  \n",
       "0    2016.0   NSW                10.0  70.0           Old  \n",
       "1    2153.0   NSW                10.0  43.0         Adult  \n",
       "2    2153.0   NSW                 8.0  70.0           Old  \n",
       "3    4211.0   QLD                 9.0  62.0           Old  \n",
       "4    2448.0   NSW                 4.0  47.0  Senior Adult  "
      ]
     },
     "execution_count": 336,
     "metadata": {},
     "output_type": "execute_result"
    }
   ],
   "source": [
    "customer_fulldetails.head()"
   ]
  },
  {
   "cell_type": "code",
   "execution_count": 337,
   "id": "651fd9f7",
   "metadata": {},
   "outputs": [
    {
     "data": {
      "text/plain": [
       "(3493, 19)"
      ]
     },
     "execution_count": 337,
     "metadata": {},
     "output_type": "execute_result"
    }
   ],
   "source": [
    "customer_fulldetails.shape"
   ]
  },
  {
   "cell_type": "markdown",
   "id": "b78f4c9e",
   "metadata": {},
   "source": [
    "# Creating final dataset for analysis and modelling"
   ]
  },
  {
   "cell_type": "code",
   "execution_count": 338,
   "id": "5b6a6e7d",
   "metadata": {},
   "outputs": [],
   "source": [
    "#Making a copy with Age column for Data modelling\n",
    "Customer_fulldetails=customer_fulldetails.copy()"
   ]
  },
  {
   "cell_type": "code",
   "execution_count": 339,
   "id": "8a5f3359",
   "metadata": {},
   "outputs": [],
   "source": [
    "Customer_fulldetails.to_excel('data_planet_project(Age present).xlsx',index=False)"
   ]
  },
  {
   "cell_type": "code",
   "execution_count": 340,
   "id": "5a9bd008",
   "metadata": {},
   "outputs": [],
   "source": [
    "#making copy with transaction date for data analysis\n",
    "Customer_details=Customer_fulldetails.merge(recent_date, on='customer_id', how='left')"
   ]
  },
  {
   "cell_type": "code",
   "execution_count": 341,
   "id": "940bc487",
   "metadata": {},
   "outputs": [],
   "source": [
    "Customer_detailss=Customer_detailss.merge(customer_total, on='customer_id', how='left')"
   ]
  },
  {
   "cell_type": "code",
   "execution_count": 342,
   "id": "ee605845",
   "metadata": {},
   "outputs": [
    {
     "data": {
      "text/html": [
       "<div>\n",
       "<style scoped>\n",
       "    .dataframe tbody tr th:only-of-type {\n",
       "        vertical-align: middle;\n",
       "    }\n",
       "\n",
       "    .dataframe tbody tr th {\n",
       "        vertical-align: top;\n",
       "    }\n",
       "\n",
       "    .dataframe thead th {\n",
       "        text-align: right;\n",
       "    }\n",
       "</style>\n",
       "<table border=\"1\" class=\"dataframe\">\n",
       "  <thead>\n",
       "    <tr style=\"text-align: right;\">\n",
       "      <th></th>\n",
       "      <th>list_price</th>\n",
       "    </tr>\n",
       "    <tr>\n",
       "      <th>customer_id</th>\n",
       "      <th></th>\n",
       "    </tr>\n",
       "  </thead>\n",
       "  <tbody>\n",
       "    <tr>\n",
       "      <th>1</th>\n",
       "      <td>9084.45</td>\n",
       "    </tr>\n",
       "    <tr>\n",
       "      <th>2</th>\n",
       "      <td>4149.07</td>\n",
       "    </tr>\n",
       "    <tr>\n",
       "      <th>3</th>\n",
       "      <td>9888.23</td>\n",
       "    </tr>\n",
       "    <tr>\n",
       "      <th>4</th>\n",
       "      <td>1047.72</td>\n",
       "    </tr>\n",
       "    <tr>\n",
       "      <th>5</th>\n",
       "      <td>5903.20</td>\n",
       "    </tr>\n",
       "  </tbody>\n",
       "</table>\n",
       "</div>"
      ],
      "text/plain": [
       "             list_price\n",
       "customer_id            \n",
       "1               9084.45\n",
       "2               4149.07\n",
       "3               9888.23\n",
       "4               1047.72\n",
       "5               5903.20"
      ]
     },
     "execution_count": 342,
     "metadata": {},
     "output_type": "execute_result"
    }
   ],
   "source": [
    "customer_Total.head()"
   ]
  },
  {
   "cell_type": "code",
   "execution_count": 343,
   "id": "8e951067",
   "metadata": {},
   "outputs": [
    {
     "name": "stdout",
     "output_type": "stream",
     "text": [
      "<class 'pandas.core.frame.DataFrame'>\n",
      "RangeIndex: 3493 entries, 0 to 3492\n",
      "Data columns (total 23 columns):\n",
      " #   Column                 Non-Null Count  Dtype         \n",
      "---  ------                 --------------  -----         \n",
      " 0   customer_id            3493 non-null   int64         \n",
      " 1   avg_revenue            3493 non-null   float64       \n",
      " 2   num_of_purchase        3493 non-null   int64         \n",
      " 3   avg_profit             3493 non-null   float64       \n",
      " 4   product_line           3493 non-null   object        \n",
      " 5   product_size           3493 non-null   object        \n",
      " 6   product_class          3493 non-null   object        \n",
      " 7   brand                  3493 non-null   object        \n",
      " 8   recency                3493 non-null   int64         \n",
      " 9   gender                 3493 non-null   object        \n",
      " 10  job_industry_category  3493 non-null   object        \n",
      " 11  wealth_segment         3493 non-null   object        \n",
      " 12  deceased_indicator     3493 non-null   object        \n",
      " 13  tenure                 3493 non-null   float64       \n",
      " 14  postcode               3493 non-null   float64       \n",
      " 15  state                  3493 non-null   object        \n",
      " 16  property_valuation     3493 non-null   float64       \n",
      " 17  Age                    3493 non-null   int32         \n",
      " 18  Age Group              3493 non-null   object        \n",
      " 19  transaction_date       3493 non-null   datetime64[ns]\n",
      " 20  total_spend            3493 non-null   float64       \n",
      " 21  total_profit           3493 non-null   float64       \n",
      " 22  Profit                 3493 non-null   float64       \n",
      "dtypes: datetime64[ns](1), float64(8), int32(1), int64(3), object(10)\n",
      "memory usage: 614.1+ KB\n"
     ]
    }
   ],
   "source": [
    "Customer_detailss.info()"
   ]
  },
  {
   "cell_type": "code",
   "execution_count": 423,
   "id": "f6fe8cc8",
   "metadata": {},
   "outputs": [],
   "source": [
    "Customer_detailss.rename(columns={'list_price':'Average_spend'},inplace=True)"
   ]
  },
  {
   "cell_type": "code",
   "execution_count": 420,
   "id": "037d7a91",
   "metadata": {},
   "outputs": [],
   "source": [
    "Customer_detailss=Customer_detailss.merge(cost,on='customer_id',how='left')"
   ]
  },
  {
   "cell_type": "code",
   "execution_count": 346,
   "id": "d2a0ea3b",
   "metadata": {},
   "outputs": [],
   "source": [
    "Customer_details['Age']=Customer_details['Age'].astype(int)"
   ]
  },
  {
   "cell_type": "code",
   "execution_count": 424,
   "id": "c76d4ffb",
   "metadata": {},
   "outputs": [
    {
     "data": {
      "text/html": [
       "<div>\n",
       "<style scoped>\n",
       "    .dataframe tbody tr th:only-of-type {\n",
       "        vertical-align: middle;\n",
       "    }\n",
       "\n",
       "    .dataframe tbody tr th {\n",
       "        vertical-align: top;\n",
       "    }\n",
       "\n",
       "    .dataframe thead th {\n",
       "        text-align: right;\n",
       "    }\n",
       "</style>\n",
       "<table border=\"1\" class=\"dataframe\">\n",
       "  <thead>\n",
       "    <tr style=\"text-align: right;\">\n",
       "      <th></th>\n",
       "      <th>customer_id</th>\n",
       "      <th>avg_revenue</th>\n",
       "      <th>num_of_purchase</th>\n",
       "      <th>avg_profit</th>\n",
       "      <th>product_line</th>\n",
       "      <th>product_size</th>\n",
       "      <th>product_class</th>\n",
       "      <th>brand</th>\n",
       "      <th>recency</th>\n",
       "      <th>gender</th>\n",
       "      <th>...</th>\n",
       "      <th>postcode</th>\n",
       "      <th>state</th>\n",
       "      <th>property_valuation</th>\n",
       "      <th>Age</th>\n",
       "      <th>Age Group</th>\n",
       "      <th>transaction_date</th>\n",
       "      <th>total_spend</th>\n",
       "      <th>total_profit</th>\n",
       "      <th>total_profit</th>\n",
       "      <th>Average_spend</th>\n",
       "    </tr>\n",
       "  </thead>\n",
       "  <tbody>\n",
       "    <tr>\n",
       "      <th>0</th>\n",
       "      <td>1</td>\n",
       "      <td>825.859091</td>\n",
       "      <td>11</td>\n",
       "      <td>274.371818</td>\n",
       "      <td>Standard</td>\n",
       "      <td>medium</td>\n",
       "      <td>medium</td>\n",
       "      <td>Giant Bicycles</td>\n",
       "      <td>7</td>\n",
       "      <td>Female</td>\n",
       "      <td>...</td>\n",
       "      <td>2016.0</td>\n",
       "      <td>NSW</td>\n",
       "      <td>10.0</td>\n",
       "      <td>70</td>\n",
       "      <td>Old</td>\n",
       "      <td>2017-12-23</td>\n",
       "      <td>9084.45</td>\n",
       "      <td>3018.09</td>\n",
       "      <td>3018.09</td>\n",
       "      <td>825.859091</td>\n",
       "    </tr>\n",
       "    <tr>\n",
       "      <th>1</th>\n",
       "      <td>2</td>\n",
       "      <td>1383.023333</td>\n",
       "      <td>3</td>\n",
       "      <td>742.086667</td>\n",
       "      <td>Standard</td>\n",
       "      <td>medium</td>\n",
       "      <td>medium</td>\n",
       "      <td>WeareA2B</td>\n",
       "      <td>128</td>\n",
       "      <td>Male</td>\n",
       "      <td>...</td>\n",
       "      <td>2153.0</td>\n",
       "      <td>NSW</td>\n",
       "      <td>10.0</td>\n",
       "      <td>43</td>\n",
       "      <td>Adult</td>\n",
       "      <td>2017-08-24</td>\n",
       "      <td>4149.07</td>\n",
       "      <td>2226.26</td>\n",
       "      <td>2226.26</td>\n",
       "      <td>1383.023333</td>\n",
       "    </tr>\n",
       "    <tr>\n",
       "      <th>2</th>\n",
       "      <td>3</td>\n",
       "      <td>1236.028750</td>\n",
       "      <td>8</td>\n",
       "      <td>420.351250</td>\n",
       "      <td>Standard</td>\n",
       "      <td>large</td>\n",
       "      <td>medium</td>\n",
       "      <td>Norco Bicycles</td>\n",
       "      <td>102</td>\n",
       "      <td>Male</td>\n",
       "      <td>...</td>\n",
       "      <td>2153.0</td>\n",
       "      <td>NSW</td>\n",
       "      <td>8.0</td>\n",
       "      <td>70</td>\n",
       "      <td>Old</td>\n",
       "      <td>2017-09-19</td>\n",
       "      <td>9888.23</td>\n",
       "      <td>3362.81</td>\n",
       "      <td>3362.81</td>\n",
       "      <td>1236.028750</td>\n",
       "    </tr>\n",
       "    <tr>\n",
       "      <th>3</th>\n",
       "      <td>4</td>\n",
       "      <td>523.860000</td>\n",
       "      <td>2</td>\n",
       "      <td>110.285000</td>\n",
       "      <td>Standard</td>\n",
       "      <td>large</td>\n",
       "      <td>medium</td>\n",
       "      <td>Giant Bicycles</td>\n",
       "      <td>195</td>\n",
       "      <td>Male</td>\n",
       "      <td>...</td>\n",
       "      <td>4211.0</td>\n",
       "      <td>QLD</td>\n",
       "      <td>9.0</td>\n",
       "      <td>62</td>\n",
       "      <td>Old</td>\n",
       "      <td>2017-06-18</td>\n",
       "      <td>1047.72</td>\n",
       "      <td>220.57</td>\n",
       "      <td>220.57</td>\n",
       "      <td>523.860000</td>\n",
       "    </tr>\n",
       "    <tr>\n",
       "      <th>4</th>\n",
       "      <td>5</td>\n",
       "      <td>983.866667</td>\n",
       "      <td>6</td>\n",
       "      <td>399.156667</td>\n",
       "      <td>Road</td>\n",
       "      <td>large</td>\n",
       "      <td>medium</td>\n",
       "      <td>Norco Bicycles</td>\n",
       "      <td>16</td>\n",
       "      <td>Female</td>\n",
       "      <td>...</td>\n",
       "      <td>2448.0</td>\n",
       "      <td>NSW</td>\n",
       "      <td>4.0</td>\n",
       "      <td>46</td>\n",
       "      <td>Senior Adult</td>\n",
       "      <td>2017-12-14</td>\n",
       "      <td>5903.20</td>\n",
       "      <td>2394.94</td>\n",
       "      <td>2394.94</td>\n",
       "      <td>983.866667</td>\n",
       "    </tr>\n",
       "  </tbody>\n",
       "</table>\n",
       "<p>5 rows × 24 columns</p>\n",
       "</div>"
      ],
      "text/plain": [
       "   customer_id  avg_revenue  num_of_purchase  avg_profit product_line  \\\n",
       "0            1   825.859091               11  274.371818     Standard   \n",
       "1            2  1383.023333                3  742.086667     Standard   \n",
       "2            3  1236.028750                8  420.351250     Standard   \n",
       "3            4   523.860000                2  110.285000     Standard   \n",
       "4            5   983.866667                6  399.156667         Road   \n",
       "\n",
       "  product_size product_class           brand  recency  gender  ... postcode  \\\n",
       "0       medium        medium  Giant Bicycles        7  Female  ...   2016.0   \n",
       "1       medium        medium        WeareA2B      128    Male  ...   2153.0   \n",
       "2        large        medium  Norco Bicycles      102    Male  ...   2153.0   \n",
       "3        large        medium  Giant Bicycles      195    Male  ...   4211.0   \n",
       "4        large        medium  Norco Bicycles       16  Female  ...   2448.0   \n",
       "\n",
       "  state property_valuation  Age     Age Group transaction_date  total_spend  \\\n",
       "0   NSW               10.0   70           Old       2017-12-23      9084.45   \n",
       "1   NSW               10.0   43         Adult       2017-08-24      4149.07   \n",
       "2   NSW                8.0   70           Old       2017-09-19      9888.23   \n",
       "3   QLD                9.0   62           Old       2017-06-18      1047.72   \n",
       "4   NSW                4.0   46  Senior Adult       2017-12-14      5903.20   \n",
       "\n",
       "  total_profit total_profit Average_spend  \n",
       "0      3018.09      3018.09    825.859091  \n",
       "1      2226.26      2226.26   1383.023333  \n",
       "2      3362.81      3362.81   1236.028750  \n",
       "3       220.57       220.57    523.860000  \n",
       "4      2394.94      2394.94    983.866667  \n",
       "\n",
       "[5 rows x 24 columns]"
      ]
     },
     "execution_count": 424,
     "metadata": {},
     "output_type": "execute_result"
    }
   ],
   "source": [
    "Customer_detailss.head()"
   ]
  },
  {
   "cell_type": "code",
   "execution_count": 348,
   "id": "a48ade76",
   "metadata": {},
   "outputs": [],
   "source": [
    "Customer_detailss.to_excel('data_planet_totals.xlsx',index=False)"
   ]
  },
  {
   "cell_type": "code",
   "execution_count": 425,
   "id": "6569cedc",
   "metadata": {},
   "outputs": [],
   "source": [
    "Customer_detailss.to_excel('data_planet_averagespend.xlsx',index=False)"
   ]
  },
  {
   "cell_type": "markdown",
   "id": "44db443e",
   "metadata": {},
   "source": [
    "# Modelling"
   ]
  },
  {
   "cell_type": "code",
   "execution_count": 370,
   "id": "7268c564",
   "metadata": {},
   "outputs": [],
   "source": [
    "planet = pd.read_csv(\"data_planet_project(Age present).csv\")"
   ]
  },
  {
   "cell_type": "code",
   "execution_count": 372,
   "id": "c3c313ee",
   "metadata": {},
   "outputs": [
    {
     "name": "stdout",
     "output_type": "stream",
     "text": [
      "<class 'pandas.core.frame.DataFrame'>\n",
      "RangeIndex: 3493 entries, 0 to 3492\n",
      "Data columns (total 19 columns):\n",
      " #   Column                 Non-Null Count  Dtype  \n",
      "---  ------                 --------------  -----  \n",
      " 0   customer_id            3493 non-null   int64  \n",
      " 1   avg_revenue            3493 non-null   float64\n",
      " 2   num_of_purchase        3493 non-null   int64  \n",
      " 3   avg_profit             3493 non-null   float64\n",
      " 4   product_line           3493 non-null   object \n",
      " 5   product_size           3493 non-null   object \n",
      " 6   product_class          3493 non-null   object \n",
      " 7   brand                  3493 non-null   object \n",
      " 8   recency                3493 non-null   int64  \n",
      " 9   gender                 3493 non-null   object \n",
      " 10  job_industry_category  3493 non-null   object \n",
      " 11  wealth_segment         3493 non-null   object \n",
      " 12  deceased_indicator     3493 non-null   object \n",
      " 13  tenure                 3493 non-null   int64  \n",
      " 14  postcode               3493 non-null   int64  \n",
      " 15  state                  3493 non-null   object \n",
      " 16  property_valuation     3493 non-null   int64  \n",
      " 17  Age                    3493 non-null   int64  \n",
      " 18  Age Group              3493 non-null   object \n",
      "dtypes: float64(2), int64(7), object(10)\n",
      "memory usage: 518.6+ KB\n"
     ]
    }
   ],
   "source": [
    "planet.info()"
   ]
  },
  {
   "cell_type": "markdown",
   "id": "90e38fed",
   "metadata": {},
   "source": [
    "## Replacing all the non-numeric values in the dataset to numeric equivalents"
   ]
  },
  {
   "cell_type": "code",
   "execution_count": 373,
   "id": "c2c63970",
   "metadata": {},
   "outputs": [],
   "source": [
    "# Replace non-numeric values with numeric equivalents (Age Group)\n",
    "planet['Age Group'] = planet['Age Group'].replace({\n",
    "    'Old': 0,\n",
    "    'Adult': 1,\n",
    "    'Senior Adult': 2,\n",
    "    'Young Adult': 3}).astype(float)"
   ]
  },
  {
   "cell_type": "code",
   "execution_count": 374,
   "id": "722202ff",
   "metadata": {},
   "outputs": [],
   "source": [
    "# Replace non-numeric values with numeric equivalents (product_line)\n",
    "planet['product_line'] = planet['product_line'].replace({\n",
    "    'Standard': 0,\n",
    "    'Road': 1,\n",
    "    'Touring': 2,\n",
    "    'Mountain': 3}).astype(float)"
   ]
  },
  {
   "cell_type": "code",
   "execution_count": 375,
   "id": "5a52eb7e",
   "metadata": {},
   "outputs": [],
   "source": [
    "# Replace non-numeric values with numeric equivalents (product_size)\n",
    "planet['product_size'] = planet['product_size'].replace({\n",
    "    'medium': 0,\n",
    "    'large': 1,\n",
    "    'small': 2,}).astype(float)"
   ]
  },
  {
   "cell_type": "code",
   "execution_count": 376,
   "id": "a0ec4431",
   "metadata": {},
   "outputs": [],
   "source": [
    "# Replace non-numeric values with numeric equivalents (product_class)\n",
    "planet['product_class'] = planet['product_class'].replace({\n",
    "    'medium': 0,\n",
    "    'high': 1,\n",
    "    'low': 2,}).astype(float)"
   ]
  },
  {
   "cell_type": "code",
   "execution_count": 377,
   "id": "64ed29cd",
   "metadata": {},
   "outputs": [],
   "source": [
    "# Replace non-numeric values with numeric equivalents (brand)\n",
    "planet['brand'] = planet['brand'].replace({\n",
    "    'Giant Bicycles': 0,\n",
    "    'WeareA2B': 1,\n",
    "    'Norco Bicycles': 2,\n",
    "    'Solex': 3,\n",
    "    'OHM Cycles': 4,\n",
    "    'Trek Bicycles': 5}).astype(float)"
   ]
  },
  {
   "cell_type": "code",
   "execution_count": 378,
   "id": "d1885851",
   "metadata": {},
   "outputs": [],
   "source": [
    "# Replace non-numeric values with numeric equivalents (gender)\n",
    "planet['gender'] = planet['gender'].replace({\n",
    "    'Female': 0,\n",
    "    'Male': 1,\n",
    "    'Others': 2}).astype(float)"
   ]
  },
  {
   "cell_type": "code",
   "execution_count": 379,
   "id": "37f0c10d",
   "metadata": {},
   "outputs": [],
   "source": [
    "# Replace non-numeric values with numeric equivalents (job_industry_category)\n",
    "planet['job_industry_category'] = planet['job_industry_category'].replace({\n",
    "    'Health': 0,\n",
    "    'Financial Services': 1,\n",
    "    'Property': 2,\n",
    "    'IT': 3,\n",
    "    'Retail': 4,\n",
    "    'Argiculture': 5, \n",
    "    'Manufacturing': 6, \n",
    "    'Telecommunications': 7,\n",
    "    'Entertainment': 8}).astype(float)"
   ]
  },
  {
   "cell_type": "code",
   "execution_count": 380,
   "id": "474b6ff9",
   "metadata": {},
   "outputs": [],
   "source": [
    "# Replace non-numeric values with numeric equivalents (wealth_segment)\n",
    "planet['wealth_segment'] = planet['wealth_segment'].replace({\n",
    "    'Mass Customer': 0,\n",
    "    'Affluent Customer': 1,\n",
    "    'High Net Worth': 2}).astype(float)"
   ]
  },
  {
   "cell_type": "code",
   "execution_count": 381,
   "id": "93f69321",
   "metadata": {},
   "outputs": [],
   "source": [
    "# Replace non-numeric values with numeric equivalents (deceased_indicator)\n",
    "planet['deceased_indicator'] = planet['deceased_indicator'].replace({\n",
    "    'N': 0,\n",
    "    'Y': 1,}).astype(float)"
   ]
  },
  {
   "cell_type": "code",
   "execution_count": 382,
   "id": "c5c53b9f",
   "metadata": {},
   "outputs": [],
   "source": [
    "# Replace non-numeric values with numeric equivalents (state)\n",
    "planet['state'] = planet['state'].replace({\n",
    "    'NSW': 0,\n",
    "    'QLD': 1,\n",
    "    'VIC': 2}).astype(float)"
   ]
  },
  {
   "cell_type": "markdown",
   "id": "81cc7f4f",
   "metadata": {},
   "source": [
    "## Charactistics Rechecked"
   ]
  },
  {
   "cell_type": "code",
   "execution_count": 383,
   "id": "513f2e8f",
   "metadata": {},
   "outputs": [
    {
     "data": {
      "text/html": [
       "<div>\n",
       "<style scoped>\n",
       "    .dataframe tbody tr th:only-of-type {\n",
       "        vertical-align: middle;\n",
       "    }\n",
       "\n",
       "    .dataframe tbody tr th {\n",
       "        vertical-align: top;\n",
       "    }\n",
       "\n",
       "    .dataframe thead th {\n",
       "        text-align: right;\n",
       "    }\n",
       "</style>\n",
       "<table border=\"1\" class=\"dataframe\">\n",
       "  <thead>\n",
       "    <tr style=\"text-align: right;\">\n",
       "      <th></th>\n",
       "      <th>customer_id</th>\n",
       "      <th>avg_revenue</th>\n",
       "      <th>num_of_purchase</th>\n",
       "      <th>avg_profit</th>\n",
       "      <th>product_line</th>\n",
       "      <th>product_size</th>\n",
       "      <th>product_class</th>\n",
       "      <th>brand</th>\n",
       "      <th>recency</th>\n",
       "      <th>gender</th>\n",
       "      <th>job_industry_category</th>\n",
       "      <th>wealth_segment</th>\n",
       "      <th>deceased_indicator</th>\n",
       "      <th>tenure</th>\n",
       "      <th>postcode</th>\n",
       "      <th>state</th>\n",
       "      <th>property_valuation</th>\n",
       "      <th>Age</th>\n",
       "      <th>Age Group</th>\n",
       "    </tr>\n",
       "  </thead>\n",
       "  <tbody>\n",
       "    <tr>\n",
       "      <th>count</th>\n",
       "      <td>3493.000000</td>\n",
       "      <td>3493.000000</td>\n",
       "      <td>3493.000000</td>\n",
       "      <td>3493.000000</td>\n",
       "      <td>3493.000000</td>\n",
       "      <td>3493.000000</td>\n",
       "      <td>3493.000000</td>\n",
       "      <td>3493.000000</td>\n",
       "      <td>3493.000000</td>\n",
       "      <td>3493.000000</td>\n",
       "      <td>3493.000000</td>\n",
       "      <td>3493.000000</td>\n",
       "      <td>3493.000000</td>\n",
       "      <td>3493.000000</td>\n",
       "      <td>3493.000000</td>\n",
       "      <td>3493.000000</td>\n",
       "      <td>3493.000000</td>\n",
       "      <td>3493.000000</td>\n",
       "      <td>3493.000000</td>\n",
       "    </tr>\n",
       "    <tr>\n",
       "      <th>mean</th>\n",
       "      <td>1749.916118</td>\n",
       "      <td>1107.035264</td>\n",
       "      <td>5.724878</td>\n",
       "      <td>551.098120</td>\n",
       "      <td>0.160034</td>\n",
       "      <td>0.217005</td>\n",
       "      <td>0.171772</td>\n",
       "      <td>2.134269</td>\n",
       "      <td>60.807043</td>\n",
       "      <td>0.518179</td>\n",
       "      <td>3.091039</td>\n",
       "      <td>0.756084</td>\n",
       "      <td>0.000286</td>\n",
       "      <td>10.602348</td>\n",
       "      <td>2988.379330</td>\n",
       "      <td>0.716576</td>\n",
       "      <td>7.516461</td>\n",
       "      <td>46.288577</td>\n",
       "      <td>1.366447</td>\n",
       "    </tr>\n",
       "    <tr>\n",
       "      <th>std</th>\n",
       "      <td>1010.520804</td>\n",
       "      <td>279.805716</td>\n",
       "      <td>2.325749</td>\n",
       "      <td>235.534561</td>\n",
       "      <td>0.437876</td>\n",
       "      <td>0.531782</td>\n",
       "      <td>0.508501</td>\n",
       "      <td>1.666497</td>\n",
       "      <td>57.794061</td>\n",
       "      <td>0.542072</td>\n",
       "      <td>2.528251</td>\n",
       "      <td>0.834910</td>\n",
       "      <td>0.016920</td>\n",
       "      <td>5.639836</td>\n",
       "      <td>852.180933</td>\n",
       "      <td>0.840929</td>\n",
       "      <td>2.820839</td>\n",
       "      <td>12.803890</td>\n",
       "      <td>0.831949</td>\n",
       "    </tr>\n",
       "    <tr>\n",
       "      <th>min</th>\n",
       "      <td>1.000000</td>\n",
       "      <td>60.340000</td>\n",
       "      <td>1.000000</td>\n",
       "      <td>15.080000</td>\n",
       "      <td>0.000000</td>\n",
       "      <td>0.000000</td>\n",
       "      <td>0.000000</td>\n",
       "      <td>0.000000</td>\n",
       "      <td>0.000000</td>\n",
       "      <td>0.000000</td>\n",
       "      <td>0.000000</td>\n",
       "      <td>0.000000</td>\n",
       "      <td>0.000000</td>\n",
       "      <td>1.000000</td>\n",
       "      <td>2000.000000</td>\n",
       "      <td>0.000000</td>\n",
       "      <td>1.000000</td>\n",
       "      <td>22.000000</td>\n",
       "      <td>0.000000</td>\n",
       "    </tr>\n",
       "    <tr>\n",
       "      <th>25%</th>\n",
       "      <td>876.000000</td>\n",
       "      <td>932.490000</td>\n",
       "      <td>4.000000</td>\n",
       "      <td>386.115000</td>\n",
       "      <td>0.000000</td>\n",
       "      <td>0.000000</td>\n",
       "      <td>0.000000</td>\n",
       "      <td>0.000000</td>\n",
       "      <td>17.000000</td>\n",
       "      <td>0.000000</td>\n",
       "      <td>1.000000</td>\n",
       "      <td>0.000000</td>\n",
       "      <td>0.000000</td>\n",
       "      <td>6.000000</td>\n",
       "      <td>2200.000000</td>\n",
       "      <td>0.000000</td>\n",
       "      <td>6.000000</td>\n",
       "      <td>37.000000</td>\n",
       "      <td>1.000000</td>\n",
       "    </tr>\n",
       "    <tr>\n",
       "      <th>50%</th>\n",
       "      <td>1750.000000</td>\n",
       "      <td>1105.512500</td>\n",
       "      <td>6.000000</td>\n",
       "      <td>532.267500</td>\n",
       "      <td>0.000000</td>\n",
       "      <td>0.000000</td>\n",
       "      <td>0.000000</td>\n",
       "      <td>2.000000</td>\n",
       "      <td>44.000000</td>\n",
       "      <td>0.000000</td>\n",
       "      <td>3.000000</td>\n",
       "      <td>0.000000</td>\n",
       "      <td>0.000000</td>\n",
       "      <td>10.000000</td>\n",
       "      <td>2768.000000</td>\n",
       "      <td>0.000000</td>\n",
       "      <td>8.000000</td>\n",
       "      <td>46.000000</td>\n",
       "      <td>1.000000</td>\n",
       "    </tr>\n",
       "    <tr>\n",
       "      <th>75%</th>\n",
       "      <td>2624.000000</td>\n",
       "      <td>1284.976250</td>\n",
       "      <td>7.000000</td>\n",
       "      <td>695.552857</td>\n",
       "      <td>0.000000</td>\n",
       "      <td>0.000000</td>\n",
       "      <td>0.000000</td>\n",
       "      <td>3.000000</td>\n",
       "      <td>85.000000</td>\n",
       "      <td>1.000000</td>\n",
       "      <td>6.000000</td>\n",
       "      <td>2.000000</td>\n",
       "      <td>0.000000</td>\n",
       "      <td>15.000000</td>\n",
       "      <td>3756.000000</td>\n",
       "      <td>2.000000</td>\n",
       "      <td>10.000000</td>\n",
       "      <td>56.000000</td>\n",
       "      <td>2.000000</td>\n",
       "    </tr>\n",
       "    <tr>\n",
       "      <th>max</th>\n",
       "      <td>3500.000000</td>\n",
       "      <td>2091.470000</td>\n",
       "      <td>14.000000</td>\n",
       "      <td>1702.550000</td>\n",
       "      <td>3.000000</td>\n",
       "      <td>2.000000</td>\n",
       "      <td>2.000000</td>\n",
       "      <td>5.000000</td>\n",
       "      <td>353.000000</td>\n",
       "      <td>2.000000</td>\n",
       "      <td>8.000000</td>\n",
       "      <td>2.000000</td>\n",
       "      <td>1.000000</td>\n",
       "      <td>22.000000</td>\n",
       "      <td>4883.000000</td>\n",
       "      <td>2.000000</td>\n",
       "      <td>12.000000</td>\n",
       "      <td>180.000000</td>\n",
       "      <td>3.000000</td>\n",
       "    </tr>\n",
       "  </tbody>\n",
       "</table>\n",
       "</div>"
      ],
      "text/plain": [
       "       customer_id  avg_revenue  num_of_purchase   avg_profit  product_line  \\\n",
       "count  3493.000000  3493.000000      3493.000000  3493.000000   3493.000000   \n",
       "mean   1749.916118  1107.035264         5.724878   551.098120      0.160034   \n",
       "std    1010.520804   279.805716         2.325749   235.534561      0.437876   \n",
       "min       1.000000    60.340000         1.000000    15.080000      0.000000   \n",
       "25%     876.000000   932.490000         4.000000   386.115000      0.000000   \n",
       "50%    1750.000000  1105.512500         6.000000   532.267500      0.000000   \n",
       "75%    2624.000000  1284.976250         7.000000   695.552857      0.000000   \n",
       "max    3500.000000  2091.470000        14.000000  1702.550000      3.000000   \n",
       "\n",
       "       product_size  product_class        brand      recency       gender  \\\n",
       "count   3493.000000    3493.000000  3493.000000  3493.000000  3493.000000   \n",
       "mean       0.217005       0.171772     2.134269    60.807043     0.518179   \n",
       "std        0.531782       0.508501     1.666497    57.794061     0.542072   \n",
       "min        0.000000       0.000000     0.000000     0.000000     0.000000   \n",
       "25%        0.000000       0.000000     0.000000    17.000000     0.000000   \n",
       "50%        0.000000       0.000000     2.000000    44.000000     0.000000   \n",
       "75%        0.000000       0.000000     3.000000    85.000000     1.000000   \n",
       "max        2.000000       2.000000     5.000000   353.000000     2.000000   \n",
       "\n",
       "       job_industry_category  wealth_segment  deceased_indicator       tenure  \\\n",
       "count            3493.000000     3493.000000         3493.000000  3493.000000   \n",
       "mean                3.091039        0.756084            0.000286    10.602348   \n",
       "std                 2.528251        0.834910            0.016920     5.639836   \n",
       "min                 0.000000        0.000000            0.000000     1.000000   \n",
       "25%                 1.000000        0.000000            0.000000     6.000000   \n",
       "50%                 3.000000        0.000000            0.000000    10.000000   \n",
       "75%                 6.000000        2.000000            0.000000    15.000000   \n",
       "max                 8.000000        2.000000            1.000000    22.000000   \n",
       "\n",
       "          postcode        state  property_valuation          Age    Age Group  \n",
       "count  3493.000000  3493.000000         3493.000000  3493.000000  3493.000000  \n",
       "mean   2988.379330     0.716576            7.516461    46.288577     1.366447  \n",
       "std     852.180933     0.840929            2.820839    12.803890     0.831949  \n",
       "min    2000.000000     0.000000            1.000000    22.000000     0.000000  \n",
       "25%    2200.000000     0.000000            6.000000    37.000000     1.000000  \n",
       "50%    2768.000000     0.000000            8.000000    46.000000     1.000000  \n",
       "75%    3756.000000     2.000000           10.000000    56.000000     2.000000  \n",
       "max    4883.000000     2.000000           12.000000   180.000000     3.000000  "
      ]
     },
     "execution_count": 383,
     "metadata": {},
     "output_type": "execute_result"
    }
   ],
   "source": [
    "planet.describe()"
   ]
  },
  {
   "cell_type": "markdown",
   "id": "47b53265",
   "metadata": {},
   "source": [
    "## Dropping the Age Column"
   ]
  },
  {
   "cell_type": "code",
   "execution_count": 384,
   "id": "2d045f85",
   "metadata": {},
   "outputs": [],
   "source": [
    "planet.drop(columns = [\"Age\"], axis = 1, inplace = True)"
   ]
  },
  {
   "cell_type": "markdown",
   "id": "c528d2af",
   "metadata": {},
   "source": [
    "## Visualization on the dataset"
   ]
  },
  {
   "cell_type": "code",
   "execution_count": 385,
   "id": "62e00b77",
   "metadata": {},
   "outputs": [
    {
     "data": {
      "image/png": "[encoded data removed]",
      "text/plain": [
       "<Figure size 2000x1600 with 20 Axes>"
      ]
     },
     "metadata": {},
     "output_type": "display_data"
    }
   ],
   "source": [
    "# showing the histogram of Clean dataframe\n",
    "planet.hist(figsize=(20,16))\n",
    "plt.show()"
   ]
  },
  {
   "cell_type": "code",
   "execution_count": 386,
   "id": "65a19894",
   "metadata": {},
   "outputs": [
    {
     "data": {
      "image/png": "[encoded data removed]",
      "text/plain": [
       "<Figure size 2000x1600 with 32 Axes>"
      ]
     },
     "metadata": {},
     "output_type": "display_data"
    }
   ],
   "source": [
    "# using plot (density) for your visualization on matplotlib\n",
    "planet.plot(kind='density', subplots=True, layout=(8,4), sharex=False, figsize=(20,16))\n",
    "plt.show()"
   ]
  },
  {
   "cell_type": "markdown",
   "id": "2fad7d97",
   "metadata": {},
   "source": [
    "## Preparing the Column names for the Algorithms"
   ]
  },
  {
   "cell_type": "code",
   "execution_count": 387,
   "id": "dfd3376b",
   "metadata": {},
   "outputs": [
    {
     "data": {
      "text/plain": [
       "Index(['customer_id', 'avg_revenue', 'num_of_purchase', 'avg_profit',\n",
       "       'product_line', 'product_size', 'product_class', 'brand', 'recency',\n",
       "       'gender', 'job_industry_category', 'wealth_segment',\n",
       "       'deceased_indicator', 'tenure', 'postcode', 'state',\n",
       "       'property_valuation', 'Age Group'],\n",
       "      dtype='object')"
      ]
     },
     "execution_count": 387,
     "metadata": {},
     "output_type": "execute_result"
    }
   ],
   "source": [
    "planet.columns"
   ]
  },
  {
   "cell_type": "code",
   "execution_count": 388,
   "id": "581e8a68",
   "metadata": {},
   "outputs": [],
   "source": [
    "X = planet[['avg_revenue', 'num_of_purchase', 'avg_profit',\n",
    "       'product_line', 'product_size', 'product_class', 'brand', 'recency',\n",
    "       'gender', 'job_industry_category', 'wealth_segment',\n",
    "       'deceased_indicator', 'tenure', 'postcode', 'state',\n",
    "       'property_valuation', 'Age Group']]"
   ]
  },
  {
   "cell_type": "markdown",
   "id": "9deaf39e",
   "metadata": {},
   "source": [
    "## Scaling the dataset down to fit the model"
   ]
  },
  {
   "cell_type": "code",
   "execution_count": 389,
   "id": "00a08e0a",
   "metadata": {},
   "outputs": [],
   "source": [
    "# Define the scaler object\n",
    "scaler = StandardScaler()\n",
    "\n",
    "# Scaling the DataFrame\n",
    "scaled_Data_Planet = scaler.fit_transform(X)"
   ]
  },
  {
   "cell_type": "code",
   "execution_count": 390,
   "id": "eca05c02",
   "metadata": {},
   "outputs": [
    {
     "data": {
      "text/html": [
       "<style>#sk-container-id-1 {color: black;}#sk-container-id-1 pre{padding: 0;}#sk-container-id-1 div.sk-toggleable {background-color: white;}#sk-container-id-1 label.sk-toggleable__label {cursor: pointer;display: block;width: 100%;margin-bottom: 0;padding: 0.3em;box-sizing: border-box;text-align: center;}#sk-container-id-1 label.sk-toggleable__label-arrow:before {content: \"▸\";float: left;margin-right: 0.25em;color: #696969;}#sk-container-id-1 label.sk-toggleable__label-arrow:hover:before {color: black;}#sk-container-id-1 div.sk-estimator:hover label.sk-toggleable__label-arrow:before {color: black;}#sk-container-id-1 div.sk-toggleable__content {max-height: 0;max-width: 0;overflow: hidden;text-align: left;background-color: #f0f8ff;}#sk-container-id-1 div.sk-toggleable__content pre {margin: 0.2em;color: black;border-radius: 0.25em;background-color: #f0f8ff;}#sk-container-id-1 input.sk-toggleable__control:checked~div.sk-toggleable__content {max-height: 200px;max-width: 100%;overflow: auto;}#sk-container-id-1 input.sk-toggleable__control:checked~label.sk-toggleable__label-arrow:before {content: \"▾\";}#sk-container-id-1 div.sk-estimator input.sk-toggleable__control:checked~label.sk-toggleable__label {background-color: #d4ebff;}#sk-container-id-1 div.sk-label input.sk-toggleable__control:checked~label.sk-toggleable__label {background-color: #d4ebff;}#sk-container-id-1 input.sk-hidden--visually {border: 0;clip: rect(1px 1px 1px 1px);clip: rect(1px, 1px, 1px, 1px);height: 1px;margin: -1px;overflow: hidden;padding: 0;position: absolute;width: 1px;}#sk-container-id-1 div.sk-estimator {font-family: monospace;background-color: #f0f8ff;border: 1px dotted black;border-radius: 0.25em;box-sizing: border-box;margin-bottom: 0.5em;}#sk-container-id-1 div.sk-estimator:hover {background-color: #d4ebff;}#sk-container-id-1 div.sk-parallel-item::after {content: \"\";width: 100%;border-bottom: 1px solid gray;flex-grow: 1;}#sk-container-id-1 div.sk-label:hover label.sk-toggleable__label {background-color: #d4ebff;}#sk-container-id-1 div.sk-serial::before {content: \"\";position: absolute;border-left: 1px solid gray;box-sizing: border-box;top: 0;bottom: 0;left: 50%;z-index: 0;}#sk-container-id-1 div.sk-serial {display: flex;flex-direction: column;align-items: center;background-color: white;padding-right: 0.2em;padding-left: 0.2em;position: relative;}#sk-container-id-1 div.sk-item {position: relative;z-index: 1;}#sk-container-id-1 div.sk-parallel {display: flex;align-items: stretch;justify-content: center;background-color: white;position: relative;}#sk-container-id-1 div.sk-item::before, #sk-container-id-1 div.sk-parallel-item::before {content: \"\";position: absolute;border-left: 1px solid gray;box-sizing: border-box;top: 0;bottom: 0;left: 50%;z-index: -1;}#sk-container-id-1 div.sk-parallel-item {display: flex;flex-direction: column;z-index: 1;position: relative;background-color: white;}#sk-container-id-1 div.sk-parallel-item:first-child::after {align-self: flex-end;width: 50%;}#sk-container-id-1 div.sk-parallel-item:last-child::after {align-self: flex-start;width: 50%;}#sk-container-id-1 div.sk-parallel-item:only-child::after {width: 0;}#sk-container-id-1 div.sk-dashed-wrapped {border: 1px dashed gray;margin: 0 0.4em 0.5em 0.4em;box-sizing: border-box;padding-bottom: 0.4em;background-color: white;}#sk-container-id-1 div.sk-label label {font-family: monospace;font-weight: bold;display: inline-block;line-height: 1.2em;}#sk-container-id-1 div.sk-label-container {text-align: center;}#sk-container-id-1 div.sk-container {/* jupyter's `normalize.less` sets `[hidden] { display: none; }` but bootstrap.min.css set `[hidden] { display: none !important; }` so we also need the `!important` here to be able to override the default hidden behavior on the sphinx rendered scikit-learn.org. See: https://github.com/scikit-learn/scikit-learn/issues/21755 */display: inline-block !important;position: relative;}#sk-container-id-1 div.sk-text-repr-fallback {display: none;}</style><div id=\"sk-container-id-1\" class=\"sk-top-container\"><div class=\"sk-text-repr-fallback\"><pre>KMeans()</pre><b>In a Jupyter environment, please rerun this cell to show the HTML representation or trust the notebook. <br />On GitHub, the HTML representation is unable to render, please try loading this page with nbviewer.org.</b></div><div class=\"sk-container\" hidden><div class=\"sk-item\"><div class=\"sk-estimator sk-toggleable\"><input class=\"sk-toggleable__control sk-hidden--visually\" id=\"sk-estimator-id-1\" type=\"checkbox\" checked><label for=\"sk-estimator-id-1\" class=\"sk-toggleable__label sk-toggleable__label-arrow\">KMeans</label><div class=\"sk-toggleable__content\"><pre>KMeans()</pre></div></div></div></div></div>"
      ],
      "text/plain": [
       "KMeans()"
      ]
     },
     "execution_count": 390,
     "metadata": {},
     "output_type": "execute_result"
    }
   ],
   "source": [
    "k_means = KMeans()\n",
    "k_means.fit(X)"
   ]
  },
  {
   "cell_type": "code",
   "execution_count": 391,
   "id": "6ff562ef",
   "metadata": {},
   "outputs": [
    {
     "data": {
      "text/plain": [
       "array([7, 3, 0, ..., 5, 6, 7])"
      ]
     },
     "execution_count": 391,
     "metadata": {},
     "output_type": "execute_result"
    }
   ],
   "source": [
    "k_means = KMeans()\n",
    "k_means.fit_predict(X)"
   ]
  },
  {
   "cell_type": "markdown",
   "id": "c2ab7c07",
   "metadata": {},
   "source": [
    "## Elbow method to find optimal number of clusters"
   ]
  },
  {
   "cell_type": "code",
   "execution_count": 392,
   "id": "059789cd",
   "metadata": {},
   "outputs": [],
   "source": [
    "wcss = []\n",
    "for i in range (1, 17):\n",
    "    k_means = KMeans(n_clusters = i)\n",
    "    k_means.fit(X)\n",
    "    wcss.append(k_means.inertia_)"
   ]
  },
  {
   "cell_type": "code",
   "execution_count": 393,
   "id": "15be48a0",
   "metadata": {},
   "outputs": [
    {
     "data": {
      "text/plain": [
       "[3014915035.2413754,\n",
       " 1041547729.3699969,\n",
       " 651370684.3336545,\n",
       " 534120680.40130216,\n",
       " 465300980.28893006,\n",
       " 400486045.64289284,\n",
       " 354500151.3233397,\n",
       " 319026486.92934936,\n",
       " 288874459.6698835,\n",
       " 270840411.5681778,\n",
       " 251084464.36639974,\n",
       " 236836989.65449816,\n",
       " 222666395.53670076,\n",
       " 209776646.83354348,\n",
       " 198839765.23282343,\n",
       " 188836820.65458593]"
      ]
     },
     "execution_count": 393,
     "metadata": {},
     "output_type": "execute_result"
    }
   ],
   "source": [
    "wcss"
   ]
  },
  {
   "cell_type": "code",
   "execution_count": 394,
   "id": "6ef53af5",
   "metadata": {},
   "outputs": [
    {
     "data": {
      "image/png": "[encoded data removed]",
      "text/plain": [
       "<Figure size 640x480 with 1 Axes>"
      ]
     },
     "metadata": {},
     "output_type": "display_data"
    }
   ],
   "source": [
    "plt.plot(range(1,17), wcss)\n",
    "plt.title(\"Elbow Method\")\n",
    "plt.xlabel(\"Number of Clusters\")\n",
    "plt.ylabel(\"wcss\")\n",
    "plt.show()"
   ]
  },
  {
   "cell_type": "markdown",
   "id": "077da485",
   "metadata": {},
   "source": [
    "## Training Model"
   ]
  },
  {
   "cell_type": "code",
   "execution_count": 395,
   "id": "ef7ca242",
   "metadata": {},
   "outputs": [],
   "source": [
    "X = planet[['avg_revenue', 'num_of_purchase', 'avg_profit',\n",
    "       'product_line', 'product_size', 'product_class', 'brand', 'recency',\n",
    "       'gender', 'job_industry_category', 'wealth_segment',\n",
    "       'deceased_indicator', 'tenure', 'postcode', 'state',\n",
    "       'property_valuation', 'Age Group']]"
   ]
  },
  {
   "cell_type": "code",
   "execution_count": 396,
   "id": "ebc79e94",
   "metadata": {},
   "outputs": [],
   "source": [
    "k_means = KMeans(n_clusters = 5, random_state = 0)\n",
    "y_means = k_means.fit_predict(X)"
   ]
  },
  {
   "cell_type": "code",
   "execution_count": 397,
   "id": "d2425d87",
   "metadata": {},
   "outputs": [
    {
     "data": {
      "text/plain": [
       "array([0, 4, 0, ..., 2, 3, 0])"
      ]
     },
     "execution_count": 397,
     "metadata": {},
     "output_type": "execute_result"
    }
   ],
   "source": [
    "y_means"
   ]
  },
  {
   "cell_type": "markdown",
   "id": "3809dee8",
   "metadata": {},
   "source": [
    "## visualized the model"
   ]
  },
  {
   "cell_type": "code",
   "execution_count": 398,
   "id": "e0db03bc",
   "metadata": {},
   "outputs": [
    {
     "data": {
      "image/png": "[encoded data removed]",
      "text/plain": [
       "<Figure size 640x480 with 1 Axes>"
      ]
     },
     "metadata": {},
     "output_type": "display_data"
    }
   ],
   "source": [
    "plt.scatter(X.iloc[y_means == 0,0], X.iloc[y_means == 0,1], s = 100, c = 'red', label = \"Cluster 1\")\n",
    "plt.scatter(X.iloc[y_means == 1,0], X.iloc[y_means == 1,1], s = 100, c = 'blue', label = \"Cluster 2\")\n",
    "plt.scatter(X.iloc[y_means == 2,0], X.iloc[y_means == 2,1], s = 100, c = 'green', label = \"Cluster 3\")\n",
    "plt.scatter(X.iloc[y_means == 3,0], X.iloc[y_means == 3,1], s = 100, c = 'purple', label = \"Cluster 4\")\n",
    "plt.scatter(X.iloc[y_means == 4,0], X.iloc[y_means == 4,1], s = 100, c = 'yellow', label = \"Cluster 5\")\n",
    "plt.scatter(k_means.cluster_centers_[:,0], k_means.cluster_centers_[:,1], s = 100, c = 'magenta')\n",
    "plt.title(\"Customer Segmentation\")\n",
    "plt.legend()\n",
    "plt.show()"
   ]
  },
  {
   "cell_type": "markdown",
   "id": "2014dec4",
   "metadata": {},
   "source": [
    "## creating a target column \"Cluster\" for storing the cluster segment"
   ]
  },
  {
   "cell_type": "code",
   "execution_count": 399,
   "id": "af05de45",
   "metadata": {},
   "outputs": [
    {
     "data": {
      "text/html": [
       "<div>\n",
       "<style scoped>\n",
       "    .dataframe tbody tr th:only-of-type {\n",
       "        vertical-align: middle;\n",
       "    }\n",
       "\n",
       "    .dataframe tbody tr th {\n",
       "        vertical-align: top;\n",
       "    }\n",
       "\n",
       "    .dataframe thead th {\n",
       "        text-align: right;\n",
       "    }\n",
       "</style>\n",
       "<table border=\"1\" class=\"dataframe\">\n",
       "  <thead>\n",
       "    <tr style=\"text-align: right;\">\n",
       "      <th></th>\n",
       "      <th>customer_id</th>\n",
       "      <th>avg_revenue</th>\n",
       "      <th>num_of_purchase</th>\n",
       "      <th>avg_profit</th>\n",
       "      <th>product_line</th>\n",
       "      <th>product_size</th>\n",
       "      <th>product_class</th>\n",
       "      <th>brand</th>\n",
       "      <th>recency</th>\n",
       "      <th>gender</th>\n",
       "      <th>job_industry_category</th>\n",
       "      <th>wealth_segment</th>\n",
       "      <th>deceased_indicator</th>\n",
       "      <th>tenure</th>\n",
       "      <th>postcode</th>\n",
       "      <th>state</th>\n",
       "      <th>property_valuation</th>\n",
       "      <th>Age Group</th>\n",
       "      <th>Cluster</th>\n",
       "    </tr>\n",
       "  </thead>\n",
       "  <tbody>\n",
       "    <tr>\n",
       "      <th>0</th>\n",
       "      <td>1</td>\n",
       "      <td>825.859091</td>\n",
       "      <td>11</td>\n",
       "      <td>274.371818</td>\n",
       "      <td>0.0</td>\n",
       "      <td>0.0</td>\n",
       "      <td>0.0</td>\n",
       "      <td>0.0</td>\n",
       "      <td>7</td>\n",
       "      <td>0.0</td>\n",
       "      <td>0.0</td>\n",
       "      <td>0.0</td>\n",
       "      <td>0.0</td>\n",
       "      <td>11</td>\n",
       "      <td>2016</td>\n",
       "      <td>0.0</td>\n",
       "      <td>10</td>\n",
       "      <td>0.0</td>\n",
       "      <td>0</td>\n",
       "    </tr>\n",
       "    <tr>\n",
       "      <th>1</th>\n",
       "      <td>2</td>\n",
       "      <td>1383.023333</td>\n",
       "      <td>3</td>\n",
       "      <td>742.086667</td>\n",
       "      <td>0.0</td>\n",
       "      <td>0.0</td>\n",
       "      <td>0.0</td>\n",
       "      <td>1.0</td>\n",
       "      <td>128</td>\n",
       "      <td>1.0</td>\n",
       "      <td>1.0</td>\n",
       "      <td>0.0</td>\n",
       "      <td>0.0</td>\n",
       "      <td>16</td>\n",
       "      <td>2153</td>\n",
       "      <td>0.0</td>\n",
       "      <td>10</td>\n",
       "      <td>1.0</td>\n",
       "      <td>4</td>\n",
       "    </tr>\n",
       "    <tr>\n",
       "      <th>2</th>\n",
       "      <td>3</td>\n",
       "      <td>1236.028750</td>\n",
       "      <td>8</td>\n",
       "      <td>420.351250</td>\n",
       "      <td>0.0</td>\n",
       "      <td>1.0</td>\n",
       "      <td>0.0</td>\n",
       "      <td>2.0</td>\n",
       "      <td>102</td>\n",
       "      <td>1.0</td>\n",
       "      <td>2.0</td>\n",
       "      <td>0.0</td>\n",
       "      <td>0.0</td>\n",
       "      <td>15</td>\n",
       "      <td>2153</td>\n",
       "      <td>0.0</td>\n",
       "      <td>8</td>\n",
       "      <td>0.0</td>\n",
       "      <td>0</td>\n",
       "    </tr>\n",
       "    <tr>\n",
       "      <th>3</th>\n",
       "      <td>4</td>\n",
       "      <td>523.860000</td>\n",
       "      <td>2</td>\n",
       "      <td>110.285000</td>\n",
       "      <td>0.0</td>\n",
       "      <td>1.0</td>\n",
       "      <td>0.0</td>\n",
       "      <td>0.0</td>\n",
       "      <td>195</td>\n",
       "      <td>1.0</td>\n",
       "      <td>3.0</td>\n",
       "      <td>0.0</td>\n",
       "      <td>0.0</td>\n",
       "      <td>7</td>\n",
       "      <td>4211</td>\n",
       "      <td>1.0</td>\n",
       "      <td>9</td>\n",
       "      <td>0.0</td>\n",
       "      <td>1</td>\n",
       "    </tr>\n",
       "    <tr>\n",
       "      <th>4</th>\n",
       "      <td>5</td>\n",
       "      <td>983.866667</td>\n",
       "      <td>6</td>\n",
       "      <td>399.156667</td>\n",
       "      <td>1.0</td>\n",
       "      <td>1.0</td>\n",
       "      <td>0.0</td>\n",
       "      <td>2.0</td>\n",
       "      <td>16</td>\n",
       "      <td>0.0</td>\n",
       "      <td>3.0</td>\n",
       "      <td>1.0</td>\n",
       "      <td>0.0</td>\n",
       "      <td>8</td>\n",
       "      <td>2448</td>\n",
       "      <td>0.0</td>\n",
       "      <td>4</td>\n",
       "      <td>2.0</td>\n",
       "      <td>0</td>\n",
       "    </tr>\n",
       "    <tr>\n",
       "      <th>...</th>\n",
       "      <td>...</td>\n",
       "      <td>...</td>\n",
       "      <td>...</td>\n",
       "      <td>...</td>\n",
       "      <td>...</td>\n",
       "      <td>...</td>\n",
       "      <td>...</td>\n",
       "      <td>...</td>\n",
       "      <td>...</td>\n",
       "      <td>...</td>\n",
       "      <td>...</td>\n",
       "      <td>...</td>\n",
       "      <td>...</td>\n",
       "      <td>...</td>\n",
       "      <td>...</td>\n",
       "      <td>...</td>\n",
       "      <td>...</td>\n",
       "      <td>...</td>\n",
       "      <td>...</td>\n",
       "    </tr>\n",
       "    <tr>\n",
       "      <th>3488</th>\n",
       "      <td>3496</td>\n",
       "      <td>1181.345000</td>\n",
       "      <td>4</td>\n",
       "      <td>511.460000</td>\n",
       "      <td>0.0</td>\n",
       "      <td>0.0</td>\n",
       "      <td>0.0</td>\n",
       "      <td>2.0</td>\n",
       "      <td>256</td>\n",
       "      <td>1.0</td>\n",
       "      <td>6.0</td>\n",
       "      <td>0.0</td>\n",
       "      <td>0.0</td>\n",
       "      <td>19</td>\n",
       "      <td>2171</td>\n",
       "      <td>0.0</td>\n",
       "      <td>9</td>\n",
       "      <td>1.0</td>\n",
       "      <td>0</td>\n",
       "    </tr>\n",
       "    <tr>\n",
       "      <th>3489</th>\n",
       "      <td>3497</td>\n",
       "      <td>1248.023333</td>\n",
       "      <td>3</td>\n",
       "      <td>549.440000</td>\n",
       "      <td>0.0</td>\n",
       "      <td>0.0</td>\n",
       "      <td>0.0</td>\n",
       "      <td>0.0</td>\n",
       "      <td>52</td>\n",
       "      <td>0.0</td>\n",
       "      <td>6.0</td>\n",
       "      <td>1.0</td>\n",
       "      <td>0.0</td>\n",
       "      <td>18</td>\n",
       "      <td>3976</td>\n",
       "      <td>2.0</td>\n",
       "      <td>5</td>\n",
       "      <td>1.0</td>\n",
       "      <td>3</td>\n",
       "    </tr>\n",
       "    <tr>\n",
       "      <th>3490</th>\n",
       "      <td>3498</td>\n",
       "      <td>862.843333</td>\n",
       "      <td>6</td>\n",
       "      <td>524.555000</td>\n",
       "      <td>0.0</td>\n",
       "      <td>0.0</td>\n",
       "      <td>0.0</td>\n",
       "      <td>3.0</td>\n",
       "      <td>127</td>\n",
       "      <td>0.0</td>\n",
       "      <td>6.0</td>\n",
       "      <td>0.0</td>\n",
       "      <td>0.0</td>\n",
       "      <td>5</td>\n",
       "      <td>3012</td>\n",
       "      <td>2.0</td>\n",
       "      <td>4</td>\n",
       "      <td>1.0</td>\n",
       "      <td>2</td>\n",
       "    </tr>\n",
       "    <tr>\n",
       "      <th>3491</th>\n",
       "      <td>3499</td>\n",
       "      <td>1096.211429</td>\n",
       "      <td>7</td>\n",
       "      <td>707.892857</td>\n",
       "      <td>0.0</td>\n",
       "      <td>0.0</td>\n",
       "      <td>0.0</td>\n",
       "      <td>0.0</td>\n",
       "      <td>51</td>\n",
       "      <td>1.0</td>\n",
       "      <td>6.0</td>\n",
       "      <td>0.0</td>\n",
       "      <td>0.0</td>\n",
       "      <td>7</td>\n",
       "      <td>4073</td>\n",
       "      <td>1.0</td>\n",
       "      <td>9</td>\n",
       "      <td>1.0</td>\n",
       "      <td>3</td>\n",
       "    </tr>\n",
       "    <tr>\n",
       "      <th>3492</th>\n",
       "      <td>3500</td>\n",
       "      <td>820.401667</td>\n",
       "      <td>6</td>\n",
       "      <td>297.643333</td>\n",
       "      <td>0.0</td>\n",
       "      <td>0.0</td>\n",
       "      <td>0.0</td>\n",
       "      <td>0.0</td>\n",
       "      <td>144</td>\n",
       "      <td>0.0</td>\n",
       "      <td>8.0</td>\n",
       "      <td>1.0</td>\n",
       "      <td>0.0</td>\n",
       "      <td>17</td>\n",
       "      <td>2100</td>\n",
       "      <td>0.0</td>\n",
       "      <td>10</td>\n",
       "      <td>2.0</td>\n",
       "      <td>0</td>\n",
       "    </tr>\n",
       "  </tbody>\n",
       "</table>\n",
       "<p>3493 rows × 19 columns</p>\n",
       "</div>"
      ],
      "text/plain": [
       "      customer_id  avg_revenue  num_of_purchase  avg_profit  product_line  \\\n",
       "0               1   825.859091               11  274.371818           0.0   \n",
       "1               2  1383.023333                3  742.086667           0.0   \n",
       "2               3  1236.028750                8  420.351250           0.0   \n",
       "3               4   523.860000                2  110.285000           0.0   \n",
       "4               5   983.866667                6  399.156667           1.0   \n",
       "...           ...          ...              ...         ...           ...   \n",
       "3488         3496  1181.345000                4  511.460000           0.0   \n",
       "3489         3497  1248.023333                3  549.440000           0.0   \n",
       "3490         3498   862.843333                6  524.555000           0.0   \n",
       "3491         3499  1096.211429                7  707.892857           0.0   \n",
       "3492         3500   820.401667                6  297.643333           0.0   \n",
       "\n",
       "      product_size  product_class  brand  recency  gender  \\\n",
       "0              0.0            0.0    0.0        7     0.0   \n",
       "1              0.0            0.0    1.0      128     1.0   \n",
       "2              1.0            0.0    2.0      102     1.0   \n",
       "3              1.0            0.0    0.0      195     1.0   \n",
       "4              1.0            0.0    2.0       16     0.0   \n",
       "...            ...            ...    ...      ...     ...   \n",
       "3488           0.0            0.0    2.0      256     1.0   \n",
       "3489           0.0            0.0    0.0       52     0.0   \n",
       "3490           0.0            0.0    3.0      127     0.0   \n",
       "3491           0.0            0.0    0.0       51     1.0   \n",
       "3492           0.0            0.0    0.0      144     0.0   \n",
       "\n",
       "      job_industry_category  wealth_segment  deceased_indicator  tenure  \\\n",
       "0                       0.0             0.0                 0.0      11   \n",
       "1                       1.0             0.0                 0.0      16   \n",
       "2                       2.0             0.0                 0.0      15   \n",
       "3                       3.0             0.0                 0.0       7   \n",
       "4                       3.0             1.0                 0.0       8   \n",
       "...                     ...             ...                 ...     ...   \n",
       "3488                    6.0             0.0                 0.0      19   \n",
       "3489                    6.0             1.0                 0.0      18   \n",
       "3490                    6.0             0.0                 0.0       5   \n",
       "3491                    6.0             0.0                 0.0       7   \n",
       "3492                    8.0             1.0                 0.0      17   \n",
       "\n",
       "      postcode  state  property_valuation  Age Group  Cluster  \n",
       "0         2016    0.0                  10        0.0        0  \n",
       "1         2153    0.0                  10        1.0        4  \n",
       "2         2153    0.0                   8        0.0        0  \n",
       "3         4211    1.0                   9        0.0        1  \n",
       "4         2448    0.0                   4        2.0        0  \n",
       "...        ...    ...                 ...        ...      ...  \n",
       "3488      2171    0.0                   9        1.0        0  \n",
       "3489      3976    2.0                   5        1.0        3  \n",
       "3490      3012    2.0                   4        1.0        2  \n",
       "3491      4073    1.0                   9        1.0        3  \n",
       "3492      2100    0.0                  10        2.0        0  \n",
       "\n",
       "[3493 rows x 19 columns]"
      ]
     },
     "execution_count": 399,
     "metadata": {},
     "output_type": "execute_result"
    }
   ],
   "source": [
    "cluster_planet = pd.concat([planet, pd.DataFrame({'Cluster': y_means})], axis=1)\n",
    "cluster_planet"
   ]
  },
  {
   "cell_type": "code",
   "execution_count": 400,
   "id": "774b2658",
   "metadata": {},
   "outputs": [
    {
     "data": {
      "text/plain": [
       "array([0])"
      ]
     },
     "execution_count": 400,
     "metadata": {},
     "output_type": "execute_result"
    }
   ],
   "source": [
    "# making a prediction \n",
    "k_means.predict([[1100,4,511, 0.0, 0.0,0.0,2.0,256,1.0,6.0,0.0,0.0,19,2171,2.0,4,1.0]])"
   ]
  },
  {
   "cell_type": "code",
   "execution_count": 401,
   "id": "8c45062d",
   "metadata": {},
   "outputs": [],
   "source": [
    "# save the model\n",
    "import joblib"
   ]
  },
  {
   "cell_type": "code",
   "execution_count": 402,
   "id": "ce810834",
   "metadata": {},
   "outputs": [
    {
     "data": {
      "text/plain": [
       "['Customer Segmentation']"
      ]
     },
     "execution_count": 402,
     "metadata": {},
     "output_type": "execute_result"
    }
   ],
   "source": [
    "joblib.dump(k_means, \"Customer Segmentation\")"
   ]
  },
  {
   "cell_type": "code",
   "execution_count": 403,
   "id": "85f5d478",
   "metadata": {},
   "outputs": [],
   "source": [
    "model = joblib.load(\"Customer Segmentation\")"
   ]
  },
  {
   "cell_type": "markdown",
   "id": "35486418",
   "metadata": {},
   "source": [
    "## Splitting your dataset into independent and dependent data (Classification)"
   ]
  },
  {
   "cell_type": "code",
   "execution_count": 404,
   "id": "00e0d254",
   "metadata": {},
   "outputs": [],
   "source": [
    "X = cluster_planet.drop (['Cluster'], axis = 1)\n",
    "y = cluster_planet[['Cluster']]\n",
    "X_train, X_test, y_train, y_test = train_test_split(X,y,test_size = 0.3) "
   ]
  },
  {
   "cell_type": "markdown",
   "id": "17cc38bb",
   "metadata": {},
   "source": [
    "## Using Decision Tree Algorithm to checking the Classification dataset"
   ]
  },
  {
   "cell_type": "code",
   "execution_count": 405,
   "id": "4de91f07",
   "metadata": {},
   "outputs": [],
   "source": [
    "# Decision Tree\n",
    "model = DecisionTreeClassifier(criterion=\"entropy\")\n",
    "model.fit(X_train, y_train)\n",
    "y_pred = model.predict(X_test)"
   ]
  },
  {
   "cell_type": "code",
   "execution_count": 406,
   "id": "89d90688",
   "metadata": {},
   "outputs": [
    {
     "data": {
      "text/plain": [
       "array([4, 0, 2, ..., 0, 0, 4])"
      ]
     },
     "execution_count": 406,
     "metadata": {},
     "output_type": "execute_result"
    }
   ],
   "source": [
    "y_pred"
   ]
  },
  {
   "cell_type": "markdown",
   "id": "9f3ad133",
   "metadata": {},
   "source": [
    "## Using confusion matrix to check the accuracy"
   ]
  },
  {
   "cell_type": "code",
   "execution_count": 407,
   "id": "71329b0e",
   "metadata": {},
   "outputs": [
    {
     "name": "stdout",
     "output_type": "stream",
     "text": [
      "[[293   0   1   0   1]\n",
      " [  0 155   0   5   0]\n",
      " [  3   1 276   0   0]\n",
      " [  0   7   1 113   0]\n",
      " [  5   0   0   0 187]]\n",
      "              precision    recall  f1-score   support\n",
      "\n",
      "           0       0.97      0.99      0.98       295\n",
      "           1       0.95      0.97      0.96       160\n",
      "           2       0.99      0.99      0.99       280\n",
      "           3       0.96      0.93      0.95       121\n",
      "           4       0.99      0.97      0.98       192\n",
      "\n",
      "    accuracy                           0.98      1048\n",
      "   macro avg       0.97      0.97      0.97      1048\n",
      "weighted avg       0.98      0.98      0.98      1048\n",
      "\n"
     ]
    }
   ],
   "source": [
    "print(metrics.confusion_matrix(y_test,y_pred))\n",
    "print(classification_report(y_test, y_pred))"
   ]
  },
  {
   "cell_type": "markdown",
   "id": "c236d28d",
   "metadata": {},
   "source": [
    "## Checking if the clusters were evenly distributed"
   ]
  },
  {
   "cell_type": "code",
   "execution_count": 408,
   "id": "754466ca",
   "metadata": {},
   "outputs": [],
   "source": [
    "cluster_counts = cluster_planet.groupby('Cluster').size().reset_index(name='Count')"
   ]
  },
  {
   "cell_type": "code",
   "execution_count": 409,
   "id": "d00f12b4",
   "metadata": {},
   "outputs": [
    {
     "data": {
      "text/html": [
       "<div>\n",
       "<style scoped>\n",
       "    .dataframe tbody tr th:only-of-type {\n",
       "        vertical-align: middle;\n",
       "    }\n",
       "\n",
       "    .dataframe tbody tr th {\n",
       "        vertical-align: top;\n",
       "    }\n",
       "\n",
       "    .dataframe thead th {\n",
       "        text-align: right;\n",
       "    }\n",
       "</style>\n",
       "<table border=\"1\" class=\"dataframe\">\n",
       "  <thead>\n",
       "    <tr style=\"text-align: right;\">\n",
       "      <th></th>\n",
       "      <th>Cluster</th>\n",
       "      <th>Count</th>\n",
       "    </tr>\n",
       "  </thead>\n",
       "  <tbody>\n",
       "    <tr>\n",
       "      <th>0</th>\n",
       "      <td>0</td>\n",
       "      <td>939</td>\n",
       "    </tr>\n",
       "    <tr>\n",
       "      <th>1</th>\n",
       "      <td>1</td>\n",
       "      <td>513</td>\n",
       "    </tr>\n",
       "    <tr>\n",
       "      <th>2</th>\n",
       "      <td>2</td>\n",
       "      <td>968</td>\n",
       "    </tr>\n",
       "    <tr>\n",
       "      <th>3</th>\n",
       "      <td>3</td>\n",
       "      <td>401</td>\n",
       "    </tr>\n",
       "    <tr>\n",
       "      <th>4</th>\n",
       "      <td>4</td>\n",
       "      <td>672</td>\n",
       "    </tr>\n",
       "  </tbody>\n",
       "</table>\n",
       "</div>"
      ],
      "text/plain": [
       "   Cluster  Count\n",
       "0        0    939\n",
       "1        1    513\n",
       "2        2    968\n",
       "3        3    401\n",
       "4        4    672"
      ]
     },
     "execution_count": 409,
     "metadata": {},
     "output_type": "execute_result"
    }
   ],
   "source": [
    "cluster_counts"
   ]
  },
  {
   "cell_type": "markdown",
   "id": "0ddf739c",
   "metadata": {},
   "source": [
    "## Define mapping dictionaries for each categorical column (Inverse transform of data)"
   ]
  },
  {
   "cell_type": "code",
   "execution_count": 410,
   "id": "975abb75",
   "metadata": {},
   "outputs": [],
   "source": [
    "inverse_mapping = {\n",
    "    'Age Group': {0: 'Old', 1: 'Adult', 2: 'Senior Adult', 3: 'Young Adult'},\n",
    "    'product_line': {0: 'Standard', 1: 'Road', 2: 'Touring', 3: 'Mountain'},\n",
    "    'product_size': {0: 'medium', 1: 'large', 2: 'small'},\n",
    "    'product_class': {0: 'medium', 1: 'high', 2: 'low'},\n",
    "    'brand': {0: 'Giant Bicycles', 1: 'WeareA2B', 2: 'Norco Bicycles', 3: 'Solex', 4: 'OHM Cycles', 5: 'Trek Bicycles'},\n",
    "    'gender': {0: 'Female', 1: 'Male', 2: 'Others'},\n",
    "    'job_industry_category': {0: 'Health', 1: 'Financial Services', 2: 'Property', 3: 'IT', 4: 'Retail', 5: 'Argiculture', 6: 'Manufacturing', 7: 'Telecommuincations', 8: 'Entertainment'},\n",
    "    'wealth_segment': {0: 'Mass Customer', 1: 'Affluent Customer', 2: 'High Net Worth'},\n",
    "    'deceased_indicator': {0: 'N', 1: 'Y'},\n",
    "    'state': {0: 'NSW', 1: 'QLD', 2: 'VIC'}\n",
    "}\n",
    "\n",
    "# Perform inverse transformation for each column\n",
    "for column, mapping in inverse_mapping.items():\n",
    "    cluster_planet[column].replace(mapping, inplace=True)"
   ]
  },
  {
   "cell_type": "code",
   "execution_count": 411,
   "id": "93534e86",
   "metadata": {},
   "outputs": [
    {
     "data": {
      "text/html": [
       "<div>\n",
       "<style scoped>\n",
       "    .dataframe tbody tr th:only-of-type {\n",
       "        vertical-align: middle;\n",
       "    }\n",
       "\n",
       "    .dataframe tbody tr th {\n",
       "        vertical-align: top;\n",
       "    }\n",
       "\n",
       "    .dataframe thead th {\n",
       "        text-align: right;\n",
       "    }\n",
       "</style>\n",
       "<table border=\"1\" class=\"dataframe\">\n",
       "  <thead>\n",
       "    <tr style=\"text-align: right;\">\n",
       "      <th></th>\n",
       "      <th>customer_id</th>\n",
       "      <th>avg_revenue</th>\n",
       "      <th>num_of_purchase</th>\n",
       "      <th>avg_profit</th>\n",
       "      <th>product_line</th>\n",
       "      <th>product_size</th>\n",
       "      <th>product_class</th>\n",
       "      <th>brand</th>\n",
       "      <th>recency</th>\n",
       "      <th>gender</th>\n",
       "      <th>job_industry_category</th>\n",
       "      <th>wealth_segment</th>\n",
       "      <th>deceased_indicator</th>\n",
       "      <th>tenure</th>\n",
       "      <th>postcode</th>\n",
       "      <th>state</th>\n",
       "      <th>property_valuation</th>\n",
       "      <th>Age Group</th>\n",
       "      <th>Cluster</th>\n",
       "    </tr>\n",
       "  </thead>\n",
       "  <tbody>\n",
       "    <tr>\n",
       "      <th>0</th>\n",
       "      <td>1</td>\n",
       "      <td>825.859091</td>\n",
       "      <td>11</td>\n",
       "      <td>274.371818</td>\n",
       "      <td>Standard</td>\n",
       "      <td>medium</td>\n",
       "      <td>medium</td>\n",
       "      <td>Giant Bicycles</td>\n",
       "      <td>7</td>\n",
       "      <td>Female</td>\n",
       "      <td>Health</td>\n",
       "      <td>Mass Customer</td>\n",
       "      <td>N</td>\n",
       "      <td>11</td>\n",
       "      <td>2016</td>\n",
       "      <td>NSW</td>\n",
       "      <td>10</td>\n",
       "      <td>Old</td>\n",
       "      <td>0</td>\n",
       "    </tr>\n",
       "    <tr>\n",
       "      <th>1</th>\n",
       "      <td>2</td>\n",
       "      <td>1383.023333</td>\n",
       "      <td>3</td>\n",
       "      <td>742.086667</td>\n",
       "      <td>Standard</td>\n",
       "      <td>medium</td>\n",
       "      <td>medium</td>\n",
       "      <td>WeareA2B</td>\n",
       "      <td>128</td>\n",
       "      <td>Male</td>\n",
       "      <td>Financial Services</td>\n",
       "      <td>Mass Customer</td>\n",
       "      <td>N</td>\n",
       "      <td>16</td>\n",
       "      <td>2153</td>\n",
       "      <td>NSW</td>\n",
       "      <td>10</td>\n",
       "      <td>Adult</td>\n",
       "      <td>4</td>\n",
       "    </tr>\n",
       "    <tr>\n",
       "      <th>2</th>\n",
       "      <td>3</td>\n",
       "      <td>1236.028750</td>\n",
       "      <td>8</td>\n",
       "      <td>420.351250</td>\n",
       "      <td>Standard</td>\n",
       "      <td>large</td>\n",
       "      <td>medium</td>\n",
       "      <td>Norco Bicycles</td>\n",
       "      <td>102</td>\n",
       "      <td>Male</td>\n",
       "      <td>Property</td>\n",
       "      <td>Mass Customer</td>\n",
       "      <td>N</td>\n",
       "      <td>15</td>\n",
       "      <td>2153</td>\n",
       "      <td>NSW</td>\n",
       "      <td>8</td>\n",
       "      <td>Old</td>\n",
       "      <td>0</td>\n",
       "    </tr>\n",
       "    <tr>\n",
       "      <th>3</th>\n",
       "      <td>4</td>\n",
       "      <td>523.860000</td>\n",
       "      <td>2</td>\n",
       "      <td>110.285000</td>\n",
       "      <td>Standard</td>\n",
       "      <td>large</td>\n",
       "      <td>medium</td>\n",
       "      <td>Giant Bicycles</td>\n",
       "      <td>195</td>\n",
       "      <td>Male</td>\n",
       "      <td>IT</td>\n",
       "      <td>Mass Customer</td>\n",
       "      <td>N</td>\n",
       "      <td>7</td>\n",
       "      <td>4211</td>\n",
       "      <td>QLD</td>\n",
       "      <td>9</td>\n",
       "      <td>Old</td>\n",
       "      <td>1</td>\n",
       "    </tr>\n",
       "    <tr>\n",
       "      <th>4</th>\n",
       "      <td>5</td>\n",
       "      <td>983.866667</td>\n",
       "      <td>6</td>\n",
       "      <td>399.156667</td>\n",
       "      <td>Road</td>\n",
       "      <td>large</td>\n",
       "      <td>medium</td>\n",
       "      <td>Norco Bicycles</td>\n",
       "      <td>16</td>\n",
       "      <td>Female</td>\n",
       "      <td>IT</td>\n",
       "      <td>Affluent Customer</td>\n",
       "      <td>N</td>\n",
       "      <td>8</td>\n",
       "      <td>2448</td>\n",
       "      <td>NSW</td>\n",
       "      <td>4</td>\n",
       "      <td>Senior Adult</td>\n",
       "      <td>0</td>\n",
       "    </tr>\n",
       "  </tbody>\n",
       "</table>\n",
       "</div>"
      ],
      "text/plain": [
       "   customer_id  avg_revenue  num_of_purchase  avg_profit product_line  \\\n",
       "0            1   825.859091               11  274.371818     Standard   \n",
       "1            2  1383.023333                3  742.086667     Standard   \n",
       "2            3  1236.028750                8  420.351250     Standard   \n",
       "3            4   523.860000                2  110.285000     Standard   \n",
       "4            5   983.866667                6  399.156667         Road   \n",
       "\n",
       "  product_size product_class           brand  recency  gender  \\\n",
       "0       medium        medium  Giant Bicycles        7  Female   \n",
       "1       medium        medium        WeareA2B      128    Male   \n",
       "2        large        medium  Norco Bicycles      102    Male   \n",
       "3        large        medium  Giant Bicycles      195    Male   \n",
       "4        large        medium  Norco Bicycles       16  Female   \n",
       "\n",
       "  job_industry_category     wealth_segment deceased_indicator  tenure  \\\n",
       "0                Health      Mass Customer                  N      11   \n",
       "1    Financial Services      Mass Customer                  N      16   \n",
       "2              Property      Mass Customer                  N      15   \n",
       "3                    IT      Mass Customer                  N       7   \n",
       "4                    IT  Affluent Customer                  N       8   \n",
       "\n",
       "   postcode state  property_valuation     Age Group  Cluster  \n",
       "0      2016   NSW                  10           Old        0  \n",
       "1      2153   NSW                  10         Adult        4  \n",
       "2      2153   NSW                   8           Old        0  \n",
       "3      4211   QLD                   9           Old        1  \n",
       "4      2448   NSW                   4  Senior Adult        0  "
      ]
     },
     "execution_count": 411,
     "metadata": {},
     "output_type": "execute_result"
    }
   ],
   "source": [
    "cluster_planet.head()"
   ]
  },
  {
   "cell_type": "code",
   "execution_count": 412,
   "id": "510277ed",
   "metadata": {},
   "outputs": [],
   "source": [
    "# save the clusters table into csv file\n",
    "cluster_planet.to_csv(\"Clusters Table.csv\")"
   ]
  },
  {
   "cell_type": "code",
   "execution_count": null,
   "id": "ee993af6",
   "metadata": {},
   "outputs": [],
   "source": []
  },
  {
   "cell_type": "markdown",
   "id": "976d285b",
   "metadata": {},
   "source": [
    "## Making a table for customers with demographic details but no transactions"
   ]
  },
  {
   "cell_type": "code",
   "execution_count": 351,
   "id": "f2b95c79",
   "metadata": {},
   "outputs": [],
   "source": [
    "#joining customer demo and customer behaviour getting all data from customer behaviour\n",
    "customerdemographic=pd.merge(customer_demo,Customer_behaviour, on ='customer_id',how='left',indicator=True)"
   ]
  },
  {
   "cell_type": "code",
   "execution_count": 352,
   "id": "d39445ef",
   "metadata": {},
   "outputs": [],
   "source": [
    "missingcustomer=customerdemographic[customerdemographic['_merge']=='left_only']"
   ]
  },
  {
   "cell_type": "code",
   "execution_count": 353,
   "id": "bb615f08",
   "metadata": {},
   "outputs": [
    {
     "name": "stdout",
     "output_type": "stream",
     "text": [
      "<class 'pandas.core.frame.DataFrame'>\n",
      "Index: 1507 entries, 851 to 4999\n",
      "Data columns (total 24 columns):\n",
      " #   Column                               Non-Null Count  Dtype   \n",
      "---  ------                               --------------  -----   \n",
      " 0   customer_id                          1507 non-null   int64   \n",
      " 1   first_name                           1507 non-null   object  \n",
      " 2   last_name                            1465 non-null   object  \n",
      " 3   gender                               1507 non-null   object  \n",
      " 4   past_3_years_bike_related_purchases  1507 non-null   int64   \n",
      " 5   DOB                                  1479 non-null   object  \n",
      " 6   job_title                            1318 non-null   object  \n",
      " 7   job_industry_category                1247 non-null   object  \n",
      " 8   wealth_segment                       1507 non-null   object  \n",
      " 9   deceased_indicator                   1507 non-null   object  \n",
      " 10  owns_car                             1507 non-null   object  \n",
      " 11  tenure                               1496 non-null   float64 \n",
      " 12  postcode                             1507 non-null   float64 \n",
      " 13  state                                1507 non-null   object  \n",
      " 14  property_valuation                   1507 non-null   float64 \n",
      " 15  avg_revenue                          0 non-null      float64 \n",
      " 16  num_of_purchase                      0 non-null      float64 \n",
      " 17  avg_profit                           0 non-null      float64 \n",
      " 18  product_line                         0 non-null      object  \n",
      " 19  product_size                         0 non-null      object  \n",
      " 20  product_class                        0 non-null      object  \n",
      " 21  brand                                0 non-null      object  \n",
      " 22  recency                              0 non-null      float64 \n",
      " 23  _merge                               1507 non-null   category\n",
      "dtypes: category(1), float64(7), int64(2), object(14)\n",
      "memory usage: 284.2+ KB\n"
     ]
    }
   ],
   "source": [
    "missingcustomer.info()"
   ]
  },
  {
   "cell_type": "code",
   "execution_count": 354,
   "id": "4548ab70",
   "metadata": {},
   "outputs": [],
   "source": [
    "#Removing empty transaction columns\n",
    "missingcustomer.drop(columns=['avg_revenue','num_of_purchase','avg_profit','product_line','product_size','product_class','brand','recency','_merge'],inplace=True)"
   ]
  },
  {
   "cell_type": "code",
   "execution_count": 355,
   "id": "0c24f258",
   "metadata": {},
   "outputs": [
    {
     "name": "stdout",
     "output_type": "stream",
     "text": [
      "<class 'pandas.core.frame.DataFrame'>\n",
      "Index: 1507 entries, 851 to 4999\n",
      "Data columns (total 15 columns):\n",
      " #   Column                               Non-Null Count  Dtype  \n",
      "---  ------                               --------------  -----  \n",
      " 0   customer_id                          1507 non-null   int64  \n",
      " 1   first_name                           1507 non-null   object \n",
      " 2   last_name                            1465 non-null   object \n",
      " 3   gender                               1507 non-null   object \n",
      " 4   past_3_years_bike_related_purchases  1507 non-null   int64  \n",
      " 5   DOB                                  1479 non-null   object \n",
      " 6   job_title                            1318 non-null   object \n",
      " 7   job_industry_category                1247 non-null   object \n",
      " 8   wealth_segment                       1507 non-null   object \n",
      " 9   deceased_indicator                   1507 non-null   object \n",
      " 10  owns_car                             1507 non-null   object \n",
      " 11  tenure                               1496 non-null   float64\n",
      " 12  postcode                             1507 non-null   float64\n",
      " 13  state                                1507 non-null   object \n",
      " 14  property_valuation                   1507 non-null   float64\n",
      "dtypes: float64(3), int64(2), object(10)\n",
      "memory usage: 188.4+ KB\n"
     ]
    }
   ],
   "source": [
    "missingcustomer.info()"
   ]
  },
  {
   "cell_type": "code",
   "execution_count": 356,
   "id": "c2cbd5c5",
   "metadata": {},
   "outputs": [],
   "source": [
    "missingcustomer['DOB']=pd.to_datetime(missingcustomer['DOB'])"
   ]
  },
  {
   "cell_type": "code",
   "execution_count": 357,
   "id": "aeaf5964",
   "metadata": {},
   "outputs": [],
   "source": [
    "#Making new column Age\n",
    "missingcustomer['Age']=2024-missingcustomer['DOB'].dt.year"
   ]
  },
  {
   "cell_type": "code",
   "execution_count": 358,
   "id": "53032fab",
   "metadata": {},
   "outputs": [
    {
     "data": {
      "text/plain": [
       "customer_id                              0\n",
       "first_name                               0\n",
       "last_name                               42\n",
       "gender                                   0\n",
       "past_3_years_bike_related_purchases      0\n",
       "DOB                                     28\n",
       "job_title                              189\n",
       "job_industry_category                  260\n",
       "wealth_segment                           0\n",
       "deceased_indicator                       0\n",
       "owns_car                                 0\n",
       "tenure                                  11\n",
       "postcode                                 0\n",
       "state                                    0\n",
       "property_valuation                       0\n",
       "Age                                     28\n",
       "dtype: int64"
      ]
     },
     "execution_count": 358,
     "metadata": {},
     "output_type": "execute_result"
    }
   ],
   "source": [
    "missingcustomer.isnull().sum()"
   ]
  },
  {
   "cell_type": "code",
   "execution_count": 359,
   "id": "8b13caa5",
   "metadata": {},
   "outputs": [],
   "source": [
    "#Dropping unnecessary columns\n",
    "missingcustomer.drop(columns=['first_name','last_name','DOB','job_title','owns_car',],inplace=True)"
   ]
  },
  {
   "cell_type": "code",
   "execution_count": 360,
   "id": "8c19163e",
   "metadata": {},
   "outputs": [
    {
     "data": {
      "text/plain": [
       "customer_id                              0\n",
       "gender                                   0\n",
       "past_3_years_bike_related_purchases      0\n",
       "job_industry_category                  260\n",
       "wealth_segment                           0\n",
       "deceased_indicator                       0\n",
       "tenure                                  11\n",
       "postcode                                 0\n",
       "state                                    0\n",
       "property_valuation                       0\n",
       "Age                                     28\n",
       "dtype: int64"
      ]
     },
     "execution_count": 360,
     "metadata": {},
     "output_type": "execute_result"
    }
   ],
   "source": [
    "missingcustomer.isnull().sum()"
   ]
  },
  {
   "cell_type": "code",
   "execution_count": 361,
   "id": "be77ce6d",
   "metadata": {},
   "outputs": [
    {
     "data": {
      "text/plain": [
       "job_industry_category\n",
       "Manufacturing         295\n",
       "Financial Services    290\n",
       "Health                222\n",
       "Retail                132\n",
       "Property              100\n",
       "IT                     85\n",
       "Entertainment          50\n",
       "Argiculture            39\n",
       "Telecommunications     34\n",
       "Name: count, dtype: int64"
      ]
     },
     "execution_count": 361,
     "metadata": {},
     "output_type": "execute_result"
    }
   ],
   "source": [
    "#Replacing missin values in job_industry_category\n",
    "missingcustomer['job_industry_category'].value_counts()"
   ]
  },
  {
   "cell_type": "code",
   "execution_count": 362,
   "id": "6d8317fd",
   "metadata": {},
   "outputs": [],
   "source": [
    "missingcustomer['job_industry_category'].fillna(method=\"ffill\",inplace=True)"
   ]
  },
  {
   "cell_type": "code",
   "execution_count": 363,
   "id": "64d260bf",
   "metadata": {},
   "outputs": [],
   "source": [
    "#Replacing missin values in tenure\n",
    "missingcustomer['tenure'].fillna(missingcustomer['tenure'].mode()[0],inplace=True)"
   ]
  },
  {
   "cell_type": "code",
   "execution_count": 364,
   "id": "5524caf4",
   "metadata": {},
   "outputs": [],
   "source": [
    "#making new column agerange\n",
    "# Define function to categorize age into groups\n",
    "def categorize_age(age):\n",
    "    if age <=26:\n",
    "        return 'Young Adult'\n",
    "    elif age <=45:\n",
    "        return 'Adult'\n",
    "    elif age <=60:\n",
    "        return 'Senior Adult'\n",
    "    else:\n",
    "        return 'Old'\n",
    "    \n",
    "# Apply the function to create a new 'Age Group' column\n",
    "missingcustomer['Age Group'] = missingcustomer['Age'].apply(categorize_age)"
   ]
  },
  {
   "cell_type": "code",
   "execution_count": 365,
   "id": "5a9b0016",
   "metadata": {},
   "outputs": [],
   "source": [
    "missingcustomer.drop(columns='Age',inplace=True)"
   ]
  },
  {
   "cell_type": "code",
   "execution_count": 366,
   "id": "fb0b73c4",
   "metadata": {},
   "outputs": [
    {
     "data": {
      "text/plain": [
       "customer_id                            0\n",
       "gender                                 0\n",
       "past_3_years_bike_related_purchases    0\n",
       "job_industry_category                  0\n",
       "wealth_segment                         0\n",
       "deceased_indicator                     0\n",
       "tenure                                 0\n",
       "postcode                               0\n",
       "state                                  0\n",
       "property_valuation                     0\n",
       "Age Group                              0\n",
       "dtype: int64"
      ]
     },
     "execution_count": 366,
     "metadata": {},
     "output_type": "execute_result"
    }
   ],
   "source": [
    "missingcustomer.isnull().sum()"
   ]
  }
 ],
 "metadata": {
  "kernelspec": {
   "display_name": "Python 3 (ipykernel)",
   "language": "python",
   "name": "python3"
  },
  "language_info": {
   "codemirror_mode": {
    "name": "ipython",
    "version": 3
   },
   "file_extension": ".py",
   "mimetype": "text/x-python",
   "name": "python",
   "nbconvert_exporter": "python",
   "pygments_lexer": "ipython3",
   "version": "3.11.5"
  }
 },
 "nbformat": 4,
 "nbformat_minor": 5
}
